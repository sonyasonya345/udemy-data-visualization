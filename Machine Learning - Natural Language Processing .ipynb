{
 "cells": [
  {
   "cell_type": "markdown",
   "metadata": {},
   "source": [
    "## NLP (Natural Language Processing)¶\n",
    "This is the notebook that goes along with the NLP video lecture!\n",
    "\n",
    "In this lecture we will discuss a higher level overview of the basics of Natural Language Processing, which basically consists of combining machine learning techniques with text, and using math and statistics to get that text in a format that the machine learning algorithms can understand!\n",
    "\n",
    "In this lecture we will go over:\n",
    "\n",
    "Part 1: Data\n",
    "Part 2: Basic Exploratory Data Analysis\n",
    "Part 3: Text Pre-Processing\n",
    "Part 4: Vectorization\n",
    "Part 6: Model Evaluation\n",
    "Part 7: Creating a Data Pipeline"
   ]
  },
  {
   "cell_type": "markdown",
   "metadata": {},
   "source": [
    "url or jupupyter notebook for this class: http://nbviewer.jupyter.org/github/jmportilla/Udemy---Machine-Learning/blob/master/NLP%20%28Natural%20Language%20Processing%29.ipynb"
   ]
  },
  {
   "cell_type": "markdown",
   "metadata": {},
   "source": [
    "#### Requirements: You will need to have NLTK installed, along with downloading the corpus for stopwords. To download everything with a conda installation, run the cell below:"
   ]
  },
  {
   "cell_type": "code",
   "execution_count": 1,
   "metadata": {
    "collapsed": true
   },
   "outputs": [],
   "source": [
    "import nltk"
   ]
  },
  {
   "cell_type": "code",
   "execution_count": 2,
   "metadata": {
    "collapsed": false
   },
   "outputs": [
    {
     "name": "stdout",
     "output_type": "stream",
     "text": [
      "showing info https://raw.githubusercontent.com/nltk/nltk_data/gh-pages/index.xml\n"
     ]
    },
    {
     "data": {
      "text/plain": [
       "True"
      ]
     },
     "execution_count": 2,
     "metadata": {},
     "output_type": "execute_result"
    }
   ],
   "source": [
    "nltk.download() #download the necessary datasets"
   ]
  },
  {
   "cell_type": "markdown",
   "metadata": {
    "collapsed": true
   },
   "source": [
    "## Part 1: Data\n",
    "We'll be using a dataset from the UCI datasets! Go to https://archive.ics.uci.edu/ml/datasets/SMS+Spam+Collection and download the zip file. Unzip it in the same place as whatever notebook your working in. (Type pwd into code cell to find out where you working directory is). Or just make sure to know the exact path to the data so you can put into your code later on.\n",
    "\n",
    "The file we are using contains a collection of more than 5 thousand SMS phone messages. You can check out the readme file for more info.\n",
    "\n",
    "Let's go ahead and use rstrip() plus a list comprehension to get a list of all the lines of text messages:"
   ]
  },
  {
   "cell_type": "code",
   "execution_count": 3,
   "metadata": {
    "collapsed": false
   },
   "outputs": [
    {
     "data": {
      "text/plain": [
       "'/Users/sonya/udemy-data-visualization'"
      ]
     },
     "execution_count": 3,
     "metadata": {},
     "output_type": "execute_result"
    }
   ],
   "source": [
    "#Data website: https://archive.ics.uci.edu/ml/datasets/SMS+Spam+Collection\n",
    "pwd"
   ]
  },
  {
   "cell_type": "code",
   "execution_count": 4,
   "metadata": {
    "collapsed": true
   },
   "outputs": [],
   "source": [
    "messages = [line.rstrip() for line in open(\"smsspamcollection/SMSSpamCollection\")]"
   ]
  },
  {
   "cell_type": "code",
   "execution_count": 6,
   "metadata": {
    "collapsed": false
   },
   "outputs": [
    {
     "name": "stdout",
     "output_type": "stream",
     "text": [
      "5574\n"
     ]
    }
   ],
   "source": [
    "print (len(messages))"
   ]
  },
  {
   "cell_type": "markdown",
   "metadata": {},
   "source": [
    "A collection of texts is also sometimes called \"corpus\". Let's print the first ten messages and number them using enumerate:\n"
   ]
  },
  {
   "cell_type": "code",
   "execution_count": 9,
   "metadata": {
    "collapsed": false
   },
   "outputs": [
    {
     "name": "stdout",
     "output_type": "stream",
     "text": [
      "0 ham\tGo until jurong point, crazy.. Available only in bugis n great world la e buffet... Cine there got amore wat...\n",
      "\n",
      "\n",
      "1 ham\tOk lar... Joking wif u oni...\n",
      "\n",
      "\n",
      "2 spam\tFree entry in 2 a wkly comp to win FA Cup final tkts 21st May 2005. Text FA to 87121 to receive entry question(std txt rate)T&C's apply 08452810075over18's\n",
      "\n",
      "\n",
      "3 ham\tU dun say so early hor... U c already then say...\n",
      "\n",
      "\n",
      "4 ham\tNah I don't think he goes to usf, he lives around here though\n",
      "\n",
      "\n",
      "5 spam\tFreeMsg Hey there darling it's been 3 week's now and no word back! I'd like some fun you up for it still? Tb ok! XxX std chgs to send, £1.50 to rcv\n",
      "\n",
      "\n",
      "6 ham\tEven my brother is not like to speak with me. They treat me like aids patent.\n",
      "\n",
      "\n",
      "7 ham\tAs per your request 'Melle Melle (Oru Minnaminunginte Nurungu Vettam)' has been set as your callertune for all Callers. Press *9 to copy your friends Callertune\n",
      "\n",
      "\n",
      "8 spam\tWINNER!! As a valued network customer you have been selected to receivea £900 prize reward! To claim call 09061701461. Claim code KL341. Valid 12 hours only.\n",
      "\n",
      "\n",
      "9 spam\tHad your mobile 11 months or more? U R entitled to Update to the latest colour mobiles with camera for Free! Call The Mobile Update Co FREE on 08002986030\n",
      "\n",
      "\n"
     ]
    }
   ],
   "source": [
    "for message_no, message in enumerate(messages[:10]):\n",
    "    print (message_no, message)\n",
    "    print (\"\\n\")"
   ]
  },
  {
   "cell_type": "markdown",
   "metadata": {},
   "source": [
    "Due to the spacing we can tell that this is a TSV (\"tab separated values\") file, where the first column is a label saying whether the given message is a normal message (commonly known as \"ham\") or \"spam\". The second column is the message itself. (Note our numbers aren't part of the file, they are just from the enumerate call).\n",
    "\n",
    "Using these labeled ham and spam examples, we'll train a machine learning model to learn to discriminate between ham/spam automatically. Then, with a trained model, we'll be able to classify arbitrary unlabeled messages as ham or spam.\n",
    "\n",
    "From the official SciKit Learn documentation, we can visualize our process:"
   ]
  },
  {
   "cell_type": "code",
   "execution_count": 11,
   "metadata": {
    "collapsed": false
   },
   "outputs": [
    {
     "data": {
      "text/html": [
       "<img src=\"http://www.allprogrammingtutorials.com/images/supervised-learning.png\"/>"
      ],
      "text/plain": [
       "<IPython.core.display.Image object>"
      ]
     },
     "execution_count": 11,
     "metadata": {},
     "output_type": "execute_result"
    }
   ],
   "source": [
    "from IPython.display import Image\n",
    "Image(url=\"http://www.allprogrammingtutorials.com/images/supervised-learning.png\")"
   ]
  },
  {
   "cell_type": "markdown",
   "metadata": {},
   "source": [
    "Instead of parsing TSV manually using Python, we can just take advantage of pandas! Let's go ahead and import it!\n"
   ]
  },
  {
   "cell_type": "code",
   "execution_count": 13,
   "metadata": {
    "collapsed": true
   },
   "outputs": [],
   "source": [
    "import pandas"
   ]
  },
  {
   "cell_type": "markdown",
   "metadata": {},
   "source": [
    "We'll use read_csv and make note of the sep argument, we can also specify the desired column names by passing in a list of names."
   ]
  },
  {
   "cell_type": "code",
   "execution_count": 14,
   "metadata": {
    "collapsed": true
   },
   "outputs": [],
   "source": [
    "#indicate that this is a tab separated file using \"\\t\"\n",
    "messages = pandas.read_csv(\"smsspamcollection/SMSSpamCollection\", sep=\"\\t\", names=[\"label\",\"message\"])"
   ]
  },
  {
   "cell_type": "code",
   "execution_count": 15,
   "metadata": {
    "collapsed": false
   },
   "outputs": [
    {
     "data": {
      "text/html": [
       "<div>\n",
       "<table border=\"1\" class=\"dataframe\">\n",
       "  <thead>\n",
       "    <tr style=\"text-align: right;\">\n",
       "      <th></th>\n",
       "      <th>label</th>\n",
       "      <th>message</th>\n",
       "    </tr>\n",
       "  </thead>\n",
       "  <tbody>\n",
       "    <tr>\n",
       "      <th>0</th>\n",
       "      <td>ham</td>\n",
       "      <td>Go until jurong point, crazy.. Available only ...</td>\n",
       "    </tr>\n",
       "    <tr>\n",
       "      <th>1</th>\n",
       "      <td>ham</td>\n",
       "      <td>Ok lar... Joking wif u oni...</td>\n",
       "    </tr>\n",
       "    <tr>\n",
       "      <th>2</th>\n",
       "      <td>spam</td>\n",
       "      <td>Free entry in 2 a wkly comp to win FA Cup fina...</td>\n",
       "    </tr>\n",
       "    <tr>\n",
       "      <th>3</th>\n",
       "      <td>ham</td>\n",
       "      <td>U dun say so early hor... U c already then say...</td>\n",
       "    </tr>\n",
       "    <tr>\n",
       "      <th>4</th>\n",
       "      <td>ham</td>\n",
       "      <td>Nah I don't think he goes to usf, he lives aro...</td>\n",
       "    </tr>\n",
       "  </tbody>\n",
       "</table>\n",
       "</div>"
      ],
      "text/plain": [
       "  label                                            message\n",
       "0   ham  Go until jurong point, crazy.. Available only ...\n",
       "1   ham                      Ok lar... Joking wif u oni...\n",
       "2  spam  Free entry in 2 a wkly comp to win FA Cup fina...\n",
       "3   ham  U dun say so early hor... U c already then say...\n",
       "4   ham  Nah I don't think he goes to usf, he lives aro..."
      ]
     },
     "execution_count": 15,
     "metadata": {},
     "output_type": "execute_result"
    }
   ],
   "source": [
    "messages.head()"
   ]
  },
  {
   "cell_type": "markdown",
   "metadata": {},
   "source": [
    "## Part 2: Basic Exploratory Data Analysis¶\n",
    "Let's check out some of the stats with some plots and the built-in methods in pandas!"
   ]
  },
  {
   "cell_type": "code",
   "execution_count": 17,
   "metadata": {
    "collapsed": false
   },
   "outputs": [
    {
     "data": {
      "text/html": [
       "<div>\n",
       "<table border=\"1\" class=\"dataframe\">\n",
       "  <thead>\n",
       "    <tr style=\"text-align: right;\">\n",
       "      <th></th>\n",
       "      <th>label</th>\n",
       "      <th>message</th>\n",
       "    </tr>\n",
       "  </thead>\n",
       "  <tbody>\n",
       "    <tr>\n",
       "      <th>count</th>\n",
       "      <td>5572</td>\n",
       "      <td>5572</td>\n",
       "    </tr>\n",
       "    <tr>\n",
       "      <th>unique</th>\n",
       "      <td>2</td>\n",
       "      <td>5169</td>\n",
       "    </tr>\n",
       "    <tr>\n",
       "      <th>top</th>\n",
       "      <td>ham</td>\n",
       "      <td>Sorry, I'll call later</td>\n",
       "    </tr>\n",
       "    <tr>\n",
       "      <th>freq</th>\n",
       "      <td>4825</td>\n",
       "      <td>30</td>\n",
       "    </tr>\n",
       "  </tbody>\n",
       "</table>\n",
       "</div>"
      ],
      "text/plain": [
       "       label                 message\n",
       "count   5572                    5572\n",
       "unique     2                    5169\n",
       "top      ham  Sorry, I'll call later\n",
       "freq    4825                      30"
      ]
     },
     "execution_count": 17,
     "metadata": {},
     "output_type": "execute_result"
    }
   ],
   "source": [
    "messages.describe()"
   ]
  },
  {
   "cell_type": "markdown",
   "metadata": {},
   "source": [
    "Let's use groupby to use describe by label, this way we can begin to think about the features that separate ham and spam!"
   ]
  },
  {
   "cell_type": "code",
   "execution_count": 18,
   "metadata": {
    "collapsed": false
   },
   "outputs": [
    {
     "data": {
      "text/html": [
       "<div>\n",
       "<table border=\"1\" class=\"dataframe\">\n",
       "  <thead>\n",
       "    <tr style=\"text-align: right;\">\n",
       "      <th></th>\n",
       "      <th></th>\n",
       "      <th>message</th>\n",
       "    </tr>\n",
       "    <tr>\n",
       "      <th>label</th>\n",
       "      <th></th>\n",
       "      <th></th>\n",
       "    </tr>\n",
       "  </thead>\n",
       "  <tbody>\n",
       "    <tr>\n",
       "      <th rowspan=\"4\" valign=\"top\">ham</th>\n",
       "      <th>count</th>\n",
       "      <td>4825</td>\n",
       "    </tr>\n",
       "    <tr>\n",
       "      <th>unique</th>\n",
       "      <td>4516</td>\n",
       "    </tr>\n",
       "    <tr>\n",
       "      <th>top</th>\n",
       "      <td>Sorry, I'll call later</td>\n",
       "    </tr>\n",
       "    <tr>\n",
       "      <th>freq</th>\n",
       "      <td>30</td>\n",
       "    </tr>\n",
       "    <tr>\n",
       "      <th rowspan=\"4\" valign=\"top\">spam</th>\n",
       "      <th>count</th>\n",
       "      <td>747</td>\n",
       "    </tr>\n",
       "    <tr>\n",
       "      <th>unique</th>\n",
       "      <td>653</td>\n",
       "    </tr>\n",
       "    <tr>\n",
       "      <th>top</th>\n",
       "      <td>Please call our customer service representativ...</td>\n",
       "    </tr>\n",
       "    <tr>\n",
       "      <th>freq</th>\n",
       "      <td>4</td>\n",
       "    </tr>\n",
       "  </tbody>\n",
       "</table>\n",
       "</div>"
      ],
      "text/plain": [
       "                                                        message\n",
       "label                                                          \n",
       "ham   count                                                4825\n",
       "      unique                                               4516\n",
       "      top                                Sorry, I'll call later\n",
       "      freq                                                   30\n",
       "spam  count                                                 747\n",
       "      unique                                                653\n",
       "      top     Please call our customer service representativ...\n",
       "      freq                                                    4"
      ]
     },
     "execution_count": 18,
     "metadata": {},
     "output_type": "execute_result"
    }
   ],
   "source": [
    "messages.groupby(\"label\").describe()"
   ]
  },
  {
   "cell_type": "code",
   "execution_count": 19,
   "metadata": {
    "collapsed": false
   },
   "outputs": [
    {
     "name": "stdout",
     "output_type": "stream",
     "text": [
      "<class 'pandas.core.frame.DataFrame'>\n",
      "RangeIndex: 5572 entries, 0 to 5571\n",
      "Data columns (total 2 columns):\n",
      "label      5572 non-null object\n",
      "message    5572 non-null object\n",
      "dtypes: object(2)\n",
      "memory usage: 87.1+ KB\n"
     ]
    }
   ],
   "source": [
    "messages.info()"
   ]
  },
  {
   "cell_type": "markdown",
   "metadata": {},
   "source": [
    "As we continue our analysis we want to start thinking about the features we are going to be using. This goes along with the general idea of feature engineering. \n",
    "\n",
    "The better your domain knowledge on the data, the better your ability to engineer more features from it. (https://en.wikipedia.org/wiki/Feature_engineering)\n",
    "\n",
    "Feature engineering is a very large part of spam detection in general. I encourage you to read up on the topic!\n",
    "\n"
   ]
  },
  {
   "cell_type": "code",
   "execution_count": 20,
   "metadata": {
    "collapsed": true
   },
   "outputs": [],
   "source": [
    " messages[\"length\"] = messages[\"message\"].apply(len)"
   ]
  },
  {
   "cell_type": "code",
   "execution_count": 21,
   "metadata": {
    "collapsed": false
   },
   "outputs": [
    {
     "data": {
      "text/html": [
       "<div>\n",
       "<table border=\"1\" class=\"dataframe\">\n",
       "  <thead>\n",
       "    <tr style=\"text-align: right;\">\n",
       "      <th></th>\n",
       "      <th>label</th>\n",
       "      <th>message</th>\n",
       "      <th>length</th>\n",
       "    </tr>\n",
       "  </thead>\n",
       "  <tbody>\n",
       "    <tr>\n",
       "      <th>0</th>\n",
       "      <td>ham</td>\n",
       "      <td>Go until jurong point, crazy.. Available only ...</td>\n",
       "      <td>111</td>\n",
       "    </tr>\n",
       "    <tr>\n",
       "      <th>1</th>\n",
       "      <td>ham</td>\n",
       "      <td>Ok lar... Joking wif u oni...</td>\n",
       "      <td>29</td>\n",
       "    </tr>\n",
       "    <tr>\n",
       "      <th>2</th>\n",
       "      <td>spam</td>\n",
       "      <td>Free entry in 2 a wkly comp to win FA Cup fina...</td>\n",
       "      <td>155</td>\n",
       "    </tr>\n",
       "    <tr>\n",
       "      <th>3</th>\n",
       "      <td>ham</td>\n",
       "      <td>U dun say so early hor... U c already then say...</td>\n",
       "      <td>49</td>\n",
       "    </tr>\n",
       "    <tr>\n",
       "      <th>4</th>\n",
       "      <td>ham</td>\n",
       "      <td>Nah I don't think he goes to usf, he lives aro...</td>\n",
       "      <td>61</td>\n",
       "    </tr>\n",
       "  </tbody>\n",
       "</table>\n",
       "</div>"
      ],
      "text/plain": [
       "  label                                            message  length\n",
       "0   ham  Go until jurong point, crazy.. Available only ...     111\n",
       "1   ham                      Ok lar... Joking wif u oni...      29\n",
       "2  spam  Free entry in 2 a wkly comp to win FA Cup fina...     155\n",
       "3   ham  U dun say so early hor... U c already then say...      49\n",
       "4   ham  Nah I don't think he goes to usf, he lives aro...      61"
      ]
     },
     "execution_count": 21,
     "metadata": {},
     "output_type": "execute_result"
    }
   ],
   "source": [
    "messages.head()"
   ]
  },
  {
   "cell_type": "markdown",
   "metadata": {},
   "source": [
    "Let's visualize this! Let's do the imports:"
   ]
  },
  {
   "cell_type": "code",
   "execution_count": 23,
   "metadata": {
    "collapsed": true
   },
   "outputs": [],
   "source": [
    "import matplotlib.pyplot as plt\n",
    "import seaborn as sns\n",
    "\n",
    "%matplotlib inline"
   ]
  },
  {
   "cell_type": "code",
   "execution_count": 24,
   "metadata": {
    "collapsed": false
   },
   "outputs": [
    {
     "data": {
      "text/plain": [
       "<matplotlib.axes._subplots.AxesSubplot at 0x11ce3d9e8>"
      ]
     },
     "execution_count": 24,
     "metadata": {},
     "output_type": "execute_result"
    },
    {
     "data": {
      "image/png": "[encoded data removed]",
      "text/plain": [
       "<matplotlib.figure.Figure at 0x11ce36080>"
      ]
     },
     "metadata": {},
     "output_type": "display_data"
    }
   ],
   "source": [
    "#histgram of the length of the messages\n",
    "\n",
    "messages[\"length\"].plot(bins=50, kind=\"hist\")"
   ]
  },
  {
   "cell_type": "code",
   "execution_count": 26,
   "metadata": {
    "collapsed": false
   },
   "outputs": [
    {
     "data": {
      "text/plain": [
       "count    5572.000000\n",
       "mean       80.489950\n",
       "std        59.942907\n",
       "min         2.000000\n",
       "25%        36.000000\n",
       "50%        62.000000\n",
       "75%       122.000000\n",
       "max       910.000000\n",
       "Name: length, dtype: float64"
      ]
     },
     "execution_count": 26,
     "metadata": {},
     "output_type": "execute_result"
    }
   ],
   "source": [
    "messages[\"length\"].describe()"
   ]
  },
  {
   "cell_type": "code",
   "execution_count": 28,
   "metadata": {
    "collapsed": false
   },
   "outputs": [
    {
     "data": {
      "text/plain": [
       "\"For me the love should start with attraction.i should feel that I need her every time around me.she should be the first thing which comes in my thoughts.I would start the day and end it with her.she should be there every time I dream.love will be then when my every breath has her name.my life should happen around her.my life will be named to her.I would cry for her.will give all my happiness and take all her sorrows.I will be ready to fight with anyone for her.I will be in love when I will be doing the craziest things for her.love will be when I don't have to proove anyone that my girl is the most beautiful lady on the whole planet.I will always be singing praises for her.love will be when I start up making chicken curry and end up makiing sambar.life will be the most beautiful then.will get every morning and thank god for the day because she is with me.I would like to say a lot..will tell later..\""
      ]
     },
     "execution_count": 28,
     "metadata": {},
     "output_type": "execute_result"
    }
   ],
   "source": [
    "#.iloc[index] is just to print the content\n",
    "#take the message dataframe, command that find me \"length\" column of the message dataframe is equal to 910\n",
    "messages[messages[\"length\"] ==910][\"message\"].iloc[0]"
   ]
  },
  {
   "cell_type": "code",
   "execution_count": 29,
   "metadata": {
    "collapsed": false
   },
   "outputs": [
    {
     "data": {
      "text/plain": [
       "array([<matplotlib.axes._subplots.AxesSubplot object at 0x11f417cf8>,\n",
       "       <matplotlib.axes._subplots.AxesSubplot object at 0x11f4c1278>], dtype=object)"
      ]
     },
     "execution_count": 29,
     "metadata": {},
     "output_type": "execute_result"
    },
    {
     "data": {
      "image/png": "[encoded data removed]",
      "text/plain": [
       "<matplotlib.figure.Figure at 0x11f29aac8>"
      ]
     },
     "metadata": {},
     "output_type": "display_data"
    }
   ],
   "source": [
    "# the by function here allow me to plot two histgram by same time\n",
    "messages.hist(column=\"length\", by=\"label\", bins=50, figsize=(10,4))"
   ]
  },
  {
   "cell_type": "markdown",
   "metadata": {},
   "source": [
    "## Part 3: Text pre-processing\n",
    "Our main issue with our data is that it is all in text format (strings). The classification algorithms that we've learned about so far will need some sort of numerical feature vector in order to perform the classification task. There are actually many methods to convert a corpus to a vector format. The simplest is the the bag-of-words approach, where each unique word in a text will be represented by one number.\n",
    "\n",
    "We'll begin by\n",
    "\n",
    "In this section we'll massage the raw messages (sequence of characters) into vectors (sequences of numbers).\n",
    "\n",
    "As a first step, let's write a function that will split a message into its individual words and return a list. We'll also remove very common words, ('the', 'a', etc..). To do this we will take advantage of the NLTK library. It's pretty much the standard library in Python for processing text and has a lot of useful features. We'll only use some of the basic ones here.\n",
    "\n",
    "Let's create a function that will process the string in the message column, then we can just use apply() in pandas do process all the text in the DataFrame.\n",
    "\n",
    "First removing punctuation. We can just take advantage of Python's built-in string library to get a quick list of all the possible punctuation:\n"
   ]
  },
  {
   "cell_type": "code",
   "execution_count": 30,
   "metadata": {
    "collapsed": true
   },
   "outputs": [],
   "source": [
    "import string\n",
    "#this will allow the word of text is represented by one number, make them in to sequence of vector\n",
    "#process the string the message column"
   ]
  },
  {
   "cell_type": "code",
   "execution_count": 31,
   "metadata": {
    "collapsed": true
   },
   "outputs": [],
   "source": [
    "mess = \"Sample message! Notice: it has punctuation\""
   ]
  },
  {
   "cell_type": "code",
   "execution_count": 32,
   "metadata": {
    "collapsed": false
   },
   "outputs": [
    {
     "data": {
      "text/plain": [
       "'!\"#$%&\\'()*+,-./:;<=>?@[\\\\]^_`{|}~'"
      ]
     },
     "execution_count": 32,
     "metadata": {},
     "output_type": "execute_result"
    }
   ],
   "source": [
    "string.punctuation"
   ]
  },
  {
   "cell_type": "code",
   "execution_count": 33,
   "metadata": {
    "collapsed": true
   },
   "outputs": [],
   "source": [
    "#check for character\n",
    "# this is saying: nopunc = character for character in mess that are not in the string.punctuation\n",
    "# so nopunc only equals to character that are not in the string.punctuation\n",
    "nopunc = [char for char in mess if char not in string.punctuation]"
   ]
  },
  {
   "cell_type": "code",
   "execution_count": 34,
   "metadata": {
    "collapsed": false
   },
   "outputs": [
    {
     "data": {
      "text/plain": [
       "['S',\n",
       " 'a',\n",
       " 'm',\n",
       " 'p',\n",
       " 'l',\n",
       " 'e',\n",
       " ' ',\n",
       " 'm',\n",
       " 'e',\n",
       " 's',\n",
       " 's',\n",
       " 'a',\n",
       " 'g',\n",
       " 'e',\n",
       " ' ',\n",
       " 'N',\n",
       " 'o',\n",
       " 't',\n",
       " 'i',\n",
       " 'c',\n",
       " 'e',\n",
       " ' ',\n",
       " 'i',\n",
       " 't',\n",
       " ' ',\n",
       " 'h',\n",
       " 'a',\n",
       " 's',\n",
       " ' ',\n",
       " 'p',\n",
       " 'u',\n",
       " 'n',\n",
       " 'c',\n",
       " 't',\n",
       " 'u',\n",
       " 'a',\n",
       " 't',\n",
       " 'i',\n",
       " 'o',\n",
       " 'n']"
      ]
     },
     "execution_count": 34,
     "metadata": {},
     "output_type": "execute_result"
    }
   ],
   "source": [
    "nopunc"
   ]
  },
  {
   "cell_type": "code",
   "execution_count": 36,
   "metadata": {
    "collapsed": false
   },
   "outputs": [],
   "source": [
    "#join the characters agian form the string\n",
    "nopunc = \"\".join(nopunc)"
   ]
  },
  {
   "cell_type": "code",
   "execution_count": 37,
   "metadata": {
    "collapsed": false
   },
   "outputs": [
    {
     "data": {
      "text/plain": [
       "'Sample message Notice it has punctuation'"
      ]
     },
     "execution_count": 37,
     "metadata": {},
     "output_type": "execute_result"
    }
   ],
   "source": [
    "nopunc"
   ]
  },
  {
   "cell_type": "markdown",
   "metadata": {},
   "source": [
    "Now let's see how to remove stopwords. We can impot a list of english stopwords from NLTK (check the documentation for more languages and info).\n",
    "\n",
    "Stopwords are just the very common that words in a languages, such as \"a, an, the, ...\""
   ]
  },
  {
   "cell_type": "code",
   "execution_count": 38,
   "metadata": {
    "collapsed": true
   },
   "outputs": [],
   "source": [
    "# use this the take out the stopwords\n",
    "\n",
    "from nltk.corpus import stopwords"
   ]
  },
  {
   "cell_type": "code",
   "execution_count": 42,
   "metadata": {
    "collapsed": false
   },
   "outputs": [
    {
     "data": {
      "text/plain": [
       "['i', 'me', 'my', 'myself', 'we', 'our', 'ours', 'ourselves', 'you', 'your']"
      ]
     },
     "execution_count": 42,
     "metadata": {},
     "output_type": "execute_result"
    }
   ],
   "source": [
    "stopwords.words(\"english\")[0:10]"
   ]
  },
  {
   "cell_type": "raw",
   "metadata": {},
   "source": [
    "Try to remove these stopwords because they are so frequent that they are not going to give any information about spam"
   ]
  },
  {
   "cell_type": "code",
   "execution_count": 43,
   "metadata": {
    "collapsed": false
   },
   "outputs": [
    {
     "data": {
      "text/plain": [
       "['Sample', 'message', 'Notice', 'it', 'has', 'punctuation']"
      ]
     },
     "execution_count": 43,
     "metadata": {},
     "output_type": "execute_result"
    }
   ],
   "source": [
    "nopunc.split()"
   ]
  },
  {
   "cell_type": "code",
   "execution_count": 45,
   "metadata": {
    "collapsed": false
   },
   "outputs": [],
   "source": [
    "clean_mess = [word for word in nopunc.split() if word.lower() not in stopwords.words(\"english\")]"
   ]
  },
  {
   "cell_type": "code",
   "execution_count": 46,
   "metadata": {
    "collapsed": false
   },
   "outputs": [
    {
     "data": {
      "text/plain": [
       "['Sample', 'message', 'Notice', 'punctuation']"
      ]
     },
     "execution_count": 46,
     "metadata": {},
     "output_type": "execute_result"
    }
   ],
   "source": [
    "clean_mess"
   ]
  },
  {
   "cell_type": "code",
   "execution_count": 49,
   "metadata": {
    "collapsed": false
   },
   "outputs": [],
   "source": [
    "#put this into a function call text-processing\n",
    "\"\"\"\n",
    "Takes in a string of text, then performs the following: \n",
    "1. Remove all the punctuation\n",
    "2. Remove all stopwords\n",
    "3. Returns a list of the cleaned text\n",
    "\"\"\"\n",
    "def text_process(mess):\n",
    "    nopunc = [char for char in mess if char not in string.punctuation]\n",
    "    \n",
    "    nopunc = \"\".join(nopunc)\n",
    "    \n",
    "    return[word for word in nopunc.split() if word.lower() not in stopwords.words(\"english\")]\n"
   ]
  },
  {
   "cell_type": "code",
   "execution_count": 50,
   "metadata": {
    "collapsed": false
   },
   "outputs": [
    {
     "data": {
      "text/html": [
       "<div>\n",
       "<table border=\"1\" class=\"dataframe\">\n",
       "  <thead>\n",
       "    <tr style=\"text-align: right;\">\n",
       "      <th></th>\n",
       "      <th>label</th>\n",
       "      <th>message</th>\n",
       "      <th>length</th>\n",
       "    </tr>\n",
       "  </thead>\n",
       "  <tbody>\n",
       "    <tr>\n",
       "      <th>0</th>\n",
       "      <td>ham</td>\n",
       "      <td>Go until jurong point, crazy.. Available only ...</td>\n",
       "      <td>111</td>\n",
       "    </tr>\n",
       "    <tr>\n",
       "      <th>1</th>\n",
       "      <td>ham</td>\n",
       "      <td>Ok lar... Joking wif u oni...</td>\n",
       "      <td>29</td>\n",
       "    </tr>\n",
       "    <tr>\n",
       "      <th>2</th>\n",
       "      <td>spam</td>\n",
       "      <td>Free entry in 2 a wkly comp to win FA Cup fina...</td>\n",
       "      <td>155</td>\n",
       "    </tr>\n",
       "    <tr>\n",
       "      <th>3</th>\n",
       "      <td>ham</td>\n",
       "      <td>U dun say so early hor... U c already then say...</td>\n",
       "      <td>49</td>\n",
       "    </tr>\n",
       "    <tr>\n",
       "      <th>4</th>\n",
       "      <td>ham</td>\n",
       "      <td>Nah I don't think he goes to usf, he lives aro...</td>\n",
       "      <td>61</td>\n",
       "    </tr>\n",
       "  </tbody>\n",
       "</table>\n",
       "</div>"
      ],
      "text/plain": [
       "  label                                            message  length\n",
       "0   ham  Go until jurong point, crazy.. Available only ...     111\n",
       "1   ham                      Ok lar... Joking wif u oni...      29\n",
       "2  spam  Free entry in 2 a wkly comp to win FA Cup fina...     155\n",
       "3   ham  U dun say so early hor... U c already then say...      49\n",
       "4   ham  Nah I don't think he goes to usf, he lives aro...      61"
      ]
     },
     "execution_count": 50,
     "metadata": {},
     "output_type": "execute_result"
    }
   ],
   "source": [
    "messages.head()"
   ]
  },
  {
   "cell_type": "markdown",
   "metadata": {},
   "source": [
    "#tokenize is just taking a list of string and turn them into token\n",
    "\n",
    "Now let's \"tokenize\" these messages. Tokenization is just the term used to describe the process of converting the normal text strings in to a list of tokens (words that we actually want).\n",
    "\n",
    "Let's see an example output on on column:\n",
    "\n",
    "Note: We may get some warnings or errors for symbols we didn't account for or that weren't in Unicode (like a british pound symbol)"
   ]
  },
  {
   "cell_type": "code",
   "execution_count": 52,
   "metadata": {
    "collapsed": false
   },
   "outputs": [
    {
     "data": {
      "text/plain": [
       "0    [Go, jurong, point, crazy, Available, bugis, n...\n",
       "1                       [Ok, lar, Joking, wif, u, oni]\n",
       "2    [Free, entry, 2, wkly, comp, win, FA, Cup, fin...\n",
       "3        [U, dun, say, early, hor, U, c, already, say]\n",
       "4    [Nah, dont, think, goes, usf, lives, around, t...\n",
       "Name: message, dtype: object"
      ]
     },
     "execution_count": 52,
     "metadata": {},
     "output_type": "execute_result"
    }
   ],
   "source": [
    "messages[\"message\"].head(5).apply(text_process)"
   ]
  },
  {
   "cell_type": "code",
   "execution_count": 53,
   "metadata": {
    "collapsed": false
   },
   "outputs": [
    {
     "data": {
      "text/html": [
       "<div>\n",
       "<table border=\"1\" class=\"dataframe\">\n",
       "  <thead>\n",
       "    <tr style=\"text-align: right;\">\n",
       "      <th></th>\n",
       "      <th>label</th>\n",
       "      <th>message</th>\n",
       "      <th>length</th>\n",
       "    </tr>\n",
       "  </thead>\n",
       "  <tbody>\n",
       "    <tr>\n",
       "      <th>0</th>\n",
       "      <td>ham</td>\n",
       "      <td>Go until jurong point, crazy.. Available only ...</td>\n",
       "      <td>111</td>\n",
       "    </tr>\n",
       "    <tr>\n",
       "      <th>1</th>\n",
       "      <td>ham</td>\n",
       "      <td>Ok lar... Joking wif u oni...</td>\n",
       "      <td>29</td>\n",
       "    </tr>\n",
       "    <tr>\n",
       "      <th>2</th>\n",
       "      <td>spam</td>\n",
       "      <td>Free entry in 2 a wkly comp to win FA Cup fina...</td>\n",
       "      <td>155</td>\n",
       "    </tr>\n",
       "    <tr>\n",
       "      <th>3</th>\n",
       "      <td>ham</td>\n",
       "      <td>U dun say so early hor... U c already then say...</td>\n",
       "      <td>49</td>\n",
       "    </tr>\n",
       "    <tr>\n",
       "      <th>4</th>\n",
       "      <td>ham</td>\n",
       "      <td>Nah I don't think he goes to usf, he lives aro...</td>\n",
       "      <td>61</td>\n",
       "    </tr>\n",
       "  </tbody>\n",
       "</table>\n",
       "</div>"
      ],
      "text/plain": [
       "  label                                            message  length\n",
       "0   ham  Go until jurong point, crazy.. Available only ...     111\n",
       "1   ham                      Ok lar... Joking wif u oni...      29\n",
       "2  spam  Free entry in 2 a wkly comp to win FA Cup fina...     155\n",
       "3   ham  U dun say so early hor... U c already then say...      49\n",
       "4   ham  Nah I don't think he goes to usf, he lives aro...      61"
      ]
     },
     "execution_count": 53,
     "metadata": {},
     "output_type": "execute_result"
    }
   ],
   "source": [
    "messages.head()"
   ]
  },
  {
   "cell_type": "markdown",
   "metadata": {},
   "source": [
    "## Continuing Normalization¶\n",
    "There are a lot of ways to continue normalizing this text. Such as Stemming (https://en.wikipedia.org/wiki/Stemming) or distinguishing by part of speech.\n",
    "\n",
    "NLTK has lots of built-in tools and great documentation on a lot of these methods. Sometimes they don't work well for text-messages due to the way a lot of people tend to use abbreviations or shorthand, For example:\n",
    "\n",
    "'Nah dawg, IDK! Wut time u headin to da club?'\n",
    "\n",
    "versus\n",
    "\n",
    "'No dog, I don't know! What time are you heading to the club?'\n",
    "\n",
    "Some text normalization methods will have trouble with this type of shorthand and so I'll leave you to explore those more advanced methods through the NLTK book online.\n",
    "\n",
    "For now we will just focus on using what we have to convert our list of words to an actual vector that SciKit-Learn can use."
   ]
  },
  {
   "cell_type": "markdown",
   "metadata": {},
   "source": [
    "## Part 4: Vectorization\n",
    "Currently, we have the messages as lists of tokens (also known as lemmas) and now we need to convert each of those messages into a vector the SciKit Learn's algorithm models can work with.\n",
    "\n",
    "Now we'll convert each message, represented as a list of tokens (lemmas) above, into a vector that machine learning models can understand.\n",
    "\n",
    "We'll do that in three steps using the bag-of-words model:\n",
    "\n",
    "Count how many times does a word occur in each message (Known as term frequency)\n",
    "\n",
    "Weigh the counts, so that frequent tokens get lower weight (inverse document frequency)\n",
    "\n",
    "Normalize the vectors to unit length, to abstract from the original text length (L2 norm)\n",
    "\n"
   ]
  },
  {
   "cell_type": "markdown",
   "metadata": {},
   "source": [
    "## Let's begin the first step:\n",
    "\n",
    "Each vector will have as many dimensions as there are unique words in the SMS corpus. We will first use SciKit Learn's CountVectorizer. This model will convert a collection of text documents to a matrix of token counts.\n",
    "\n",
    "We can imagine this as a 2-Dimensional matrix. Where the 1-dimension is the entire vocabulary (1 row per word) and the other dimension are the actual documents, in this case a column per text message.\n",
    "\n",
    "For example:\n",
    "\n",
    "<table border = “1“>\n",
    "\n",
    "Message 1 Message 2 ... Message N </tr>\n",
    "\n",
    "Word 1 Count01...0 </tr>\n",
    "\n",
    "Word 2 Count00...0 </tr>\n",
    "\n",
    "... 12...0 </tr>\n",
    "\n",
    "Word N Count 01...1 </tr> </table>\n",
    "\n",
    "Since there are so many messages, we can expect a lot of zero counts for the presence of that word in that document. Because of this, SciKit Learn will output a Sparse Matrix."
   ]
  },
  {
   "cell_type": "code",
   "execution_count": 54,
   "metadata": {
    "collapsed": true
   },
   "outputs": [],
   "source": [
    "from sklearn.feature_extraction.text import CountVectorizer"
   ]
  },
  {
   "cell_type": "code",
   "execution_count": 55,
   "metadata": {
    "collapsed": true
   },
   "outputs": [],
   "source": [
    "bow_transformer = CountVectorizer(analyzer = text_process)"
   ]
  },
  {
   "cell_type": "code",
   "execution_count": 56,
   "metadata": {
    "collapsed": false
   },
   "outputs": [
    {
     "data": {
      "text/plain": [
       "CountVectorizer(analyzer=<function text_process at 0x11f44b840>, binary=False,\n",
       "        decode_error='strict', dtype=<class 'numpy.int64'>,\n",
       "        encoding='utf-8', input='content', lowercase=True, max_df=1.0,\n",
       "        max_features=None, min_df=1, ngram_range=(1, 1), preprocessor=None,\n",
       "        stop_words=None, strip_accents=None,\n",
       "        token_pattern='(?u)\\\\b\\\\w\\\\w+\\\\b', tokenizer=None, vocabulary=None)"
      ]
     },
     "execution_count": 56,
     "metadata": {},
     "output_type": "execute_result"
    }
   ],
   "source": [
    "bow_transformer"
   ]
  },
  {
   "cell_type": "code",
   "execution_count": 57,
   "metadata": {
    "collapsed": false
   },
   "outputs": [
    {
     "data": {
      "text/plain": [
       "CountVectorizer(analyzer=<function text_process at 0x11f44b840>, binary=False,\n",
       "        decode_error='strict', dtype=<class 'numpy.int64'>,\n",
       "        encoding='utf-8', input='content', lowercase=True, max_df=1.0,\n",
       "        max_features=None, min_df=1, ngram_range=(1, 1), preprocessor=None,\n",
       "        stop_words=None, strip_accents=None,\n",
       "        token_pattern='(?u)\\\\b\\\\w\\\\w+\\\\b', tokenizer=None, vocabulary=None)"
      ]
     },
     "execution_count": 57,
     "metadata": {},
     "output_type": "execute_result"
    }
   ],
   "source": [
    "bow_transformer.fit(messages[\"message\"])"
   ]
  },
  {
   "cell_type": "code",
   "execution_count": 58,
   "metadata": {
    "collapsed": false
   },
   "outputs": [
    {
     "data": {
      "text/plain": [
       "CountVectorizer(analyzer=<function text_process at 0x11f44b840>, binary=False,\n",
       "        decode_error='strict', dtype=<class 'numpy.int64'>,\n",
       "        encoding='utf-8', input='content', lowercase=True, max_df=1.0,\n",
       "        max_features=None, min_df=1, ngram_range=(1, 1), preprocessor=None,\n",
       "        stop_words=None, strip_accents=None,\n",
       "        token_pattern='(?u)\\\\b\\\\w\\\\w+\\\\b', tokenizer=None, vocabulary=None)"
      ]
     },
     "execution_count": 58,
     "metadata": {},
     "output_type": "execute_result"
    }
   ],
   "source": [
    "bow_transformer"
   ]
  },
  {
   "cell_type": "code",
   "execution_count": 60,
   "metadata": {
    "collapsed": false
   },
   "outputs": [
    {
     "name": "stdout",
     "output_type": "stream",
     "text": [
      "11425\n",
      "{'begging': 4989, 'avent': 4862, 'Hiya': 2235, 'Pie': 3222, 'granted': 6929, 'ahead': 4582, 'nyc': 8519, 'Den': 1649, 'outsider': 8664, 'buffet': 5217, 'hiding': 7120, 'drops': 6177, 'tampa': 10310, 'eg23G': 6259, 'cried': 5783, 'better': 5020, 'expired': 6424, 'system': 10279, 'httpalto18coukwavewaveaspo44345': 7218, 'ok': 8567, 'Records': 3393, 'winning': 11095, 'clever': 5539, 'newsBy': 8416, 'mac': 7968, 'Ummmmmaah': 4112, 'Loved': 2663, 'spatula': 9970, '08718723815': 153, 'inspection': 7380, 'coccooning': 5569, 'melt': 8107, 'much': 8299, 'valid': 10824, 'hungry': 7249, 'Travel': 4033, 'luv': 7952, '09066361921': 257, 'Kallis': 2486, 'Spain': 3744, 'angels': 4670, 'sucker': 10184, 'evrydy': 6393, 'usual': 10803, 'Headset': 2198, 'go2sri': 6866, 'Thout': 3988, 'earth': 6226, '09061213237': 215, 'beverage': 5021, '83039': 833, 'mas': 8039, 'acted': 4508, 'GET': 1980, 'footie': 6651, 'Printer': 3282, 'broad': 5186, 'recharge': 9260, 'pre': 9003, '£150perWKsub': 11375, 'Jones': 2454, 'minutes': 8182, 'CAT': 1354, 'I‘ll': 2400, 'fr': 6691, 'shopthe': 9727, '5wkg': 722, 'Tired': 4001, '195': 395, 'isComing': 7432, 'Thy': 3993, 'invite': 7410, 'cud': 5799, 'Mittelschmertz': 2841, 'Put': 3302, 'retrieve': 9403, 'tonsolitusaswell': 10563, 'Jstfrnd': 2461, 'Goodo': 2075, 'Tyler': 4067, 'Made': 2776, 'lecture': 7746, 'dayhas': 5884, 'use': 10793, 'helens': 7084, 'burnt': 5235, 'JEN': 2412, 'portal': 8948, 'someday': 9908, 'nowonion': 8498, 'shorter': 9733, 'OfferThe': 3058, 'comfey': 5607, 'positive': 8954, 'Like': 2628, 'seeds': 9614, 'httpwap': 7224, 'MAN': 2697, 'TAKE': 3837, 'parkin': 8737, 'station': 10065, 'room': 9460, 'LORD': 2579, 'tones': 10553, 'toleratbcs': 10542, 'Activate': 1009, 'Whens': 4309, 'defer': 5933, '3XX': 591, 'knowing': 7641, 'passable': 8752, 'PlanetTalkInstantcom': 3230, 'callin': 5293, 'stolen': 10099, 'knocking': 7638, 'YOUVE': 4404, 'POBox': 3142, 'fuck': 6743, 'kim': 7618, 'darling': 5864, 'welltake': 11025, 'chgs': 5467, 'fellow': 6525, 'Hee': 2203, 'deepest': 5929, 'FrogAXEL': 1956, 'buzy': 5252, 'DPS': 1604, 'kickoff': 7608, 'Smile': 3713, 'tlk': 10513, 'Everyday': 1808, 'dept': 5969, 'monster': 8247, 'downloaded': 6141, 'nan': 8353, 'patent': 8761, 'promoting': 9095, 'BROKE': 1195, 'Identifier': 2348, 'uSo': 10700, 'temp': 10362, 'submitting': 10170, 'Cold': 1497, 'amount': 4654, 'youwhen': 11336, 'chickened': 5471, 'SHESIL': 3480, 'quit': 9163, '\\x91rents': 11356, '09064019788': 244, 'CAKE': 1339, 'esaplanade': 6347, 'cafe': 5264, 'cappuccino': 5327, 'Buzzzz': 1333, 'Ohi': 3061, '2B': 478, 'huiming': 7240, 'stations': 10066, 'tease': 10342, 'faded': 6453, 'Ü': 11415, 'casing': 5368, 'univ': 10746, 'call2optoutN9DX': 5283, 'CATCH': 1355, 'Ask': 1096, 'jacuzzi': 7479, 'heads': 7060, 'wwwsmsconet': 11248, 'mentionned': 8121, '2GEVA': 485, 'odi': 8541, 'dobbys': 6090, 'lennon': 7760, '08717205546': 144, 'recorded': 9268, 'Pandy': 3183, 'Waitshould': 4260, 'nokia': 8455, 'gaps': 6788, 'Thnx': 3984, 'tyler': 10692, 'cup': 5808, 'realizes': 9233, 'www80488biz': 11211, 'gre': 6936, 'Urgh': 4136, 'Dearshall': 1638, 'losers': 7892, 'Going': 2066, 'arrived': 4784, 'bleh': 5071, '449050000301': 631, 'internal': 7397, 'endowed': 6303, '6missed': 766, 'mattermsg': 8056, 'FREE': 1865, 'Natalie': 2952, 'kaila': 7565, 'drpd': 6179, 'vidnot': 10864, 'properly': 9102, 'Jason': 2430, 'weak': 10983, 'Carry': 1445, 'hit': 7135, '09050000928': 185, 'jan': 7485, 'ENJOY': 1729, 'replying': 9351, 'GAME': 1969, 'CULDNT': 1407, 'cashbalance': 5364, 'EH74RR': 1723, 'itLEAVE': 7446, 'burns': 5234, 'spageddies': 9964, 'remet': 9321, 'Holder': 2254, 'daalways': 5834, 'lifeand': 7788, 'MONKEESPEOPLE': 2742, 'bribe': 5170, 'eg': 6258, 'TELL': 3855, 'asleep': 4805, 'toDo': 10520, 'nd': 8373, 'WeddingFriend': 4287, 'OFTEN': 3034, 'soo': 9930, 'later': 7714, 'spell': 9985, 'BLOODSend': 1169, 'sources': 9957, 'travelled': 10624, 'misfits': 8189, 'temple': 10364, 'ordered': 8630, 'Hes': 2221, 'ridden': 9420, 'JorgeShock': 2457, 'suggestions': 10199, 'Chachi': 1457, 'hurt': 7259, 'MEREMEMBERIN': 2713, 'FREERingtoneReply': 1872, 'Box334': 1296, 'Bill': 1255, 'souveniers': 9960, '8714714': 873, 'Waiti': 4258, 'mising': 8190, 'joker': 7530, 'DRACULA': 1605, 'valueMorning': 10827, 'lifebook': 7789, 'abelu': 4464, 'yahoo': 11281, 'leadership': 7733, 'Requests': 3415, 'drinks': 6167, 'parent': 8729, 'WERETHE': 4213, '6Cruel': 757, '1526': 378, 'immediately': 7314, 'knowthis': 7644, 'Order': 3095, 'processed': 9074, 'Oz': 3102, 'ctla': 5797, 'l8tr': 7667, '09065394514': 250, 'occur': 8536, 'Guild': 2104, 'Available': 1110, 'february': 6514, 'stay': 10068, 'Go': 2060, 'USED': 4096, 'tarpon': 10316, 'Zahers': 4455, 'Gumbys': 2105, 'desparate': 5978, 'haha': 6998, 'Driver': 1710, 'Unsub': 4125, 'alrightOkay': 4632, 'korli': 7655, 'TheMob': 3967, 'Dependable': 1650, 'todayhe': 10529, 'Waqt': 4269, '020903': 14, 'HAVEBEEN': 2120, 'Years': 4418, 'promise': 9092, 'corect': 5717, 'continue': 5691, 'blue': 5093, 'cnl': 5564, 'MOMENT': 2741, 'ki': 7605, 'plate': 8883, 'outside': 8663, 'yah': 11280, 'SPUNOUT': 3540, 'Hot': 2273, 'Meeting': 2813, 'getiing': 6826, 'Alright': 1053, 'workout': 11161, '09066368753': 266, 'EyedDont': 1830, 'linear': 7811, 'diff': 6024, 'KeralaCircle': 2500, 'nowSKY': 8489, 'profit': 9083, 'Ure': 4134, 'lodge': 7859, 'remember': 9319, 'inviting': 7412, 'faber': 6445, 'karo': 7582, 'connections': 5672, 'Flight': 1920, 'PoBox202': 3246, 'Que': 3310, 'slices': 9837, 'ultimatum': 10709, 'Nimya': 2985, 'stuff42moro': 10154, 'shaved': 9696, 'also': 4635, 'people': 8794, 'Arul': 1092, 'ownyouve': 8682, '09050001808': 187, 'ceiling': 5389, 'sculpture': 9591, 'wedding': 11000, 'workAnd': 11156, 'R836': 3322, 'Raviyog': 3380, 'MISSIN': 2728, 'Gain': 2026, 'lady': 7677, 'opposed': 8614, 'Determined': 1655, 'handle': 7014, 'Rs': 3440, 'HIDE': 2136, 'argh': 4762, '2optout': 530, 'decimal': 5918, 'startedindia': 10055, 'Moons': 2870, 'suitemates': 10201, '4info': 668, 'Phone': 3217, 'wwwcomuknet': 11230, 'Pansy': 3184, 'ID': 2295, 'alian': 4613, 'SATJUST': 3452, 'tips': 10500, 'throwin': 10462, 'YRS': 4405, 'neck': 8383, 'Nokia': 3001, 'Beerage': 1243, 'matric': 8054, 'Dear1': 1635, 'Biro': 1258, '09065174042': 249, 'rhode': 9415, 'whole': 11063, 'CHATLINES': 1368, 'conducts': 5656, 'thesis': 10424, 'Wah': 4254, 'camcorder': 5302, '4BREKKIE': 647, 'AGE': 949, 'sips': 9796, 'iPod': 7275, 'lyfu': 7959, 'rummer': 9490, 'ABOUTAS': 934, 'slept': 9835, 'itjust': 7455, 'normally': 8469, 'thandiyachu': 10389, 'took': 10566, 'lag': 7678, 'tonitethings': 10561, 'Yen': 4423, 'lifeis': 7790, 'apology': 4722, 'furniture': 6765, 'Ups': 4131, 'foward': 6687, 'SPAM': 3526, 'freaky': 6698, '08718726270150gbpmtmsg18': 156, 'Desires': 1654, 'pence': 8789, '5free': 713, 'JULY': 2418, 'billy': 5041, 'topped': 10577, 'friendships': 6722, 'PRIVATE': 3166, 'Wa': 4252, 'exams': 6398, '“Harry': 11422, 'themed': 10412, 'Camera': 1430, 'httpwwwetlpcoukreward': 7227, 'Dial': 1660, 'urself': 10786, 'dahow': 5842, 'Vatian': 4165, 'payments': 8775, 'FFFFUUUUUUU': 1841, 'somone': 9924, '01223585334': 5, 'wow': 11184, 'Tata': 3928, 'Shola': 3665, 'oneta': 8589, 'Winner': 4323, 'okie': 8571, 'AD': 940, 'YO': 4399, 'Team': 3934, 'Idk': 2349, '3100': 556, '80155': 811, 'THEWEND': 3878, 'CSH11': 1405, 'Foley': 1924, 'oz': 8686, 'deduct': 5926, 'MFL': 2718, 'THO': 3882, 'Asian': 1095, 'freek': 6702, 'realised': 9228, 'believe': 4997, 'meso': 8131, 'Centre': 1455, '£48': 11395, 'Eckankar': 1763, 'sooo': 9934, 'artists': 4787, 'chart': 5430, 'tests': 10376, 'Muhommad': 2889, 'silence': 9777, 'modules': 8227, 'Calls': 1424, 'NAKED': 2903, 'WOULDNT': 4242, 'suckers': 10185, 'kallis': 7570, 'PERIL': 3117, 'flew': 6606, 'Matthew': 2802, 'appointment': 4735, 'TISSCOTayseer': 3884, 'Ssi': 3766, 'url': 10784, 'PO': 3136, 'expiry': 6426, 'DEAD': 1576, 'figures': 6545, 'prin': 9043, 'praises': 8994, 'BORNPLEASE': 1177, 'SEENO': 3467, 'Slow': 3709, 'pen': 8788, 'WK': 4226, 'walls': 10938, 'GMW': 1992, 'Barkleys': 1226, 'Astronomer': 1099, 'withdraw': 11110, 'owed': 8678, 'Japanese': 2429, 'Hmmm': 2240, 'ltgt': 7939, 'First': 1918, 'knw': 7647, 'queen': 9155, 'meatballs': 8086, 'LOT': 2581, 'lucozadecoukwrc': 7945, 'CIN': 1376, 'OURBACKS': 3050, 'weirdy': 11020, 'project': 9087, '1Tulsi': 406, '08712404000': 115, 'personal': 8815, 'awake': 4871, 'box': 5139, '139': 346, 'GODI': 1995, 'Gee': 2039, 'causes': 5380, '12hrs': 338, 'Atlanta': 1101, 'pieces': 8853, 'herlove': 7103, 'justbeen': 7557, 'Nofew': 2995, 'howve': 7211, 'INK': 2321, 'Ok': 3064, '3qxj9': 600, 'gona': 6887, 'emigrated': 6293, 'fumbling': 6754, 'Went': 4297, 'uOthrwise': 10699, 'NAME2': 2906, 'nw': 8517, 'politicians': 8923, 'F': 1832, 'MAHAL': 2694, 'responsible': 9385, 'hooked': 7174, 'freely': 6703, 'polytruePixRingtonesGames': 8930, 'Dude': 1713, 'ENJOYIN': 1730, 'batsman': 4943, 'paranoid': 8725, '£1450': 11370, 'Hell': 2208, 'Girl': 2054, 'guitar': 6981, '3U': 587, 'accept': 4484, '9funny': 928, 'dine': 6040, 'season': 9598, 'Staff': 3770, 'gigolo': 6841, 'sensesrespect': 9646, '26th': 466, 'nervous': 8402, 'mails': 7996, 'irritated': 7428, 'b4280703': 4883, 'Anytime': 1071, 'XXXXXX': 4373, 'behalf': 4993, 'maturity': 8059, 'mths': 8296, 'glad': 6855, 'Man': 2785, 'phones': 8835, 'currently': 5814, 'yelling': 11292, 'eta': 6358, 'proof': 9099, '4get': 664, 'Good': 2070, 'frnt': 6732, 'Kkyesterday': 2529, 'timeYour': 10488, '153': 379, 'spoke': 10006, 'joke': 7529, 'workin': 11159, 'stuffleaving': 10157, 'COMIN': 1387, 'FINISH': 1851, 'RTM': 3363, 'GOWER': 2015, 'railway': 9180, 'DATEBox1282EssexCM61XN': 1569, 'categories': 5377, 'sighs': 9768, 'thati': 10401, 'joking': 7534, 'event': 6372, 'banks': 4915, 'DRAW': 1606, 'save': 9549, '46': 640, '11mths': 325, 'transfr': 10617, 'Mmmm': 2844, 'possession': 8955, 'whr': 11066, 'latebut': 7710, 'evei': 6368, 'Prayrs': 3271, 'redred': 9277, 'illness': 7306, 'pages': 8697, 'Dips': 1671, '£54': 11403, '0': 0, 'oru': 8640, 'paragon': 8723, '1AppleDayNo': 397, 'printed': 9049, 'developer': 5993, 'details': 5987, 'five': 6590, 'boss': 5125, 'Sux': 3825, 'Greetings': 2090, 'XMAS': 4366, 'LUCKY': 2593, 'actually': 4517, 'SITUATION': 3494, 'hundredhe': 7246, 'girld': 6844, 'toughest': 10595, 'Hungry': 2286, 'brah': 5150, 'bat': 4936, 'Peace': 3196, 'onlydon': 8596, 'calld': 5288, 'BLOKES': 1168, 'maili': 7995, 'regard': 9293, 'Teletext': 3941, '1IM': 403, 'general': 6813, '08452810075over18s': 73, 'brighten': 5175, 'OTBox': 3048, 'for£38': 6683, 'downloads': 6142, 'Oi': 3062, 'gray': 6935, 'E14': 1718, 'Boy': 1300, 'soc': 9894, 'network': 8406, 'debating': 5912, 'happiest': 7032, 'bang': 4912, 'fml': 6631, 'GIFTS': 1983, 'good': 6892, 'Forever': 1931, 'unintentionally': 10742, 'Lovely': 2664, 'KR': 2482, 'cliffs': 5542, 'Feeling': 1902, 'RowW1JHL': 3437, 'fifth': 6539, 'Anyway': 1072, 'der': 5970, 'bx420ip45we': 5256, 'scenario': 9567, 'relieved': 9311, 'call2optoutYHL': 5284, 'settings': 9666, 'anand': 4663, 'Must': 2896, 'nigpun': 8436, 'jus': 7556, 'Grumpy': 2092, '4TCtxt': 656, 'Grazed': 2087, 'planning': 8881, 'anonymous': 4684, 'ym': 11307, 'feelin': 6518, 'neglet': 8397, 'motive': 8264, 'Bonus': 1282, 'everyones': 6382, 'Cs': 1544, 'nig': 8426, 'fair': 6460, 'rs': 9478, 'OKTAKE': 3039, 'weekends': 11009, 'spreadsheet': 10017, 'change': 5412, 'rolled': 9455, 'HAV': 2118, 'Sfine': 3641, '650': 740, 'ore': 8631, 'mo': 8213, 'needs': 8392, '08718727868': 161, 'msgsD': 8288, 'faster': 6490, 'Hmph': 2247, 'marry': 8037, 'landlineonly': 7690, 'TCsC': 3852, 'MEMBERS': 2712, '3SS': 585, 'laugh': 7719, 'CALL': 1341, 'Bstfrnd': 1320, 'Presleys': 3277, 'disappeared': 6058, 'unmits': 10751, '6031': 726, 'mobile': 8216, 'incident': 7334, 'wylie': 11259, 'format': 6671, 'xy': 11278, 'rhythm': 9416, 'Suite': 3810, 'house': 7202, '0871277810710pmin': 121, 'vijay': 10866, 'skirt': 9820, 'DIDNT': 1583, 'mind': 8164, 'dry': 6188, 'impression': 7326, 'Ugadi': 4101, 'Cutter': 1559, '£10000': 11364, 'sigh': 9767, 'Organizer': 3096, 'bsnl': 5206, 'hugh': 7238, '08715203677': 136, 'Say': 3604, 'Camcorder': 1429, 'loose': 7886, 'meis': 8102, 'wouldnt': 11182, 'wetherspoons': 11041, 'IMAT': 2309, 'madstini': 7981, 'max6month': 8061, 'Ptbo': 3297, 'Sam': 3590, 'possessive': 8956, 'Jackpot': 2421, 'nat': 8361, 'Mobile': 2852, '0870753331018': 94, 'yeovil': 11294, 'Spoke': 3755, 'Hospital': 2270, 'pookie': 8935, 'disclose': 6064, 'AVA': 986, 'masters': 8045, 'Wun': 4357, 'Could': 1529, 'lots': 7900, 'steve': 10086, 'taxless': 10325, 'THEMOB': 3875, '40411': 611, 'transport': 10619, 'Click': 1487, 'CALLIN': 1343, 'CNN': 1383, 'NytEC2A3LPmsg150p': 3029, 'Draw': 1706, 'alfie': 4609, 'padhegm': 8695, 'crammed': 5760, 'successful': 10182, 'allalo': 4618, 'spares': 9967, 'makes': 8001, 'Ummmawill': 4111, 'usualiam': 10804, 'swoop': 10272, 'happiness': 7034, 'wait': 10921, 'Hallaq': 2179, '1000': 295, 'usb': 10790, 'TIME': 3883, 'tv': 10677, 'head…': 7062, 'attached': 4826, 'Invaders': 2379, 'Goodnoon': 2074, 'evo': 6391, 'individual': 7349, 'mahfuuzmeaning': 7992, 'accordin': 4493, 'needing': 8390, 'advise': 4547, 'career': 5339, 'Eat': 1760, 'Kent': 2498, 'computers': 5644, 'ding': 6043, 'Hubby': 2282, 'magical': 7988, 'pause': 8768, 'MIN': 2721, 'management': 8013, 'receiving': 9255, 'FLOWER': 1856, 'dawhere': 5879, '087187272008': 160, 'heartheart': 7073, 'Gd': 2037, 'London': 2651, 'tuition': 10668, '8027': 814, 'HTTPWWWURAWINNERCOM': 2161, 'Orange': 3091, '8o': 906, 'moneyi': 8242, 'CLAIM': 1378, 'complexities': 5635, 'keypad': 7598, '07008009200': 21, 'Wendy': 4296, 'phne': 8830, 'verify': 10846, 'POBox36504W45WQ': 3144, 'drop': 6175, 'clearer': 5536, '9YT': 924, 'daal': 5833, 'meDont': 8074, 'yo': 11308, 'anywhere': 4713, 'Expected': 1823, 'parco': 8728, 'revision': 9412, 'nightsWe': 8434, 'WIV': 4225, '150pMtmsgrcvd18': 362, 'Hii': 2229, 'fal': 6465, 'viveki': 10889, '82277': 827, 'GOTTA': 2014, 'bluff': 5094, 'roommate': 9462, 'packs': 8694, 'ISH': 2330, 'Scared': 3607, 'DONTIGNORE': 1598, 'weighed': 11014, 'tank': 10311, 'coach': 5565, 'craving': 5767, 'tariffs': 10315, 'mumbai': 8310, 'decided': 5916, 'reminder': 9324, 'Dhoni': 1659, 'messaged': 8135, 'Rgds': 3419, 'thoso': 10447, 'necklace': 8384, 'bec': 4968, 'pray': 8999, 'dark': 5859, 'tog': 10531, 'lock': 7857, 'optimistic': 8619, 'sarcasm': 9535, 'Ima': 2353, 'Ibiza': 2342, 'hesitate': 7111, 'rdy': 9212, 'princeGN': 9045, '526': 695, 'jenne': 7504, 'nahi': 8343, 'Handset': 2182, 'rest': 9386, 'wot': 11178, 'gOoD': 6772, 'Something': 3728, 'forevr': 6659, 'smacks': 9853, 'KNOWS': 2481, 'wld': 11127, 'belly': 5002, 'Fools': 1928, 'lt3': 7934, 'air1': 4594, 'Yogasana': 4439, 'secrets': 9607, 'YEST': 4394, 'Miles': 2827, 'Later': 2608, 'responsibility': 9384, 'nokias': 8456, 'oficegot': 8560, 'Youd': 4440, 'Soul': 3739, 'arun': 4790, 'Tom': 4016, 'da': 5832, 'WatrDayNo': 4280, 'dt': 6191, 'cock': 5571, 'alexs': 4608, 'uv': 10810, 'Calls£1minMobsmoreLKPOBOX177HP51FL': 1427, 'Newport': 2970, 'girl': 6843, 'replyBe': 9350, 'gei': 6811, 'entertaining': 6324, 'sometime': 9917, 'cannt': 5319, 'tooPray': 10565, 'Nutter': 3024, 'ROSES': 3359, 'saibaba': 9511, 'Er': 1788, 'kip': 7625, 'b\\x92day': 5259, 'exhibition': 6413, 'lookin': 7882, 'LKPOBOX177HP51FL': 2569, 'nachos': 8340, 'randomly': 9194, 'August': 1107, 'arrange': 4779, '7cfca1a': 797, 'explicitly': 6429, 'glorious': 6861, 'woulda': 11181, 'IMPORTANT': 2312, 'Makes': 2781, 'sort': 9943, 'darlings': 5865, 'breaks': 5163, 'EURO2004': 1737, 'meowD': 8126, 'SURE': 3569, 'Jesus': 2442, 'SirI': 3691, 'sarcastic': 9536, '2814032': 470, 'toa': 10521, 'protect': 9108, 'arises': 4768, 'ringtoneget': 9430, 'wwwLdewcom1win150ppmx3age16subscription': 11217, 'noncomittal': 8460, 'Bec': 1236, 'aint': 4592, 'ireneere': 7425, 'www4tcbiz': 11210, 'click': 5540, 'MADE': 2693, 'salary': 9515, 'gdnow': 6808, 'dem': 5952, 'Reminding': 3410, 'Devils': 1657, 'dose': 6131, 'infowww100percentrealcom': 7362, '09058097189': 208, 'raping': 9198, 'alter': 4637, '6days': 763, 'brownies': 5198, 'Shell': 3652, 'heltiniIyo': 7095, 'vid': 10858, 'treat': 10629, 'e': 6217, 'studies': 10148, 'BUS': 1205, 'homeleft': 7162, '2IM': 488, 'invention': 7406, 'Best': 1249, 'breathing': 5167, '83118': 836, 'went': 11030, 'hunnyjust': 7252, 'Aaooooright': 994, 'cloud': 5555, 'enjoying': 6316, 'aft': 4561, 'provider': 9111, 'lakhs': 7683, 'oxygen': 8684, 'Woohoo': 4343, 'herethanksi': 7102, 'hiya': 7140, 'tablets': 10285, 'American': 1062, 'lighters': 7797, 'low': 7926, 'Shopping': 3668, '9153': 912, '69101': 744, 'CaRE': 1413, 'TsCs': 4045, 'partner': 8744, 'understand': 10726, 'intrepid': 7403, 'elaya': 6276, 'armands': 4772, 'Jays': 2432, 'SMS': 3506, 'JSco': 2417, 'ears': 6225, 'slippery': 9843, 'daytime': 5890, 'syllabus': 10275, 'Worth': 4348, 'Hitechnical': 2232, 'Every': 1806, 'Dan': 1620, 'Michael': 2822, 'waves': 10978, 'KNOW': 2479, 'stairs': 10038, 'bao': 4918, 'pleasant': 8893, 'hurricanes': 7256, 'missunderstding': 8200, 'NAME1': 2905, 'payasam': 8770, 'txts': 10691, 'vday': 10837, 'convincingjust': 5704, 'person2die': 8813, 'steamboat': 10078, 'Person': 3204, 'Wont': 4339, 'documents': 6096, 'siguviri': 9776, 'gets': 6828, 'bids': 5032, 'US': 4095, 'wining': 11093, 'nowSend': 8491, '4mths': 669, 'Nan': 2950, 'IsaiahD': 2384, 'uncle': 10716, 'woould': 11147, 'image': 7308, 'LITTLE': 2567, 'subsequent': 10179, 'called': 5290, 'Whatsup': 4305, 'ER': 1734, '2moro': 518, 'nora': 8464, '92H': 914, 'determine': 5989, 'chat': 5435, 'secs': 9608, 'JANX': 2409, '402': 609, 'hadya': 6996, 'vinobanagar': 10873, 'science': 9573, 'walked': 10930, 'go2': 6865, '1st': 417, '5th': 720, 'last': 7706, '09061701851': 220, 'Gnarls': 2059, '3miles': 597, 'wwwLdewcom1win150ppmx3age16': 11216, 'Air': 1032, 'Pain': 3180, 'ashes': 4795, 'sq825': 10022, 'cheetos': 5454, 'themes': 10413, 'woah': 11132, 'florida': 6619, '6986618': 750, 'packing': 8693, 'till': 10486, 'TEXTBUDDY': 3861, 'Prey': 3279, 'QuizWin': 3319, 'campus': 5307, 'almost': 4625, 'Tb': 3930, 'WeBeBurnin': 4283, 'eaten': 6235, 'legal': 7751, 'mall': 8008, 'FRNDS': 1880, 'dereks': 5972, 'airport': 4595, 'lift': 7793, 'upload': 10767, 'dl': 6084, 'fucking': 6746, 'namemy': 8350, 'httpgotbabescouk': 7221, 'admirer': 4532, 'yep': 11295, 'moment': 8233, 'Nigh': 2980, 'ps3': 9115, 'imaginationMy': 7310, 'ShrAcomOrSglSuplt10': 3673, 'purpose': 9136, 'payoh': 8776, 'giv': 6849, 'progress': 9086, 'chatter': 5437, 'folks': 6635, 'grave': 6933, 'Itll': 2388, 'Wondering': 4338, 'Gary': 2034, 'selflessness': 9632, 'doggin': 6104, 'yettys': 11301, 'DOESNT': 1592, 'importantly': 7320, 'ahold': 4585, 'wearing': 10988, 'wkg': 11122, 'wildest': 11080, 'among': 4651, 'dependents': 5963, 'Wanting': 4268, 'Aftr': 1023, 'Carlos': 1443, 'Sagamu': 3585, 'onto': 8597, 'expiredso': 6425, 'horniest': 7187, 'firmware': 6582, 'wrking': 11192, '30': 544, 'WOKE': 4229, 'Help': 2213, 'macleran': 7974, 'GOOD': 2001, 'o2coukgames': 8524, 'wifedont': 11074, '4thNOVBEHIND': 674, 'Redim': 3395, 'offer': 8546, 'Orangei': 3092, 'usGET': 10788, 'write': 11189, 'settle': 9667, 'Sen': 3622, 'worthless': 11177, 'os': 8641, 'reckon': 9264, 'wheel': 11049, 'rocks': 9450, 'course': 5749, 'skins': 9817, 'SPK': 3533, 'lined': 7812, 'halla': 7007, 'benefits': 5012, '4fil': 663, 'JAZ': 2410, '09090204448': 276, 'loveJen': 7914, '10pmin': 312, 'BeerRs': 1242, 'childish': 5484, 'league': 7736, 'charges': 5425, 'rays': 9206, 'mountain': 8267, '07808247860': 39, 'cuddling': 5802, 'Lover': 2665, 'forums': 6679, 'roger': 9452, 'prometazine': 9090, 'starer': 10048, 'dice': 6009, 'ko': 7648, 'desperate': 5980, 'Ufind': 4100, '50s': 690, 'Sac': 3581, 'SK38XH': 3497, 'fetching': 6531, 'Mind': 2830, 'comingtmorow': 5612, 'minAPN': 8162, 'allow': 4621, 'healthy': 7064, 'mother': 8261, 'ITXT': 2336, 'points': 8918, 'SYMPTOMS': 3579, 'perfect': 8800, 'getting': 6832, 'bath': 4939, 'spent': 9990, 'batt': 4944, 'Wif': 4316, 'se': 9594, 'el': 6270, 'gently': 6819, 'Waaaat': 4253, 'smarter': 9858, 'TOWNDONTMATTER': 3906, '0089my': 2, '09061701444': 218, 'shindig': 9706, 'Ambrithmaduraimet': 1061, 'beeen': 4979, 'stalking': 10040, 'askd': 4800, 'University': 4119, 'Collect': 1500, 'snickering': 9887, 'lifting': 7795, 'PETE': 3119, 'bay': 4948, 'password': 8758, 'gist': 6848, 'Nyt': 3028, '7548': 783, 'onlybettr': 8595, 'actual': 4516, 'waheed': 10918, 'MK17': 2733, '5p': 718, 'skyving': 9825, 'prepare': 9014, 'Uni': 4117, 'hits': 7137, 'Dates': 1627, 'chores': 5505, 'SonyEricsson': 3733, 'Interflora': 2377, 'ft': 6742, 'lodging': 7860, '4o': 670, 'south': 9958, '4th': 673, 'invnted': 7413, 'past': 8759, 'Beth': 1251, 'STU': 3556, 'RUDI': 3365, 'TRUE': 3909, 'DRUNK': 1611, 'allows': 4623, 'msgs': 8286, 'Soon': 3734, 'ts': 10658, 'youso': 11331, 'bought\\x94braindance\\x94a': 5133, 'WeLL': 4284, 'profiles': 9082, 'budget': 5214, 'Ab': 995, 'Video': 4172, 'strike': 10133, '08701417012150p': 79, 'stayed': 10069, 'motorola': 8266, 'cozy': 5757, 'lor': 7888, 'comb': 5598, 'walks': 10933, 'convincing': 5703, 'national': 8362, 'Enamous': 1781, 'THANX': 3867, 'njan': 8447, 'HEY': 2131, 'Poly': 3254, 'holiday': 7153, 'vitamin': 10887, '2nhite': 527, 'Reflection': 3399, 'collected': 5587, 'CARD': 1349, 'aunt': 4844, 'crashed': 5764, 'lion': 7821, 'hon': 7165, 'work': 11155, 'CANT': 1348, 'mca': 8070, 'drvgsTo': 6187, '£125': 11368, 'moon': 8253, 'enemy': 6306, 'sea': 9595, '1': 292, 'unfolds': 10734, 'Bless': 1268, 'dreams': 6156, 'repeat': 9341, 'letter': 7771, 'dey': 5996, 'crave': 5766, 'itwhichturnedinto': 7462, '40mph': 614, 'whileamp': 11058, '6hrs': 764, 'page': 8696, 'Msgs': 2887, 'Pls': 3237, 'realized': 9232, 'def': 5931, 'cloth': 5553, '£5000': 11399, '08704439680TsCs': 89, 'lyk': 7961, 'reset': 9370, 'march': 8027, 'b4190604': 4882, 'dubsack': 6194, 'Id': 2346, '4882': 644, 'Unsubscribe': 4126, 'students': 10146, 'Prize': 3283, '2morrow': 521, 'aptitude': 4750, 'yijue': 11305, 'INTELLIGENT': 2324, 'Ard': 1084, 'Lol': 2648, 'idu': 7296, '181104': 389, 'COLLECT': 1384, 'summer': 10206, 'shop': 9724, 'awesome': 4875, 'varaya': 10830, 'Amanda': 1059, 'would': 11180, 'Hearts': 2202, 'scenery': 9568, 'boyy': 5148, 'Cha': 1456, 'DVD': 1614, 'hourish': 7200, 'beyond': 5023, 'Hmmmhow': 2242, 'bcums': 4956, '9061100010': 911, 'MIDNIGHT': 2719, 'Hardcore': 2188, 'HL': 2139, 'burning': 5233, '1405': 348, 'tried': 10638, 'obese': 8527, '78': 787, 'chest': 5462, 'Although': 1056, 'Kkfrom': 2519, 'cysts': 5831, 'bell': 4999, 'Price': 3280, 'road': 9441, 'bedroom': 4978, 'Edison': 1764, 'publish': 9120, 'Disconnect': 1675, 'fakemy': 6463, 'knowyetunde': 7646, '08715203694': 138, '88600': 883, 'lovers': 7920, 'SIMPLE': 3491, 'somethin': 9914, 'Weiyi': 4291, 'bakra': 4904, 'jeetey': 7501, 'Havnt': 2195, 'trouser': 10646, 'wwwflirtpartyus': 11232, '2WATERSHD': 503, 'ipod': 7424, 'bags': 4901, 'Ee': 1765, 'Aww': 1115, 'intelligent': 7389, '4rowdy': 671, '2EZ': 482, 'senrddnot': 9644, 'warned': 10953, 'PLS': 3134, 'Pass': 3191, 'Quiz': 3318, 'notifications': 8483, 'ripped': 9435, 'txtin': 10688, 'PLEASE': 3132, 'christ': 5508, 'nights': 8432, 'homewot': 7164, 'STATION': 3546, 'alibi': 4614, 'solve': 9904, 'thesedays': 10423, 'City': 1484, 'Optout': 3090, 'Company': 1507, 'snowman': 9892, 'hostel': 7194, 'Shoranur': 3669, 'shoppin': 9725, 'Subs': 3802, 'Short': 3670, 'bunkers': 5226, 'olayiwolas': 8579, '86888': 866, 'collection': 5589, '09061790121': 229, 'Hav': 2193, 'Voucher': 4184, 'HmmBad': 2239, 'crossing': 5787, 'Tsunami': 4049, 'tai': 10293, 'finally': 6559, 'divert': 6080, 'BLOKE': 1167, 'Toxic': 4027, 'doesn‘t': 6101, 'Yunny': 4449, 'Tel': 3939, 'PRIVACY': 3165, 'ppt150x3normal': 8986, '247MP': 452, 'inperialmusic': 7375, 'flood': 6616, 'creative': 5772, 'Hol': 2252, 'broke': 5187, 'massive': 8043, 'minecraft': 8170, '21870000Hi': 441, 'fever': 6532, 'Miserable': 2835, 'roast': 9444, 'POBox334': 3143, 'charming': 5429, 'Book': 1284, 'tigress': 10482, 'callback': 5285, 'Kgive': 2502, 'rec': 9246, 'careswt': 5346, 'wrecked': 11186, 'reasonable': 9239, 'United': 4118, 'Means': 2807, 'RECEIVE': 3337, 'animal': 4672, 'charts': 5431, 'tomeandsaidTHIS': 10545, 'terms': 10369, 'pushes': 9139, 'Express': 1827, 'wikipediacom': 11078, 'prasad': 8998, 'Yay': 4415, 'arms': 4774, 'headstart': 7061, 'PIX': 3130, 'YOUCLEAN': 4401, 'Sad': 3582, 'wwwtxt82228com': 11256, 'PS': 3171, 'brainy': 5153, 'Dat': 1625, 'XXX': 4369, 'Tears': 3936, 'Z': 4452, 'cyclists': 5830, 'players': 8887, 'httpwwwwtlpcouktext': 7230, '08714712379': 126, '450': 635, 'theyll': 10426, 'Prof': 3287, '09066362206': 258, 'isn\\x92t': 7441, 'blank': 5065, 'slippers': 9842, 'MITE': 2731, 'thanks2': 10394, 'brains': 5152, 'GBP5month': 1976, 'landlines': 7691, 'Waiting': 4259, 'TA': 3835, 'Still': 3783, 'prior': 9051, 'secretly': 9606, 'thank': 10392, 'icky': 7285, 'boye': 5144, 'sn': 9882, 'chinese': 5494, 'Luxury': 2682, 'Married': 2796, '08712103738': 103, 'KNACKERED': 2478, 'str': 10117, 'FREEFONE': 1867, 'thinkin': 10436, 'failed': 6456, 'Pleasure': 3236, 'TH': 3865, 'Pest': 3206, 'Crab': 1534, '4JX': 651, 'newest': 8414, 'lyf': 7958, 'matters': 8057, 'trends': 10636, 'nowUse': 8493, 'WHASSUP': 4214, 'studyn': 10152, '731': 780, 'loans': 7852, 'xxxx': 11274, 'scallies': 9562, 'creep': 5777, 'murder': 8316, 'theres': 10421, 'lyricalladie21F': 7962, '31': 555, 'Ben': 1246, 'lingerie': 7816, 'Thatll': 3962, 'said': 9512, 'resort': 9376, 'Text': 3953, 'DRIVE': 1610, 'deadWell': 5894, 'HELP': 2130, 'flurries': 6625, 'Brought': 1318, 'oredi': 8632, '1148': 321, 'half8th': 7005, '150pSMS': 363, 'Breaker': 1308, 'auntys': 4848, 'youd': 11318, 'possibility': 8958, 'jb': 7497, 'future': 6767, 'meh': 8099, 'LMAO': 2570, 'wc1n3xx': 10982, 'specialcall': 9974, 'earlierwe': 6220, 'served': 9659, 'Aft': 1019, 'bowls': 5138, 'already': 4629, 'Franxx': 1939, 'LIKELY': 2561, 'callsmessagesmissed': 5298, 'rahul': 9178, 'spoken': 10007, 'ride': 9421, 'Max10mins': 2803, 'TEXTCOMP': 3862, 'giggle': 6840, 'MO': 2737, 'forgotten': 6667, 'darlin': 5863, 'MAD1': 2691, 'Wet': 4299, 'sip': 9795, 'Deliver': 1645, 'reached': 9216, 'Gods': 2064, 'ikea': 7303, '6Ramaduth': 760, 'Keepintouch': 2495, 'chex': 5463, 'WORRYC': 4238, '9996': 922, 'Gravity': 2086, 'wrote': 11197, 'suits': 10202, '087147123779am7pm': 125, 'Wish': 4329, '1st4Terms': 418, 'limiting': 7807, 'cause': 5379, 'call2optout4QF2': 5277, 'dislikes': 6071, 'wi': 11067, 'BEGIN': 1154, 'somebody': 9907, 'MATCHED': 2704, 'Nope': 3009, 'met': 8144, 'invoices': 7414, 'blankets': 5068, 'andres': 4667, 'mag': 7983, '2exit': 511, 'answerin': 4691, 'kanji': 7574, 'sleepingand': 9832, 'missin': 8194, 'Morning': 2874, 'Rum': 3442, 'Audrey': 1105, 'sayask': 9555, '6pm': 768, 'mtnl': 8297, 'pocy': 8914, 'violence': 10875, 'vry': 10906, 'hava': 7050, '08712400603': 109, 'drizzling': 6172, '5000': 687, 'chill': 5489, 'hun': 7244, 'flights': 6609, 'joinedso': 7527, 'Turns': 4056, 'rounds': 9470, 'Thts': 3989, 'cumming': 5807, 'brilliantly': 5178, '09064018838': 242, 'lets': 7770, 'drugdealer': 6181, 'sivatats': 9810, 'Kkany': 2515, 'drawPlease': 6151, 'find': 6562, 'GBPweek': 1977, 'Ques': 3313, 'persons': 8817, 'Save': 3602, 'chick': 5469, 'crore': 5785, 'dub': 6193, 'pouts': 8978, 'locks': 7858, 'StrongBuy': 3793, 'whillTake': 11059, 'ttyl': 10663, 'xins': 11265, '8830': 882, '89123': 893, 'sue': 10190, '2stoptxt': 535, '2yr': 541, '09050090044': 191, 'SORRY': 3521, 'ends': 6304, 'cave': 5382, 'wth': 11202, 'cold': 5582, 'account': 4496, 'wwwbridalpetticoatdreamscouk': 11225, 'Sara': 3595, 'superb': 10221, 'favor': 6504, 'fridge': 6715, 'Cuz': 1560, 'janarige': 7486, 'TEL': 3854, 'Heart': 2201, '84484': 852, 'hand': 7011, 'Tear': 3935, 'vtired': 10909, 'jocks': 7518, 'OPT': 3045, 'age23': 4571, 'scared': 9565, 'iZ': 7276, 'GIVEN': 1989, 'Loan': 2644, 'poo': 8934, 'touched': 10593, 'wounds': 11183, 'nosh': 8474, '400minsCall': 608, 'chik': 5473, 'BOUTxx': 1179, 'Psychologist': 3296, 'thkin': 10443, 'del': 5941, 'molestedsomeone': 8231, 'opponenter': 8610, 'fills': 6552, 'Including': 2358, 'paining': 8703, 'shud': 9756, 'call09050000327': 5276, 'irritating': 7429, '2KBSubject': 489, 'HOME': 2145, 'DUMB': 1613, 'OKDEN': 3038, 'SmithSwitch': 3717, 'malarky': 8006, 'captain': 5329, 'UU': 4098, 'shd': 9697, 'neither': 8400, 'TOTAL': 3902, 'POOR': 3155, '20pmin': 437, 'trade': 10602, 'rightly': 9423, 'gprs': 6916, 'linerental': 7813, 'Vettam': 4170, 'aa': 4460, 'thx': 10475, 'leonas': 7764, 'Auntie': 1108, 'spaces': 9963, 'minimum': 8173, 'europe': 6363, 'sat': 9539, 'everybodys': 6378, '5Gardener': 703, 'biatch': 5030, 'enters': 6322, 'lives': 7842, 'lou': 7907, 'luvd': 7954, 'rang': 9196, 'Guessin': 2102, 'RememberI': 3404, 'konw': 7652, 'Next': 2972, 'volcanoes': 10896, 'limits': 7808, 'status': 10067, 'gold': 6883, 'subscription': 10176, '2025050': 433, 'prize': 9058, 'planet': 8878, 'bookedthe': 5112, 'tirunelvali': 10504, 'card': 5332, 'seing': 9626, 'Mmmmmm': 2846, 'ROOM': 3358, 'accumulation': 4499, 'ahwhat': 4588, 'message': 8133, 'jazz': 7496, 'struggling': 10141, 'iouri': 7417, 'Contact': 1516, 'jod': 7519, 'rd': 9211, 'TOP': 3900, 'pub': 9117, 'cake': 5266, 'village': 10872, 'Eyes': 1831, 'lacking': 7672, 'flying': 6629, 'uwana': 10812, 'Purity': 3299, 'V': 4145, '80608': 817, 'keeping': 7589, 'cooked': 5706, 'gut': 6983, 'Bbq': 1228, 'chikkuil': 5479, 'gal': 6776, 'Cut': 1556, 'shoving': 9743, 'Gift': 2051, 'classes': 5528, 'Aldrine': 1043, 'tons': 10562, 'failure': 6458, 'chances': 5411, 'GOODNIGHT': 2005, 'sale': 9516, 'thnk': 10445, 'desert': 5975, 'grab': 6920, 'Auction': 1104, 'utter': 10807, 'sachinjust': 9503, 'Drinks': 1709, 'arent': 4758, 'taxi': 10324, 'Acnt': 1007, 'webadres': 10995, 'autocorrect': 4852, 'permission': 8808, 'dont': 6123, 'nitro': 8444, 'nature': 8366, 'SLEPT': 3503, 'Junna': 2465, 'BOX': 1180, 'Goodmorningmy': 2072, 'W111WX': 4187, 'dec': 5913, '4EVA': 649, 'ESPECIALLY': 1735, '08450542832': 70, 'Plsi': 3238, 'Appt': 1080, 'Sprint': 3761, 'e£nd': 6442, 'meaningful': 8081, 'DIDN\\x92T': 1584, 'VIA': 4150, 'MUCH': 2761, 'teluguthts': 10360, 'advisors': 4549, 'note': 8476, 'stays': 10072, 'either': 6269, 'inc': 7331, 'Everything': 1810, 'decisions': 5920, 'Break': 1307, 'infections': 7351, '08000776320': 52, 'bakrid': 4905, 'four': 6685, 'dinner': 6045, '3000': 546, 'IDPS': 2297, 'c': 5261, 'attributed': 4837, 'birds': 5047, 'sundayish': 10212, 'conform': 5665, 'mono': 8245, 'fidalfication': 6535, 'audreys': 4843, 'Nokia6650': 3003, '08700621170150p': 75, 'mufti': 8304, 'Already': 1052, 'worrying': 11172, '7ish': 798, 'inst': 7381, 'born': 5123, 'UK': 4074, 'boat': 5098, 'Pa': 3178, 'lovely': 7916, 'Kkcongratulation': 2518, 'W4': 4191, 'evenings': 6371, 'Colour': 1501, 'Roger': 3432, 'congrats': 5668, 'call2optoutHF8': 5279, 'cutest': 5825, 'shoreThe': 9729, 'clue': 5559, 'httpimg': 7222, 'shanghai': 9690, 'misbehaved': 8187, 'tue': 10664, 'babes': 4886, 'count': 5742, 'HOSPITAL': 2152, '4uTxt': 679, 'Vouchers': 4185, 'joining': 7528, 'EVEN': 1739, 'Infact': 2370, 'Nothing': 3014, 'swashbuckling': 10255, 'BARMED': 1138, 'tt': 10661, 'Aaniye': 993, 'Fat': 1898, 'kbut': 7585, '6romantic': 769, 'deposited': 5966, 'World': 4347, 'SELFINDEPENDENCE': 3468, 'concert': 5651, 'fingers': 6569, 'MSG': 2757, 'Mobileupd8': 2856, 'BETTER': 1157, 'bday': 4958, 'club4mobilescom': 5558, 'NAME': 2904, 'correct': 5721, 'Thanx': 3961, 'score': 9576, 'anyplaces': 4704, 'dancin': 5850, 'yan': 11284, '1131': 318, 'evil': 6388, 'sore': 9938, 'TheMobHit': 3968, 'salespee': 9519, 'returns': 9407, 'PARTY': 3110, '09065069154': 246, 'fb': 6508, 'inner': 7370, 'APPY': 972, 'vouchers': 10903, 'Buffy': 1324, 'downs': 6143, 'Chinatown': 1474, 'vijaykanth': 10867, 'painit': 8704, 'ACTION': 938, 'TCRW1': 3849, 'DIRTY': 1586, 'cherish': 5459, 'locations': 7856, 'supose': 10225, 'muchand': 8300, 'salt': 9522, 'toyota': 10599, 'wwwrtfsphostingcom': 11245, 'hows': 7210, 'important': 7319, '£s': 11413, 'learned': 7738, '145': 350, 'Yavnt': 4412, 'meaningless': 8082, 'FREINDS': 1873, 'OptOut': 3089, 'nowadayslot': 8494, 'iam': 7277, 'lk': 7844, 'HARD': 2112, 'priest': 9042, 'Spiral': 3751, 'yday': 11288, 'aid': 4589, 'massages': 8041, 'stuffed': 10155, 'Prepare': 3275, 'track': 10601, '42810': 622, 'CustomerCare': 1555, 'Friends': 1952, '2morow': 519, '7oz': 799, 'Others': 3099, 'Offer': 3057, 'Co': 1492, 'lounge': 7909, 'sophas': 9937, 'sextextukcom': 9674, 'horrible': 7189, '83600': 844, 'packalso': 8692, 'NEW': 2915, 'vehicle': 10841, 'fav': 6502, '7pm': 800, 'cya': 5829, 'yes': 11297, 'intend': 7390, 'stillmaybe': 10094, '18yrs': 394, 'Booked': 1285, 'employee': 6294, 'xxxxxxxxxxxxxX': 11277, 'wud': 11204, 'Show': 3672, 'ILLSPEAK': 2307, 'quick': 9160, 'oclock': 8538, 'revealing': 9410, 'falling': 6469, 'machiany': 7970, 'textbook': 10380, 'traveling': 10623, 'moneeppolum': 8240, '4the': 675, 'afraid': 4558, 'unredeemed': 10754, 'loves': 7921, 'himthen': 7128, 'Phil': 3215, 'Polyphonic': 3256, 'bloo': 5085, 'likes': 7803, 'wrench': 11187, 'lol': 7871, 'Wylie': 4358, 'Hasbroin': 2191, 'Idea': 2347, 'agency': 4572, 'callcost': 5286, 'limit': 7806, 'poker': 8919, 'battle': 4946, 'Science': 3610, 'macs': 7975, 'attack': 4827, 'GR8FUN': 2016, 'wwwringtonekingcouk': 11243, 'slob': 9845, 'Amazing': 1060, 'REALISE': 3330, '515pm': 692, 'nusstu': 8514, 'Com': 1502, 'Hogli': 2250, 'kilos': 7617, 'bfore': 5026, 'filling': 6551, 'toClaim': 10519, 'banned': 4916, 'Points': 3251, 'registration': 9298, 'IBH': 2292, 'cooperative': 5711, 'FROMWRK': 1882, 'provided': 9110, 'b‘ham': 5260, 'Burns': 1329, 'Choose': 1478, 'realy': 9235, 'financial': 6561, 'caught': 5378, '80086': 809, 'Keng': 2496, 'father': 6495, 'Mystery': 2901, 'language': 7695, 'irulinae': 7431, 'PasswordsATMSMS': 3192, 'AGAINcall': 948, 'blakes': 5063, 'washob': 10958, 'local': 7854, 'CALLED': 1342, 'Whenevr': 4307, 'thatd': 10399, 'hereremember': 7101, 'frnds': 6728, 'Yeshere': 4430, 'Reference': 3398, 'IM': 2308, 'term': 10368, 'connection': 5671, 'natural': 8365, 'I\\x92m': 2398, 'videochat': 10860, 'Sympathetic': 3832, '09057039994': 195, 'miltaZindgi': 8160, 'fucked': 6744, 'anybody': 4698, '09066364311': 261, '3d': 592, 'push': 9138, 'bonus': 5107, 'Hmm': 2238, '87021': 867, 'mnth': 8212, 'HMV': 2142, 'Syria': 3833, '80878': 819, 'bet': 5017, 'CM': 1382, 'spiritual': 9996, 'summon': 10207, 'BTHERE': 1199, 'sound': 9952, 'receivea': 9253, 'POBox365O4W45WQ': 3145, 'Ditto': 1678, 'Prashanthettans': 3269, 'Yesmum': 4432, 'gandhipuram': 6784, 'process': 9072, 'fancies': 6479, 'lm': 7845, 'kaypoh': 7583, 'fri': 6711, 'serving': 9663, 'ardÉ': 4756, 'humans': 7243, 'fastpls': 6492, '09058094454': 198, 'Icic': 2345, 'vs': 10907, 'K52': 2469, 'burn': 5232, '300': 545, 'mumHas': 8309, 'messageIts': 8134, 'mondaynxt': 8238, 'bsn': 5205, 'registered': 9297, 'korean': 7654, 'twelve': 10681, 'SirjiI': 3693, 'uncomfortable': 10718, 'REBEL': 3335, 'popcorn': 8942, 'BORING': 1176, 'Uhhhhrmm': 4104, 'girls': 6847, 'Cool': 1519, 'bluray': 5096, 'Kanagu': 2487, 'groundamla': 6957, '6ZF': 762, 'renting': 9336, 'baig': 4902, 'voucher': 10902, '69855': 749, 'parentsi': 8732, 'wishing': 11106, 'Shop': 3666, '£3350': 11389, 'vegas': 10838, 'RINGTONE': 3354, 'beggar': 4988, 'Sorryin': 3736, 'satisfied': 9543, 'cld': 5531, 'Imagine': 2354, 'court': 5750, 'conclusion': 5652, 'FILTH': 1846, 'across': 4505, 'paperwork': 8719, 'control': 5695, 'sorts': 9947, 'Poor': 3259, 'tkts': 10512, 'fooled': 6647, 'poem': 8915, 'punto': 9130, 'resizing': 9372, 'Min': 2829, 'loyal': 7930, 'dogging': 6105, 'gbpsms': 6805, 'nuther': 8515, 'Bognor': 1279, 'kb': 7584, 'cheese': 5452, 'nowSavaMobmember': 8490, 'LOG': 2573, 'certainly': 5400, 'HAVIN': 2123, 'sehwag': 9625, 'handset': 7016, 'deluxe': 5951, 'Kerala': 2499, 'smeone': 9864, 'FUCKED': 1884, 'todays': 10530, 'Ahhh': 1028, 'pours': 8977, 'tour': 10596, 'confirmdeny': 5663, 'UPYEH': 4086, 'like': 7800, 'whenever': 11051, 'Omg': 3074, 'lush': 7951, 'someplace': 9912, 'uks': 10707, 'kill': 7613, 'Y87': 4381, 'Isnt': 2386, 'glands': 6856, 'Datz': 1629, 'HOPEU': 2150, 'Lowcost': 2669, 'tsunamis': 10660, 'chg': 5466, 'repeating': 9342, 'BOUT': 1178, 'type': 10694, 'building': 5220, 'cheat': 5441, 'SENT': 3471, 'okthenwhats': 8574, 'todaybut': 10527, 'shopping': 9726, 'cash': 5363, 'property': 9103, '30Apr': 551, 'youdoing': 11320, 'CER': 1361, 'Hospitals': 2271, 'sell': 9633, 'battery': 4945, 'rates': 9201, 'Sky': 3702, 'Schools': 3609, 'Toledo': 4014, '800': 804, 'tensed': 10367, 'FINEST': 1850, 'freaked': 6696, 'impress': 7324, 'sirs': 9798, '20': 424, 'thriller': 10459, 'hopeafternoon': 7179, 'pix': 8867, 'CoolMob': 1520, 'TaKe': 3921, 'careumma': 5347, 'Geoenvironmental': 2044, 'trying': 10657, 'dreamlove': 6155, 'facts': 6452, 'body': 5099, 'TX': 3915, 'yi': 11303, 'hectic': 7080, 'gang': 6786, 'patients': 8764, 'PAYED2DAY': 3114, 'flowers': 6622, 'Try': 4041, 'vaazhthukkal': 10817, '40GB': 613, 'LookAtMe': 2653, 'risks': 9437, 'Chasing': 1463, 'BOX385': 1183, 'links': 7819, 'frnd': 6726, 'anythin': 4706, 'nordstrom': 8465, 'conveying': 5701, 'kalisidare': 7569, 'begun': 4992, 'Dont4get2text': 1695, 'HehE': 2205, 'bk': 5058, 'Catching': 1449, 'kintu': 7623, 'fact': 6450, 'receipts—well': 9251, 'manky': 8019, 'restocked': 9391, 'features': 6511, 'la': 7668, 'LOVEME': 2587, 'Txting': 4065, 'Information': 2372, 'hopeSo': 7178, 'nydc': 8520, 'exposes': 6431, 'coin': 5578, 'speak': 9971, 'nag': 8341, 'paper': 8717, 'FIND': 1848, 'holy': 7158, '80488': 815, 'apart': 4714, 'AGO': 951, 'INR': 2322, 'WKENT150P16': 4228, 'outta': 8666, 'gate': 6796, 'Obviously': 3054, 'CDs': 1360, '08719839835': 175, 'photos': 8837, 'esplanade': 6354, 'rip': 9434, '5ful': 714, '09056242159': 194, 'abdomen': 4463, 'atrocious': 4824, 'sumthin': 10208, 'Bring': 1312, 'outstanding': 8665, 'Mathe': 2799, '08719899217': 176, 'Watch': 4276, 'Gamestar': 2031, 'marriageprogram': 8035, 'vary': 10834, 'Jolly': 2452, 'cam': 5301, 'spice': 9991, 'Hoping': 2268, 'distract': 6076, 'WANNA': 4197, 'Brainless': 1302, 'Karaoke': 2488, 'SWAP': 3575, '09094646631': 279, 'rem': 9315, 'shexy': 9705, 'content': 5687, 'crushes': 5792, 'doesn\\x92t': 6100, 'looks': 7884, 'subscribe': 10172, 'loyalty': 7931, 'transfered': 10615, 'SenderName': 3625, 'Yeesh': 4419, 'football': 6649, 'GETTIN': 1981, 'killed': 7614, 'evening': 6370, 'Apps': 1079, 'Boo': 1283, 'green': 6944, 'Lux': 2681, 'tait': 10294, 'ITTB': 2335, 'Ah': 1027, 'bears': 4962, 'clock': 5544, 'happened': 7027, 'Headin': 2197, '545': 701, '08717509990': 147, '10am': 307, 'IKNOW': 2303, 'u': 10698, 'needy': 8393, 'minute': 8181, 'rather': 9202, 'apologise': 4720, 'IP4': 2328, 'TASTS': 3845, 'mjzgroup': 8209, 'Dunno': 1715, 'UR': 4087, 'LIKE': 2560, 'app': 4723, 'sic': 9763, 'it‘s': 7464, 'code': 5574, 'Jamster': 2424, 'LeafDayNo': 2615, 'performed': 8803, 'nearly': 8378, 'MONKEYAROUND': 2743, 'frens': 6708, 'school': 9571, 'kegger': 7591, 'twice': 10683, 'members': 8109, 'tagged': 10291, 'meneed': 8116, 'poorly': 8939, 'Euro2004': 1798, 'GOD': 1994, 'GOODEVENING': 2002, 'trains': 10608, 'disasters': 6061, 'brisk': 5183, 'TBSPERSOLVO': 3846, 'weakness': 10984, 'Services': 3635, 'Motivate': 2879, 'shoulders': 9737, 'two': 10685, 'kvb': 7662, 'grandmas': 6928, 'raise': 9183, 'expects': 6418, 'rupaul': 9496, 'several': 9671, 'frosty': 6738, 'kick': 7606, 'remind': 9322, 'become': 4970, 'rateTCs': 9200, 'islands': 7439, 'install': 7382, 'service': 9661, 'organise': 8634, 'SHEFFIELD': 3479, 'leftovers': 7749, 'steering': 10080, 'satisfy': 9544, 'suppose': 10233, 'TRUBLE': 3908, '3Wife': 590, 'ammo': 4649, 'Nojst': 3000, 'RALLY': 3323, 'eye': 6440, 'Even': 1802, 'SERIOUSLY': 3472, 'Dogging': 1688, 'tip': 10499, 'cell': 5394, 'lehHaha': 7755, 'chiong': 5496, 'familiar': 6473, 'embassy': 6290, 'Hey': 2222, 'lavender': 7725, 'LIKINGBE': 2563, 'grams': 6924, 'slow': 9848, 'jenny': 7505, 'humanities': 7242, 'Nic': 2974, 'mrt': 8281, 'ph': 8823, 'Txt': 4062, 'icicibankcom': 7284, 'espell': 6353, '84128': 849, 'wwwsantacallingcom': 11246, 'SMSSERVICES': 3507, 'lost': 7896, 'horse': 7190, 'listening': 7832, 'Dorothykiefercom': 1699, 'hang': 7019, 'ringtones': 9432, 'yer': 11296, 'olowoyey': 8582, 'MUST': 2768, 'TCsBCM4235WC1N3XX': 3851, 'begin': 4990, 'pending': 8791, 'Remembr': 3406, 'OTHERWISE': 3049, 'Dozens': 1704, 'exmpel': 6415, 'Melle': 2814, 'turns': 10675, 'hudgi': 7234, 'doors': 6129, 'shove': 9742, 'BAHAMAS': 1132, 'mushy': 8321, 'restock': 9390, 'DAYS': 1572, 'Gudnite': 2098, 'MOyeP': 2751, 'play': 8884, 'Nokias': 3004, 'Search': 3615, 'Amrita': 1065, 'ASLEEP': 980, 'pics': 8848, 'Ujhhhhhhh': 4105, 'occupied': 8534, 'forever': 6658, '0906346330': 235, 'Deal': 1633, 'studio': 10149, 'years': 11291, 'country': 5744, 'thia': 10428, 'painhope': 8702, 'ready': 9224, 'tantrums': 10312, 'President': 3276, 'PUB': 3175, 'wwwB4Utelecom': 11213, '150ptone': 375, 'crap': 5762, 'Sun': 3814, 'start': 10053, 'Start': 3772, '6months': 767, 'ROMCAPspam': 3357, 'faceasssssholeeee': 6447, 'Fresh': 1949, 'secure': 9611, 'radiator': 9173, 'TnC': 4008, 'mates': 8049, 'quizzes': 9168, 'Admirer': 1013, 'syd': 10274, 'Welp': 4294, 'Triple': 4035, 'stagwood': 10037, 'blood': 5086, 'Jos': 2458, 'schools': 9572, 'kappa': 7579, 'marketing': 8031, 'Ill': 2350, 'stalk': 10039, 'commercial': 5615, 'infront': 7364, 'Luckily': 2675, '087104711148': 101, 'Mumtazs': 2893, 'tightly': 10481, 'comes': 5605, 'darkness': 5862, 'Double': 1700, 'godnot': 6874, 'officestill': 8552, 'Itna': 2389, '08718730555': 165, 'shades': 9680, 'pussy': 9140, 'IAS': 2291, '07734396839': 30, '08718738001': 167, 'oursso': 8650, 'Box61M60': 1299, 'names': 8351, 'Asking': 1097, 'YEAH': 4383, 'BILL': 1161, 'Well': 4293, 'careless': 5343, 'lik': 7799, 'BONUS': 1172, 'Kinda': 2509, 'fear': 6509, 'preferably': 9010, 'books': 5114, 'lessons': 7768, 'Usf': 4139, 'ground': 6956, 'Cine': 1483, 'Bahamas': 1218, 'Christians': 1479, 'private': 9055, 'uneventful': 10733, 'messages': 8139, 'played': 8885, 'Getting': 2049, '9t': 931, 'ryan': 9499, 'fifteen': 6538, 'licks': 7782, 'point': 8917, 'taylor': 10327, 'history': 7134, 'really': 9234, 'Wating': 4279, 'loneliness': 7874, 'maps': 8024, 'prevent': 9033, 'entertain': 6323, 'sells': 9635, 'Smith': 3716, 'harder': 7038, 'front': 6736, 'KL341': 2477, 'shrink': 9753, 'tuth': 10676, 'genus': 6821, 'Cab': 1414, 'Mallika': 2784, 'dooms': 6127, 'Zindgi': 4457, 'hr': 7214, 'Kath': 2491, 'naseeb': 8359, 'tackle': 10286, 'myparents': 8333, 'trust': 10652, 'cedar': 5388, 'BUZ': 1207, 'hunks': 7250, 'comp': 5619, 'name': 8348, 'dime': 6037, 'swing': 10268, '6WU': 761, 'pros': 9106, 'messagesim': 8141, 'choosing': 5502, 'waste': 10962, 'made': 7978, 'Ic': 2343, 'prizesWith': 9061, '1Winawk': 410, 'lit': 7836, 'xafter': 11261, 'CHECKIN': 1369, 'logoff': 7866, 'simulate': 9787, 'GENT': 1979, 'built': 5221, 'Err': 1790, '730pm': 779, 'Check': 1467, 'reache': 9215, 'mins100txtmth': 8176, 'Toll': 4015, 'anjolas': 4675, 'win150ppmx3age16': 11085, 'deyhope': 5997, '078': 36, 'Pub': 3298, 'M263UZ': 2687, 'roles': 9454, 'soonxxx': 9933, '08719181513': 174, 'Tick': 3994, '1Hanuman': 401, 'somewhat': 9921, 'DAMMIT': 1564, 'upseti': 10773, 'WOULD': 4241, 'chess': 5461, 'saves': 9551, 'mite': 8205, 'panic': 8710, '88877': 886, '0796XXXXXX': 46, 'Dormitory': 1698, 'rebooting': 9244, 'ritten': 9439, 'surgical': 10241, 'Jst': 2460, 'Dare': 1621, 'LRG': 2588, 'AlertFrom': 1044, 'clearly': 5538, 'mobiles': 8217, 'itor': 7459, 'alrite': 4633, 'dent': 5957, 'hassling': 7043, 'hen': 7096, 'SEEMED': 3465, 'AXIS': 991, '87070': 869, 'mj': 8208, 'chillaxin': 5490, 'deyi': 5998, 'RG21': 3349, 'Messagesome': 2819, 'arng': 4775, 'Wan': 4263, 'Ever': 1805, 'CL': 1377, 'jontin': 7537, 'imposter': 7323, 'windows': 11088, 'Lifpartnr': 2627, 'betta': 5019, '09077818151': 275, '2geva': 512, 'AREA': 974, 'herI': 7099, 'chapel': 5417, 'graphics': 6930, 'MTALK': 2760, 'drink': 6163, 'anthony': 4695, 'swimsuit': 10267, 'SUZY': 3571, 'randomlly': 9193, 'prefer': 9009, 'Crack': 1535, 'CDGT': 1359, 'AfterNoon': 1020, 'NO762': 2930, 'tomorrow': 10549, 'the4th': 10407, 'ingredients': 7366, 'dahe': 5841, 'Sometimes': 3729, 'wondering': 11143, 'seems': 9620, '09058091854': 196, 'Umma': 4110, 'effect': 6254, 'yesterday': 11299, 'annie': 4677, 'potential': 8971, 'yifeng': 11304, 'apeshit': 4717, 'seperated鈥┾〨ud': 9653, 'Peteis': 3208, 'cared': 5338, '13404': 345, '211104': 439, 'Aiyah': 1035, 'eruku': 6344, 'bash': 4930, 'secretary': 9605, 'pmt': 8909, '087016248': 81, '3': 543, 'chip': 5497, 'thts': 10470, 'matured': 8058, 'NIGHT': 2922, 'sexy': 9676, 'Usually': 4142, 'Yesterday': 4435, 'delicious': 5947, 'Normally': 3012, 'Parents': 3186, 'Costa': 1525, 'Careful': 1442, 'cancer': 5314, 'Cant': 1437, 'upcharge': 10762, 'Secured': 3618, 'petrol': 8821, 'meAre': 8073, 'Till': 3997, 'Teach': 3932, 'rcv': 9209, 'collecting': 5588, 'Valid': 4161, 'positions': 8953, '87131': 872, 'eh': 6265, 'creepy': 5778, 'Poyyarikaturkolathupalayamunjalur': 3264, 'mymoby': 8332, 'EVERY': 1742, 'stressfull': 10129, 'STOPBCM': 3551, 'Txts': 4066, 'fren': 6706, 'Becaus': 1237, 'via': 10851, 'Bishan': 1260, 'jaya': 7493, 'FUNNY': 1889, '448712404000Please': 630, '2nd': 526, 'E': 1717, 'jealous': 7499, 'convince': 5702, 'Mathews': 2800, '515': 691, 'accident': 4488, 'Apo': 1076, 'Happy': 2186, 'gibe': 6837, 'timehope': 10490, 'Open': 3086, 'letters': 7772, 'chennaii': 5457, 'Armand': 1087, 'housework': 7205, 'threw': 10458, 'dance': 5849, 'QUITEAMUZING': 3306, '150prcvd': 373, 'KAVALAN': 2473, 'MONL8RSx': 2744, 'AccommodationVouchers': 1003, 'flute': 6626, 'jo': 7515, '45239': 639, 'NETHING': 2912, 'Videos': 4174, 'undrstnd': 10730, 'BROTHER': 1196, 'Nights': 2982, 'twat': 10680, 'stitch': 10096, 'BORED': 1175, 'slo': 9844, 'family': 6474, 'monday': 8237, '£150pm': 11377, 'jump': 7551, 'Squishy': 3764, 'Silent': 3680, 'txt': 10686, 'knew': 7636, 'section': 9609, 'scratching': 9583, 'captaining': 5330, 'dual': 6192, 'Fuck': 1957, 'uncles': 10717, 'FMyou': 1858, 'latei': 7711, 'RITE': 3356, 'oyster': 8685, 'DLF': 1589, 'CAL': 1340, '18ptxt': 393, 'gentleman': 6818, 'brolly': 5189, 'disagreeable': 6057, 'shitstorm': 9717, 'Loyalty': 2670, 'puzzeles': 9145, '150pMsgrcvdHGSuite3422LandsRowW1J6HL': 360, 'valued': 10828, 'fiting': 6589, '£250k': 11386, 'wherever': 11056, 'OH': 3035, 'emerging': 6292, 'ratio': 9203, 'taxes': 10323, 'darker': 5860, 'messagepandy': 8138, 'mine': 8168, 'tomorro': 10548, 'dictionary': 6012, 'Noi': 2997, 'lap': 7698, 'get4an18th': 6825, 'Beer': 1241, 'maximize': 8062, 'liked': 7801, 'BUDDY': 1204, 'tooo': 10569, 'Depends': 1651, 'anythings': 4708, 'tape': 10314, 'accomodate': 4491, 'restaurant': 9389, '186£150moreFrmMob': 391, 'CAREFUL': 1351, 'guesses': 6975, 'kid': 7610, 'DOT': 1601, 'Nobody': 2993, 'somewhere': 9922, 'nite': 8443, 'Tho': 3985, 'Dnt': 1684, 'sec': 9600, 'Sweetest': 3828, 'Scotch': 3612, 'Pound': 3263, 'gossip': 6905, 'Immediately': 2355, 'Emily': 1778, 'fone': 6643, '89105': 892, '£1minMobsmoreLKPOBOX177HP51FL': 11382, 'speling': 9984, 'applebees': 4728, 'DOESDISCOUNTSHITINNIT': 1591, 'yogasana': 11311, 'shake': 9685, 'feed': 6516, 'nav': 8370, 'dying': 6215, 'adewale': 4527, 'resubbing': 9395, 'that2worzels': 10398, 'email': 6285, 'internetservice': 7399, 'erotic': 6340, 'fourth': 6686, 'normal': 8468, 'file': 6547, 'X2': 4360, 'fake': 6462, 'hence': 7097, 'den': 5954, 'tau': 10320, 'logged': 7862, 'problemi': 9068, 'nap': 8357, 'delayed': 5944, 'youhow': 11321, 'sticky': 10091, 'ever': 6375, 'Nohe': 2996, 'labor': 7670, 'bandages': 4911, 'Someonone': 3727, 'YESTERDAY': 4395, 'PX3748': 3177, 'murderer': 8318, 'shattered': 9695, 'Ding': 1668, 'worms': 11168, '310303': 557, 'epsilon': 6336, 'world': 11163, 'soundtrack': 9954, 'passport': 8757, 'credits': 5776, 'truck': 10647, '83222': 837, 'god': 6872, 'possibleHope': 8960, 'buses': 5239, 'guides': 6979, 'wwwfullonsmscom': 11233, 'cheers': 5450, 'pin': 8861, '2morrowxxxx': 522, 'Top': 4023, 'S8': 3445, 'ZOUK': 4454, 'THNQ': 3881, 'watches': 10968, 'Okey': 3066, 'AIG': 955, 'Bloody': 1271, 'upon': 10770, 'upgrading': 10765, 'coping': 5714, 'missed': 8193, 'lower': 7927, 'fro': 6733, 'fall': 6467, 'savings': 9552, 'Ts': 4044, 'Dr': 1705, 'EAT': 1721, 'redeemable': 9276, 'trauma': 10621, 'leu': 7773, 'Mnths': 2848, 'YMCA': 4398, 'ull': 10708, 'bite': 5056, 'polyPH': 8926, 'L8ER': 2538, 'despite': 5981, 'cst': 5795, 'makiing': 8002, 'token': 10536, 'eating': 6237, 'Abt': 1000, 'footy': 6653, 'soul': 9951, 'smaller': 9855, 'Gn': 2058, 'staffsciencenusedusgphyhcmkteachingpc1323': 10035, 'GOODMORNING': 2004, 'THEACUSATIONS': 3873, 'FRND': 1879, 'available': 4855, 'realize': 9231, 'xam': 11262, 'telly': 10357, 'attend': 4830, 'confirm': 5661, 'Easy': 1759, '£350': 11391, 'spotty': 10015, 'matra': 8053, 'LST': 2592, 'Ela': 1772, 'England': 1784, 'initiate': 7367, 'ache': 4501, 'curfew': 5811, 'PASS': 3111, 'SATSOUND\\x92S': 3454, 'followin': 6638, 'day': 5881, 'Thankyou': 3960, 'Woo': 4340, 'shortage': 9731, 'Calls£1minMobsmore': 1426, 'breadstick': 5159, 'Lucozade': 2677, 'Congrats': 1513, 'HALF': 2110, 'Youll': 4442, 'satanic': 9540, 'Proverb': 3291, 'icon': 7286, 'Personality': 3205, '1LemonDayNo': 404, 'Rodger': 3430, 'Uh': 4103, 'records': 9270, 'SHOW': 3485, 'wordCOLLECT': 11151, 'pints': 8863, 'gek1510': 6812, 'previous': 9035, 'aging': 4577, 'howard': 7207, 'crazy': 5769, 'flight': 6608, 'OFSI': 3033, 'Mornings': 2875, 'Broadband': 1316, 'Rajitha': 3372, 'PRESCHOOLCOORDINATOR': 3163, '80122300pwk': 810, 'Ltd': 2671, 'driver': 6169, 'attempt': 4828, 'millers': 8158, 'postal': 8963, 'TheMobYo': 3969, 'Kaiez': 2484, 'hussey': 7263, 'Unless': 4120, 'PLAY': 3131, 'BBlue': 1144, '08707808226': 95, 'maybe': 8067, 'Sexy': 3639, '83738': 845, 'bullshit': 5223, 'dancce': 5848, 'extract': 6437, '07090201529': 23, 'Box177': 1294, '09058094565': 201, 'onluy': 8594, 'Rofl': 3431, 'END': 1726, 'developed': 5992, 'tp': 10600, 'spouse': 10016, 'couldnt': 5740, 'disconnected': 6065, 'delete': 5945, 'Nw': 3027, 'choose': 5501, 'due': 6199, 'steyn': 10088, 'grooved': 6953, 'weigh': 11013, 'dialogue': 6005, 'Leave': 2617, 'SATLOVE': 3453, 'Sept': 3631, 'Velly': 4167, 'What‘s': 4306, 'STAR': 3543, 'Fun': 1959, 'JUSWOKE': 2420, '3680': 571, 'virtual': 10879, 'dvg': 6213, 'odalebeku': 8540, 'TsCs087147403231WinawkAge16': 4047, 'WRKI': 4246, 'IQ': 2329, 'Marvel': 2797, '101mega': 303, 'lovable': 7912, 'posted': 8965, 'scraped': 9580, 'romantic': 9457, 'STOP2stop': 3550, 'Thing': 3977, 'Reminder': 3409, 'B4': 1121, 'club': 5557, 'NEVER': 2914, 'underwear': 10729, 'kg': 7602, 'call2optoutF4Q': 5278, 'Energy': 1783, 'collegexx': 5592, 'Hiwhat': 2234, 'uttered': 10808, 'mobsicom': 8220, 'live': 7839, 'edwards': 6250, 'brought': 5196, 'ASUSUAL1': 982, '09061104276': 212, '260305': 462, 'snatch': 9885, 'sleeps': 9833, 'Especially': 1793, 'pain': 8700, 'finishd': 6571, 'Everyone': 1809, 'step': 10081, 'hold': 7149, 'FAR': 1838, 'Sol': 3722, 'reacting': 9218, 'weaseling': 10989, 'sugardad': 10196, 'Juz': 2467, 'kfc': 7601, 'jot': 7538, 'Emotion': 1779, 'ahnow': 4584, 'favorite': 6505, 'dane': 5852, 'charity': 5426, 'fave': 6503, 'swear': 10258, 'costumes': 5733, 'belongs': 5004, 'Expires': 1825, 'Joke': 2448, 'Arsenal': 1091, 'update': 10763, 'bong': 5106, 'None': 3005, 'k': 7561, 'Si': 3675, 'AWAITING': 989, '09050000460': 182, 'SONY': 3516, 'pretsorginta': 9030, 'Poly200p': 3255, 'unclaimed': 10715, 'belt': 5007, 'along': 4627, 'Eatin': 1761, 'BABES': 1126, 'issue': 7444, 'triumphed': 10642, 'IVE': 2339, 'miles': 8156, 'brain': 5151, 'cupboard': 5809, 'character': 5420, '89693': 896, 'sign': 9770, 'Callers': 1421, 'Case': 1446, 'box403': 5142, 'vague': 10818, 'Singles': 3689, 'Maat': 2771, 'away': 4874, 'mad': 7976, 'treacle': 10626, '220CM2': 445, 'ltTIMEgt': 7937, 'Mon': 2864, 'FRIENDSHIP': 1877, 'minded': 8165, 'begins': 4991, 'spoilt': 10005, 'SOO': 3517, 'computer': 5642, 'okcome': 8569, 'Confidence': 1512, 'En': 1780, 'wrongly': 11196, '6HouseMaid': 759, 'MSGS': 2758, 'wmlid820554ad0a1705572711firsttrue¡C': 11129, 'Gettin': 2048, 'nevering': 8411, 'perf': 8799, 'anniversary': 4678, 'meRemove': 8076, 'recorder': 9269, 'prakasamanu': 8996, 'gd': 6806, 'checkup': 5448, 'unhappy': 10738, 'hotels': 7198, 'Wed': 4286, 'Geeee': 2040, 'RTO': 3364, 'Wipe': 4327, 'offc': 8542, 'jetton': 7509, 'Jus': 2466, 'opinions': 8609, 'sayy': 9560, 'unsoldnow': 10757, 'scrounge': 9589, 'bathroom': 4942, 'SLEEPINGWITH': 3501, 'Hrishi': 2281, 'functions': 6757, 'RISE': 3355, 'herwho': 7107, 'drunk': 6184, 'ure': 10778, 'charge': 5422, 'unable': 10713, 'laidwant': 7682, 'making': 8004, '1stchoicecouk': 419, 'SmileD': 3714, 'sane': 9529, 'Racal': 3367, 'anyones': 4703, 'limping': 7809, 'bbs': 4950, 'WEEK': 4206, 'toldshe': 10540, 'TCs': 3850, 'wereare': 11032, 'costs': 5731, 'die': 6019, 'sian': 9762, 'BRISTOL': 1194, 'barely': 4922, 'arts': 4788, '\\x93Its': 11358, '7Children': 791, 'affidavit': 4555, 'w8in': 10912, 'LET': 2556, 'SPIDER': 3530, '10k': 310, 'Moby': 2857, 'Bears': 1233, 'worldvery': 11167, 'Shiny': 3661, 'owned': 8680, 'can‘t': 5324, 'thanks': 10393, '8am': 903, 'Joking': 2451, 'Kay': 2492, 'involved': 7416, '£150perweeksub': 11376, 'simpler': 9785, 'Would': 4351, 'assistance': 4810, '725': 774, 'Unfortunately': 4116, 'Musta': 2897, 'AMY': 964, 'responding': 9381, 'THAT\\x92S': 3871, 'throw': 10461, 'per': 8796, 'legs': 7753, 'aathiwhere': 4462, 'american': 4645, 'lmao': 7846, 'persevered': 8811, 'Spook': 3756, 'Active': 1010, '2years': 540, 'superior': 10222, 'hoops': 7175, 'BTnational': 1201, 'LOTR': 2582, 'POLYC': 3152, 'wil': 11079, 'maraikara': 8025, 'Sends': 3627, 'soup': 9955, 'youcarlos': 11317, 'logosmusicnews': 7869, 'Head': 2196, 'thinks': 10438, '09061221066': 217, 'weathers': 10992, '1s': 416, 'mah': 7990, '41685': 616, 'phews': 8827, '09065069120': 245, 'cry': 5793, 'Petey': 3209, 'colleg': 5590, 'efreefone': 6257, 'three': 10457, 'outreach': 8661, 'consent': 5675, '0789xxxxxxx': 44, 'Kkwhat': 2525, 'vale': 10821, '67441233': 742, 'java': 7491, 'info': 7354, 'wuld': 11206, 'Thinks': 3982, '07xxxxxxxxx': 49, 'Sinco': 3686, '09041940223': 179, 'lark': 7704, 'January': 2428, 'pple': 8982, 'statement': 10063, 'Langport': 2604, 'guys': 6985, 'nighters': 8429, 'bill': 5037, 'blimey': 5077, 'credited': 5775, '087123002209am7pm': 106, 'brief': 5173, 'oath': 8525, 'Pic': 3219, 'readers': 9221, 'tones2youcouk': 10554, 'Peteynoi\\x92m': 3210, 'Block': 1270, 'report': 9352, 'suffers': 10193, 'IThis': 2337, 'added': 4520, 'wwwtklscom': 11253, 'Lmao': 2641, 'ivatte': 7465, 'NOKIA6600': 2934, 'onwords': 8599, 'wwwregalportfoliocouk': 11242, 'deari': 5905, 'balloon': 4908, 'Habit': 2169, 'fedex': 6515, 'thoughtsI': 10453, 'THINK': 3880, 'daily': 5844, 'smell': 9862, 'Lemme': 2620, 'cartoon': 5361, 'tohar': 10533, 'jelly': 7503, 'BabyGoodbye': 1214, 'attention': 4833, 'gooddhanush': 6893, 'rights': 9424, 'fights': 6543, 'HOWU': 2158, 'notes': 8478, '1146': 320, 'recount': 9271, 'fowler': 6688, 'sneham': 9886, '08718729755': 163, 'FINAL': 1847, 'secondary': 9602, 'Kkim': 2522, 'Expecting': 1824, 'partnership': 8745, 'movie': 8273, 'discount': 6066, 'ship': 9708, 'chop': 5503, 'speaking': 9972, 'Peripherals': 3202, 'sth': 10089, 'transfred': 10618, '09050002311': 188, '2gthr': 515, 'picked': 8845, 'horny': 7188, 'Jon': 2453, 'ralphs': 9189, 'Bday': 1232, 'LA3': 2543, 'Extra': 1829, 'doingWhat': 6111, 'goverment': 6913, 'Jersey': 2441, 'sacrifice': 9506, 'sry': 10029, 'theKingshead': 10408, 'gt': 6966, 'farting': 6487, 'transferacc': 10614, 'dinnermsg': 6046, 'unsubscribed': 10760, 'PETEXXX': 3120, 'str8': 10118, 'westonzoyland': 11038, 'presnts': 9024, 'shrub': 9754, 'Mmm': 2843, 'motherfucker': 8262, 'I\\x92LLSPEAK': 2397, 'vikkyim': 10869, 'BCK': 1145, 'showers': 9748, 'doctors': 6095, 'hangin': 7021, 'talents': 10302, 'case': 5362, 'celeb4': 5391, 'thatdont': 10400, 'Promotion': 3289, 'Hi': 2225, 'common': 5617, 'babe': 4885, 'Studying': 3795, 'everything': 6384, 'LADIES': 2545, 'hopes': 7184, 'understood': 10728, 'TSCs': 3911, 'jay': 7492, 'M6': 2689, 'leg': 7750, 'Jokin': 2450, 'near': 8375, 'tech': 10344, 'November': 3017, 'Xy': 4380, 'NO1': 2926, 'sounds': 9953, 'JESS': 2413, 'paid': 8699, 'floating': 6615, 'MR': 2754, 'cruisin': 5791, 'silent': 9778, 'shangela': 9689, '07808': 38, 'WENWECAN': 4211, 'ate': 4820, 'tron': 10643, 'TEX': 3858, 'film': 6553, '32000': 560, 'heal': 7063, 'TRY': 3910, 'lambu': 7685, 'custom': 5819, 'Irritates': 2383, 'stayin': 10070, 'proove': 9100, 'srsly': 10027, 'timings': 10497, 'claimcode': 5520, 'TCLLC': 3848, 'LETS': 2557, '11': 315, 'becz': 4972, '5WE': 710, 'says': 9559, 'lover': 7917, 'annoncement': 4679, 'pile': 8857, 'famous': 6476, 'Tease': 3937, 'a30': 4459, 'Welcome': 4292, 'anyway': 4711, 'short': 9730, 'coaxing': 5568, 'Tomarrow': 4017, 'anythingtomorrow': 4709, 'Allo': 1050, 'astoundingly': 4816, 'unspoken': 10758, 'Hai': 2175, 'YES762': 4392, 'tactful': 10288, 'pickle': 8847, 'lapdancer': 7699, 'ploughing': 8900, 'Hogolo': 2251, 'wana': 10943, 'goto': 6909, 'AlaikkumPride': 1041, '£300': 11388, 'networks': 8407, 'reffering': 9284, 'coupla': 5746, 'nose': 8473, 'pei': 8787, 'crashing': 5765, 'L': 2537, 'strongly': 10138, 'intrude': 7405, 'join': 7524, 'LIFT': 2559, 'befor': 4984, 'Bone': 1281, 'Audrie': 1106, 'representative': 9354, 'starti': 10056, 'reception': 9258, '13': 341, 'Sthis': 3782, 'Platt': 3231, 'jp': 7542, 'star': 10047, 'wondar': 11139, 'Incorrect': 2360, 'Probably': 3285, '4d': 660, 'abstract': 4473, 'exercise': 6409, '£1250': 11369, 'boytoy': 5147, '08702490080': 85, 'vic': 10855, 'Executive': 1821, 'dehydration': 5940, 'minus': 8180, 'processits': 9075, 'WaitU': 4257, 'ubi': 10702, '100s': 300, 'province': 9112, 'South': 3742, '5ish': 715, 'Gyno': 2108, 'stand': 10043, 'unnecessarily': 10752, 'replacing': 9346, 'okvarunnathu': 8575, 'happily': 7033, 'TONES2U': 3894, 'break': 5160, 'shoes': 9722, 'pilates': 8856, 'MALL': 2696, 'notified': 8484, 'upset': 10772, 'STUDENTFINANCIAL': 3558, 'celeb': 5390, 'dodda': 6097, 'SHIT': 3481, 'regular': 9301, 'Finished': 1917, 'Set': 3636, '08712402902': 113, 'whos': 11064, '08002986906': 59, 'mirror': 8185, 'GB': 1972, 'Match': 2798, 'chrgd50p': 5507, 'hill': 7124, 'ful': 6750, 'wkTXT': 11120, 'fainting': 6459, 'previously': 9036, 'Village': 4177, 'GOTMARRIED': 2013, 'standing': 10045, 'problemfree': 9067, 'mis': 8186, 'ideal': 7291, 'Britney': 1315, 'true': 10648, 'Log': 2646, 'shldxxxx': 9719, 'FRANYxxxxx': 1864, 'Joanna': 2445, 'httpwwwbubbletextcom': 7225, 'hostile': 7195, 'influx': 7353, 'Pink': 3226, 'BOX139': 1181, 'STILL': 3548, 'RowW1J6HL': 3436, 'curtsey': 5816, '6230': 733, 'Content': 1517, 'AOM': 971, 'disc': 6063, 'CONVINCED': 1394, 'amplikater': 4656, 'uwant': 10813, 'minor': 8174, 'neva': 8408, 'Evening': 1803, 'avo': 4865, 'surrender': 10245, 'invited': 7411, 'maths': 8052, 'HM': 2140, '250': 458, 'nowstill': 8499, 'engin': 6311, 'WIFE': 4218, 'tram': 10609, 'gibbs': 6836, 'cleared': 5535, 'earlier': 6219, 'taking': 10300, 'Eleven': 1774, 'wwwmovietriviatv': 11238, 'envy': 6334, 'forfeit': 6660, 'Oru': 3098, 'Fear': 1899, 'Become': 1238, 'shelves': 9703, 'murali': 8315, 'telphone': 10358, '09058099801': 211, 'Tenerife': 3945, 'BOX420': 1184, 'wwwSMSacunat27081980': 11222, 'wwwLdewcomsubs161win150ppmx3': 11218, 'afternon': 4562, 'differences': 6028, 'Lies': 2625, 'auction': 4839, 'POINT': 3148, 'SAID': 3449, 'responsibilities': 9383, 'mums': 8313, 'plans': 8882, 'nobodys': 8451, 'option': 8621, 'urination': 10783, 'Gr8': 2083, 'Need': 2959, 'kuch': 7661, 'John': 2446, 'Box39822': 1297, 'photo': 8836, 'becausethey': 4969, 'tacos': 10287, 'of£2000': 8562, 'anymore': 4701, 'hamper': 7009, 'damn': 5846, 'Meet': 2811, 'chicken': 5470, 'chile': 5488, 'wrnog': 11194, 'gobi': 6871, 'itplspls': 7460, 'Damn': 1619, 'School': 3608, 'calculation': 5271, '1030': 304, 'SLEEPING': 3500, 'lobby': 7853, 'PISS': 3129, 'dang': 5853, 'particular': 8741, 'ow': 8676, 'DE': 1575, 'experience': 6420, 'gymnastics': 6989, 'toss': 10587, 'glory': 6862, 'maggi': 7986, 'Hui': 2285, '86688': 865, 'Ahmad': 1030, 'THATMUM': 3870, 'outfit': 8655, 'Part': 3189, 'FIFA': 1843, 'heater': 7076, 'burrito': 5236, 'DAY': 1570, 'steak': 10074, 'wwwIdewcom': 11214, 'alsoor': 4636, 'STaY': 3561, 'posting': 8967, 'Trackmarque': 4028, 'accommodation': 4490, 'ITNOW': 2334, 'edge': 6242, 'TryWALES': 4042, 'powerful': 8980, 'ended': 6299, 'GUARANTEED': 2022, 'wwwtelediscountcouk': 11250, 'Line': 2632, 'Sptv': 3762, 'willpower': 11083, 'prabha': 8987, 'ALEX': 960, 'presents': 9023, 'theredo': 10418, 'camp': 5306, 'December': 1639, 'albi': 4601, 'hide': 7118, 'belong': 5003, 'paths': 8763, 'hello': 7087, 'abnormally': 4469, 'Nottel': 3015, 'messenger': 8142, 'essay': 6355, 'Hockey': 2249, 'amk': 4647, 'Hoody': 2265, 'wesley': 11034, '£500': 11398, 'playng': 8891, 'million': 8159, 'ayo': 4879, '08452810071': 71, 'lotsly': 7901, 'yards': 11285, 'woke': 11134, 'birth': 5049, 'wifes': 11075, 'bank': 4914, 'tough': 10594, '150pday': 364, 'elama': 6275, 'Shesil': 3655, 'carryin': 5357, 'goa': 6867, 'philosophy': 8829, 'pay': 8769, 'posterode': 8966, 'youTo': 11315, 'waiting': 10924, 'landline': 7689, 'Phony': 3218, 'nauseous': 8369, 'pixels': 8868, 'Wnevr': 4335, 'morphine': 8258, 'director': 6051, 'impressively': 7327, 'Filthy': 1910, 'HOWS': 2157, 'Somebody': 3725, 'kerala': 7595, 'Stoptxt': 3787, 'model': 8223, 'owo': 8683, '4w': 681, 'watched': 10967, '£800': 11411, 'DIS': 1587, 'ninish': 8439, 'chikkuwat': 5482, 'watts': 10977, '15pmin': 381, 'HAVBEEN': 2119, 'hesitant': 7110, 'shakara': 9684, 'accomodations': 4492, 'imma': 7312, 'running': 9493, 'Clos1': 1488, 'LDN': 2552, 'prods': 9077, 'hol': 7148, 'SAW': 3457, 'TALKING': 3842, 'ave': 4861, 'big': 5033, 'mega': 8098, 'throws': 10465, 'Stop': 3785, 'resub': 9394, '3MOBILE': 582, 'cheap': 5439, 'ovr': 8673, 'silly': 9780, 'exterminator': 6435, 'potato': 8970, 'coat': 5567, 'Excellent': 1819, 'Chloe': 1477, 'apologetic': 4719, 'gods': 6875, 'tmr': 10516, 'nigeria': 8427, 'justthought': 7559, 'BED': 1151, 'clash': 5526, 'upping': 10771, 'searching': 9597, 'purchases': 9134, 'peoples': 8795, 'table': 10282, 'POBOXox36504W45WQ': 3141, 'record': 9267, 'nightsExcellent': 8433, 'GOODTIMEOLI': 2008, 'EXETER': 1748, 'DON\\x92T': 1600, 'X29': 4361, 'dough': 6139, 'LIVE': 2568, 'bcaz': 4952, 'seh': 9624, 'Bani': 1223, 'reward': 9413, 'connect': 5669, 'asda': 4794, 'major': 7999, '£150ea': 11373, 'diesel': 6021, 'kidding': 7611, 'eviction': 6387, 'Yep': 4424, 'somtimes': 9925, 'applespairsall': 4729, 'upstairs': 10775, 'Tuesday': 4053, '09058094599': 205, 'Cos': 1523, '4ui': 680, 'lunsford': 7950, 'Accident': 1002, 'ideas': 7292, 'SW7': 3572, 'order': 8629, 'AFEW': 945, 'visa': 10880, 'NOWREPLY': 2938, 'missionary': 8196, 'appreciate': 4737, 'feelingwavering': 6520, 'FONE': 1859, 'alex': 4607, 'Noits': 2999, 'browsin': 5201, 'reduce': 9278, 'Kkwhen': 2526, 'together': 10532, 'dunno': 6206, 'give': 6850, 'hep': 7098, 'latest': 7716, 'strips': 10136, 'reminded': 9323, 'tiny': 10498, 'herepls': 7100, 'zoom': 11353, 'reminding': 9325, 'therexx': 10422, 'srs': 10026, 'contacts': 5685, 'shag': 9682, '4few': 662, 'headache': 7057, 'aha': 4581, 'smokes': 9872, 'practicum': 8992, 'claypot': 5530, '08708800282': 97, 'palm': 8707, 'Euro': 1797, 'childporn': 5485, 'forwarded': 6681, 'posible': 8951, 'crickiting': 5782, 'funs': 6764, 'Thought': 3987, 'exact': 6395, '28thFebTCs': 474, 'toaday': 10522, 'Bx526': 1335, 'blur': 5095, '08715500022': 140, 'expert': 6423, 'FREEPHONE': 1870, '85': 853, 'pretsovru': 9031, 'nosy': 8475, 'Dick': 1661, 'mr': 8278, 'Date': 1626, '09071512433': 273, 'loan': 7851, 'Lk': 2640, 'amt': 4658, 'U4': 4070, 'reLation': 9213, 'exciting': 6403, 'blah': 5062, 'newspapers': 8419, 'closeby': 5547, 'risk': 9436, 'textand': 10379, '3G': 579, 'wwwtxt2shopcom': 11254, 'Jokes': 2449, 'INTERVIW': 2326, 'beforehand': 4985, 'mei': 8100, 'suffer': 10191, 'arithmetic': 4769, 'location': 7855, 'dealer': 5897, 'winds': 11089, '09071517866': 274, 'color': 5593, 'Lovable': 2660, 'research': 9363, 'prizeTo': 9059, 'STARS': 3544, 'CONTENTION': 1392, 'bringing': 5181, 'ILEAVE': 2305, 'canname': 5317, 'man': 8009, 'Lvblefrnd': 2683, 'wwwphb1com': 11241, 'music': 8322, 'ortxt': 8639, 'kindly': 7621, 'SCOTLAND': 3460, 'CW25WX': 1412, 'Reaction': 3383, '08701213186': 76, '400': 607, 'waliking': 10927, 'deciding': 5917, 'keluviri': 7592, 'C': 1337, 'Chk': 1476, 'lasting': 7708, 'ethnicity': 6360, 'marking': 8032, 'Minnaminunginte': 2833, 'donyt': 6124, 'Prem': 3273, 'driving': 6171, 'lifetime': 7791, 'wife': 11073, 'maximum': 8063, 'fastest': 6491, 'calm': 5300, 'ONLYFOUND': 3043, 'uif': 10705, 'Woman': 4337, 'child': 5483, 'SW73SS': 3573, 'rajas': 9185, 'theregoodnight': 10419, 'ondu': 8585, 'Skallis': 3697, 'wif': 11072, 'bedrm': 4976, 'brings': 5182, 'recognise': 9265, 'sunoco': 10215, 'Games': 2030, 'Treat': 4034, '1u': 421, 'warwick': 10957, 'OceanD': 3055, 'colourredtextcolourTXTstar': 5596, 'worst': 11175, 'operator': 8607, 'lil': 7804, 'antibiotic': 4697, 'dai': 5843, 'Sarcasm': 3596, 'UPNOT': 4085, 'walking': 10932, 'intentions': 7392, 'weekend': 11008, 'accessible': 4486, 'sandiago': 9528, 'canteen': 5322, 'questions': 9158, 'SEX': 3475, 'turned': 10673, 'done': 6120, '0721072': 28, 'Safe': 3584, 'argentina': 4761, 'happenin': 7028, 'Prabhaim': 3265, 'ltDECIMALgt': 7935, 'HUNNY': 2165, 'wise': 11101, 'LAPTOP': 2546, 'fees': 6522, 'REALITY': 3331, 'stressed': 10127, 'managed': 8012, 'genuine': 6820, 'brothas': 5192, 'pizza': 8869, 'wither': 11111, '40': 606, 'weightHaha': 11016, 'Mins': 2834, 'numbers': 8510, 'nudist': 8505, 'GMGNGEGNT': 1991, 'sunshine': 10217, 'Tsunamis': 4050, 'nuclear': 8504, 'beta': 5018, 'POD': 3147, 'hypertension': 7272, 'entey': 6325, 'jeevithathile': 7502, 'rebtel': 9245, 'disaster': 6060, 'rejected': 9302, 'trebles': 10633, '54': 699, 'News': 2971, 'Map': 2790, 'onlinewhy': 8593, 'Lets': 2623, 'coherently': 5576, 'fundamentals': 6759, 'wocay': 11133, 'rileys': 9425, 'genius': 6816, 'images': 7309, 'Trav': 4032, 'simple': 9784, '08715705022': 141, 'kano': 7575, 'lage': 7679, 'Wats': 4281, 'pockets': 8913, 'TEXD': 3859, 'smash': 9859, 'sha': 9679, 'orange': 8626, 'allday': 4619, 'dao': 5856, 'scream': 9584, 'ey': 6439, 'cant': 5320, 'Plz': 3241, 'WOTU': 4240, 'rencontre': 9330, 'Rain': 3368, 'mns': 8211, 'mina': 8163, 'Sno': 3720, 'trek': 10635, 'Payee': 3195, 'blonde': 5084, 'sack': 9504, 'accounts': 4498, 'howre': 7209, 'Dear': 1634, 'hides': 7119, 'knowwait': 7645, 'innings': 7371, 'CHARITY': 1366, 'Christmas': 1480, 'SHOWR': 3486, 'INDIA': 2316, 'answered': 4690, 'Lucy': 2678, '2WU': 505, 'Wow': 4352, 'elaborate': 6272, 'announced': 4680, 'uploads': 10769, 'thanx': 10396, 'northampton': 8471, 'CUP': 1409, 'hittng': 7139, 'winterstone': 11097, 'often': 8561, 'position': 8952, 'woman': 11136, 'read': 9220, 'Moral': 2871, 'mood': 8252, 'MsSuman': 2884, '542': 700, 'answr': 4694, 'released': 9309, 'Sender': 3624, 'Freemessage': 1947, 'sickness': 9765, 'blame': 5064, 'login': 7864, 'hop': 7176, 'CAUSE': 1356, 'RANG': 3325, 'call': 5275, 'repent': 9343, 'titleso': 10507, 'Direct': 1672, 'heron': 7105, 'full': 6752, '5min': 716, 'rents': 9338, 'left': 7748, 'wwwclubmobycom': 11227, 'tgxxrz': 10387, 'food': 6645, 'light': 7796, 'caken': 5267, 'Club': 1490, 'Traditions': 4029, 'Sub': 3801, 'Wil': 4319, 'cameravideo': 5305, 'muchimpede': 8302, 'THANX4': 3868, 'know': 7639, 'REPLYS150': 3344, 'fyi': 6768, '2p': 532, 'reflex': 9286, 'Full': 1958, 'Play': 3232, 'JAN': 2406, 'hate': 7045, 'owns': 8681, '87077': 870, 'narcotics': 8358, 'kent': 7593, 'anybodys': 4699, 'worldgnun': 11164, 'canal': 5310, 'fletcher': 6605, 'thus': 10474, 'Best1': 1250, 'Designation': 1653, 'Alwys': 1058, 'duffer': 6200, 'DOUBLE': 1602, 'Question': 3314, 'slave': 9828, 'ksry': 7659, 'minstexts': 8178, 'outdoors': 8654, 'best': 5014, 'holidayso': 7154, 'Shoul': 3671, 'Bob': 1277, 'beforewent': 4986, 'cheating': 5442, '02072069400': 11, 'RGENT': 3350, 'correctionor': 5723, 'storelike': 10113, 'band': 4910, 'SleepwellampTake': 3706, 'trouble': 10644, 'fox': 6689, 'Scoring': 3611, 'SIR': 3493, 'nasty': 8360, 'nobody': 8450, 'teams': 10339, 'nelson': 8401, 'jogging': 7521, '1McFlyAll': 405, 'sponsors': 10008, 'svc': 10252, 'BEST': 1156, 'sweater': 10259, 'Oooooh': 3083, 'tickets': 10478, 'FUCKINNICESELFISHDEVIOUSBITCHANYWAYI\\x92L': 1887, 'amazing': 4643, 'CERI': 1362, 'asshole': 4809, 'fulfil': 6751, 'madam': 7977, 'Argument': 1086, 'Scotsman': 3613, 'clothes': 5554, 'stones': 10104, 'Airtel': 1033, '08006344447': 61, 'reliant': 9310, 'bone': 5105, 'sayhey': 9556, 'carpark': 5355, 'lotta': 7903, 'pounded': 8974, 'Mandy': 2788, 'youuuuu': 11333, 'moments': 8234, 'buzz': 5253, 'jokin': 7533, 'cuck': 5798, 'ADRINK': 944, 'showed': 9745, 'dat': 5869, 'OUTL8RJUST': 3051, 'NEVA': 2913, 'ALERT': 958, 'FONIN': 1860, 'FreeMsgFAV': 1944, 'Simple': 3682, 'ARIES': 975, 'Queen': 3311, 'checked': 5446, 'Near': 2958, 'childs': 5487, 'Sent': 3628, 'finns': 6576, 'XXXMobileMovieClub': 4370, 'asthma': 4814, 'Big': 1254, 'role': 9453, 'Guys': 2107, 'mistake': 8202, 'Cable': 1415, 'dis': 6056, 'Found': 1936, 'afford': 4556, '3680Offer': 572, 'Lions': 2635, 'charlie': 5428, 'Kind': 2508, 'MOVIE': 2750, 'block': 5078, '81618': 824, 'Gud': 2096, 'comment': 5614, 'LONG': 2575, 'tool': 10568, 'wonderful': 11142, 'Election': 1773, '061104': 20, 'that‘s': 10406, 'placeNo': 8871, 'CHEERED': 1371, 'started': 10054, 'Aight': 1031, 'force': 6654, 'safely': 9509, 'practicing': 8991, 'Didnt': 1663, 'date': 5871, '08712402779': 112, 'calis': 5274, 'Stay': 3777, '09064011000': 236, '09058094594': 203, 'Marley': 2795, 'Checkmate': 1468, '02': 7, 'swt': 10273, 'price': 9038, 'India': 2364, 'edition': 6244, 'sir': 9797, 'supports': 10231, 'skyped': 9824, 'Career': 1441, 'Mob': 2849, '100603': 298, 'coughing': 5737, 'differbe': 6026, 'ip': 7418, 'Hang': 2183, 'GOODNOON': 2007, 'calls': 5297, 'exchanged': 6401, 'fringe': 6724, 'WAY': 4201, 'helping': 7093, 'PoBox12n146tf150p': 3245, 'losing': 7894, 'Half': 2178, 'admit': 4534, 'Zogtorius': 4458, 'stoptxtstop£150week': 10111, 'Ache': 1006, 'regards': 9295, 'unlimited': 10750, 'hai': 6999, 'movies': 8274, 'min': 8161, '\\x93Harry': 11357, 'grateful': 6932, '10000': 296, 'decking': 5922, 'recent': 9256, 'sensitive': 9648, 'vpist': 10905, 'within': 11112, 'Afternoons': 1022, 'hasnt': 7042, 'dwn': 6214, 'screen': 9587, 'URGENT': 4090, 'madthen': 7982, '30th': 554, '02073162414': 12, 'sathya': 9542, 'promptly': 9096, 'rows': 9473, 'QlynnBV': 3309, 'increase': 7341, '08712402972': 114, 'result': 9397, 'Email': 1777, 'listn': 7834, '08000930705': 54, 'Skip': 3701, 'scold': 9574, '08704439680': 88, '5903': 702, 'wicked': 11068, 'chosen': 5506, '09058095107': 206, 'lists': 7835, 'listener': 7831, 'Today': 4011, 'START': 3545, 'colany': 5581, 'ShanilRakhesh': 3649, 'latests': 7717, 'Youve': 4444, 'electricity': 6279, 'Rental': 3413, 'telugu': 10359, '8Lovable': 900, 'dungerees': 6205, 'blessings': 5076, 'instead': 7386, 'onwards': 8598, 'mgs': 8147, 'Haiz': 2177, 'flip': 6611, 'jide': 7513, 'ecstasy': 6241, 'DATE': 1568, 'lanre': 7697, 'overdid': 8669, 'bruv': 5204, 'KING': 2475, 'Code4xx26': 1495, 'SING': 3492, 'Resend': 3416, 'Building': 1326, 'U’ve': 4144, 'lousy': 7910, 'hell': 7085, 'Met': 2821, 'cliff': 5541, '12000pes': 328, 'jungle': 7554, 'whn': 11062, 'Stockport': 3784, 'June': 2464, '08714712412': 129, 'Ooh': 3081, '80488biz': 816, 'facilities': 6449, 'na': 8338, 'bread': 5158, '1010': 301, 'broth': 5191, 'govtinstituitions': 6914, 'argument': 4765, 'age': 4568, 'cares': 5345, 'favourite': 6507, 'fun': 6755, 'RCT': 3326, 'Questions': 3315, 'literally': 7837, 'negative': 8395, 'Pl': 3229, '08717507711': 146, 'theatre': 10410, 'dearRakhesh': 5903, '12price': 340, 'havin': 7053, 'Harishs': 2190, 'farm': 6486, '84199': 851, 'genes': 6815, 'drinkin': 6164, 'cool': 5709, 'thought': 10451, 'Playin': 3234, 'zyada': 11354, 'Ph08704050406': 3213, '69888': 752, 'worryuse': 11173, 'Hurry': 2287, '8hr': 904, 'YOURE': 4402, 'lasagna': 7705, 'algebra': 4610, 'Onum': 3080, 'Btw': 1323, 'day2find': 5882, '7634': 784, 'Boost': 1288, 'THECD': 3874, 'tobacco': 10523, 'ice': 7283, 'comedycant': 5603, 'smsing': 9879, 'worried': 11169, 'dun': 6204, 'town': 10598, '69911£150p': 754, 'worlds': 11166, 'wasted': 10963, 'aburo': 4475, 'wanna': 10944, 'fill': 6549, '09065171142stopsms08': 247, 'logopic': 7867, '3510i': 567, 'meaning': 8080, 'L8r': 2541, 'gr8': 6918, 'Cute': 1557, 'laid': 7681, 'housewives': 7204, 'Tenants': 3944, 'Wtf': 4355, 'treated': 10630, 'batch': 4937, 'champneys': 5409, 'jst': 7544, 'don‘t': 6126, 'ITxx': 2338, 'MATCH': 2703, 'Sppok': 3759, 'optin': 8620, 'HIT': 2137, 'breathe': 5165, 'without': 11113, 'impossible': 7322, '08701237397': 77, 'Tickets': 3995, 'Atleast': 1103, 'difficulties': 6031, 'needa': 8387, 'moving': 8276, 'calldrove': 5289, 'Guess': 2101, '09066382422': 268, 'requirements': 9360, '08709501522': 99, 'surely': 10238, '2godid': 514, 'doinnearly': 6113, 'flirting': 6614, 'MARCH': 2699, 'Ctargg': 1546, 'salmon': 9520, 'meI': 8075, 'Costs': 1526, 'courtroom': 5751, 'Sending': 3626, 'qet': 9150, 'another': 4686, 'gotto': 6912, '2004': 429, 'ppm': 8984, 'go': 6864, 'Finally': 1912, 'WOT': 4239, 'reply': 9349, 'kadeem': 7563, 'support': 10229, 'interesting': 7395, 'weekly': 11010, 'frankgood': 6693, 'End': 1782, 'ph08700435505150p': 8824, 'bathing': 4941, 'ADDAMSFA': 942, 'Only1more': 3079, '08002888812': 57, 'undrstndng': 10731, 'Kkthis': 2524, 'mapquest': 8023, 'cheery': 5451, 'Storming': 3788, 'hubby': 7232, 'lose': 7891, 'member': 8108, 'or2optoutHV9D': 8623, 'xx': 11270, 'bring': 5180, 'daplease': 5857, 'txtX': 10687, 'parking': 8738, 'dreamsMuah': 6157, 'Theres': 3974, 'received': 9254, 'tiempo': 10479, 'premium': 9012, 'tree': 10634, 'DollD': 1690, 'nothin': 8479, 'Jen': 2434, 'forms': 6674, 'tvlol': 10679, '5249': 694, 'MUMS': 2765, 'Rent': 3412, '08702840625COMUK': 87, 'parts': 8746, 'prepayment': 9016, 'happen': 7025, 'Rodds1': 3429, 'TONITE': 3898, 'Woke': 4336, 'Luck': 2674, 'wwwmusictrivianet': 11239, '80062': 806, 'Becomes': 1239, 'weds': 11002, 'tmrw': 10517, 'poop': 8937, 'TELLMISS': 3856, 'cakes': 5268, 'andor': 4665, 'MOON': 2747, 'arrival': 4782, 'REPLY': 3343, 'Anything': 1070, 'bitch': 5054, 'ANYTHING': 970, 'tirupur': 10505, 'surf': 10239, '1ER': 400, 'URN': 4093, 'Nimyapls': 2986, 'manage': 8010, 'JOBYET': 2415, 'ya': 11279, '8Attractive': 898, 'ni8': 8421, 'charles': 5427, 'HOUSE': 2155, 'Huh': 2284, 'wat': 10965, 'knackered': 7634, 'rofl': 9451, 'FML': 1857, 'FIZZ': 1854, 'evey': 6386, 'gpu': 6917, 'cooking': 5708, 'laughs': 7721, 'meds': 8090, 'Dileepthank': 1666, 'suggest': 10197, 'improved': 7329, 'ipad': 7420, '373': 573, 'pie': 8851, 'tho': 10446, 'sorting': 9946, 'Aiya': 1034, 'sexiest': 9673, 'GIRL': 1985, 'baby': 4888, 'FRESHERS': 1874, 'fit': 6588, 'thursday': 10473, 'strain': 10120, 'class': 5527, 'everyso': 6383, 'breeze': 5168, 'bundle': 5225, 'Nookii': 3006, 'Mwahs': 2899, 'WORRY': 4237, 'mindi': 8166, 'Club4': 1491, 'verified': 10845, 'babysit': 4890, '08718729758': 164, 'Tis': 4002, 'official': 8556, 'No83355': 2990, 'specs': 9980, 'BT': 1198, 'NR31': 2939, 'REGRET': 3340, 'loti': 7898, 'Laughed': 2611, 'italian': 7448, 'lotz': 7906, 'Sos': 3738, 'velachery': 10842, 'sleep': 9829, 'PUTTIN': 3176, 'Mine': 2831, 'di': 6002, 'goldviking': 6885, 'confused': 5666, 'Haiyoh': 2176, 'juicy': 7547, 'gotten': 6911, 'delivered': 5949, 'wall': 10934, 'community': 5618, '07815296484': 41, 'Forgets': 1933, 'hv': 7266, 'stands': 10046, '3g': 594, 'buns': 5227, 'Messages': 2818, 'FOREVER': 1861, 'Looks': 2655, 'Babe': 1211, 'fightng': 6542, 'calling': 5294, 'women': 11138, 'channel': 5416, 'box334sk38ch': 5141, 'Realy': 3389, 'btwn': 5210, 'askin': 4802, 'super': 10220, 'yoHere': 11309, 'Knock': 2530, 'REPORT': 3345, 'wonder': 11141, 'bedrm900': 4977, 'sofa': 9897, 'NICHOLS': 2921, 'fucks': 6747, 'faglord': 6455, 'Live': 2637, 'Help08718728876': 2216, 'Frankie': 1938, 'chapter': 5419, 'mee': 8091, 'Neither': 2960, '09053750005': 193, '88222': 881, '4Cook': 648, 'jaykwon': 7494, 'freak': 6695, 'Music': 2895, 'It\\x92s': 2392, 'Wn': 4334, 'midnight': 8152, 'UCALL': 4072, 'asked': 4801, 'txtjourney': 10690, 'JUS': 2419, 'floppy': 6618, 'NO434': 2928, '8WP': 902, 'venaam': 10843, 'hesitation': 7112, 'PARK': 3108, 'fals': 6471, 'companies': 5620, 'norm': 8466, 'handing': 7013, 'snappy': 9884, 'created': 5771, 'doesnt': 6099, 'flavour': 6603, '415': 615, 'friend': 6717, 'tortilla': 10583, 'carry': 5356, 'Super': 3819, 'Street': 3790, 'monthnot': 8250, 'ana': 4661, 'eat': 6234, 'BluetoothHdset': 1275, 'amore': 4653, 'CRAZYIN': 1400, 'vibrate': 10853, 'waythis': 10980, 'homeBut': 7160, 'spin': 9994, 'performance': 8802, 'KEEP': 2474, 'MobileUpd8': 2853, 'dismissial': 6073, 'gf': 6834, 'Psychic': 3295, 'TOME': 3890, 'rewarding': 9414, 'basically': 4932, 'SAE': 3448, 'youthats': 11332, 'Smiling': 3715, 'refilled': 9285, 'trained': 10605, 'eshxxxxxxxxxxx': 6351, 'bus': 5237, 'veggie': 10840, 'announcement': 4681, 'error': 6341, 'noline': 8457, 'converter': 5699, 'skype': 9823, 'original': 8636, 'dosomething': 6132, 'IWANA': 2340, 'danger': 5854, 'nos': 8472, 'passionate': 8756, 'nvm': 8516, 'FANCY': 1834, 'Shahjahans': 3645, 'want2come': 10946, 'boring': 5122, 'Ride': 3420, 'showing': 9749, 'comingdown': 5611, 'Colin': 1498, 'OK': 3037, 'walk': 10928, 'morn': 8254, 'Westlife': 4298, 'half': 7004, 'named': 8349, 'kittum': 7631, 'machines': 7971, 'subscribers': 10175, 'picture': 8849, 'NEFT': 2910, '285': 471, '96': 919, 'FriendshipMotherFatherTeachersChildrens': 1954, 'Future': 1961, 'Sar': 3594, 'lecturer': 7747, '8pm': 907, 'ignore': 7301, '449month': 633, 'Toa': 4010, 'Student': 3794, 'Sfrom': 3642, '2End': 483, 'sunday': 10211, 'CC': 1357, 'coimbatore': 5577, 'PICS': 3126, 'changes': 5414, 'stealing': 10076, 'Colleagues': 1499, 'PAY': 3113, 'Real': 3387, 'wudnt': 11205, 'Thk': 3983, 'embarassing': 6288, 'respectful': 9378, 'Txt250com': 4063, '08718726970': 157, 'authorise': 4850, 'ham': 7008, 'youkwhere': 11322, 'Amrca': 1064, '3days': 593, 'Eta': 1795, 'package': 8691, '08717168528': 143, 'chain': 5404, 'GBP': 1973, 'drunken': 6186, 'UKmobiledate': 4076, 'snake': 9883, 'Children': 1473, 'slightly': 9840, 'sem': 9636, 'except': 6400, 'happens': 7030, 'ARR': 977, 'ASTHERE': 981, 'Anyways': 1073, 'crash': 5763, 'following': 6639, 'Yalru': 4410, 'gudk': 6972, 'peaceful': 8781, 'formallyPls': 6670, 'Message': 2817, 'Boltblue': 1280, 'Exorcism': 1822, 'p£399': 9147, 'NOW1': 2937, 'rent': 9334, 'sorted': 9945, 'readyall': 9225, 'Yesgauti': 4428, 'Statement': 3776, 'MOBNO': 2740, 'LATER': 2549, 'fast': 6489, 'lt': 7933, 'must': 8324, 'shagged': 9683, 'strangersaw': 10123, 'lengths': 7759, 'HOT': 2153, 'jacket': 7477, 'sleeping': 9831, 'monthly': 8249, '450p': 637, 'ibuprofens': 7280, 'grins': 6950, '28th': 473, 'old': 8580, 'CASH': 1353, 'NOTHING': 2936, 'Nicenicehow': 2976, 'living': 7843, 'Accounts': 1005, 'wordnot': 11153, 'isn’t': 7443, 'Shahjahan': 3644, 'Two': 4061, 'destiny': 5984, 'units': 10745, '6669': 741, 'ruining': 9486, 'might': 8154, 'stink': 10095, 'thats': 10404, 'whereare': 11053, 'emailed': 6286, 'data': 5870, 'entire': 6326, 'ar': 4752, 'investigate': 7408, 'MILLIONS': 2720, 'haven\\x92t': 7052, 'testing': 10375, 'space': 9961, 'Romantic': 3433, 'quickly': 9161, 'Change': 1459, 'WAITING': 4195, 'taunton': 10322, 'Yesbut': 4426, '82242': 826, 'dysentry': 6216, 'shirts': 9712, 'toilet': 10534, 'predicting': 9006, 'Finish': 1916, 'quoting': 9170, 'Hottest': 2275, 'graduated': 6922, 'dengra': 5955, 'exe': 6407, 'grownup': 6962, 'solved': 9905, 'Props': 3290, 'possessiveness': 8957, 'freaking': 6697, 'truly': 10651, 'feet': 6523, 'tomorrowcall': 10550, 'thangam': 10390, 'TayseerTISSCO': 3929, 'Got': 2080, 'Cali': 1416, 'bpo': 5149, 'SOFA': 3511, 'Hmmmstill': 2245, 'Ryder': 3443, 'ViVa': 4171, 'itmail': 7457, 'Evn': 1812, 'stevelike': 10087, 'tming': 10515, 'Annoying': 1067, 'parked': 8736, 'park6ph': 8735, 'homecheck': 7161, 'shy': 9760, 'kodthini': 7651, 'Ringtone¡': 3427, 'AkonLonely': 1039, 'WAIT': 4194, '2MRW': 493, 'LS1': 2589, 'IBN': 2294, 'unconditionally': 10719, 'UKs': 4077, 'replace': 9344, 'nipost': 8441, 'teacoffee': 10337, 'quite': 9164, 'History': 2231, 'handsome': 7017, 'hee': 7081, 'unsold': 10755, 'xt': 11268, 'Ffffffffff': 1905, 'cousin': 5752, 'fancy': 6480, 'SWAT': 3576, 'earthsofa': 6227, '6times': 771, 'derek': 5971, 'NYTHO': 2945, 'rite': 9438, 'picking': 8846, 'meshe': 8130, 'Georges': 2045, 'foreign': 6657, 'heavy': 7079, 'aftr': 4565, 'carolina': 5353, 'Pics': 3221, 'mids': 8153, 'studying': 10151, 'flag': 6596, 'teaching': 10336, '69988': 756, 'months': 8251, 'bt': 5207, 'aunty': 4847, 'shell': 9702, 'TONESReply': 3895, 'manual': 8020, 'noisy': 8454, '645pm': 739, 'chatIm': 5436, 'luxury': 7956, 'LIFE': 2558, 'doke': 6114, 'Orchard': 3094, 'Missed': 2838, 'bear': 4961, 'endof': 6302, 'Hows': 2279, 'mys': 8334, 'DAN': 1565, 'Number': 3021, 'plz': 8907, 'ovulation': 8675, 'eggpotato': 6261, 'shared': 9693, 'SPTV': 3538, 'KUDIyarasu': 2483, 'second': 9601, '18only': 392, 'Registered': 3402, 'wins': 11096, 'analysis': 4662, 'venugopal': 10844, 'Neville': 2967, 'Shhhhh': 3656, 'album': 4602, 'Loosu': 2658, 'mist': 8201, 'buyer': 5249, 'LCCLTD': 2551, 'DOCKS': 1590, 'mofo': 8228, 'academic': 4480, 'wishes': 11104, 'basic': 4931, 'staff': 10034, 'LUV': 2598, 'ystrdayice': 11343, 'schedule': 9570, 'lacsthats': 7673, 'Todays': 4012, 'usually': 10805, 'cd': 5387, 'Wire3net': 4328, 'Shjas': 3664, 'Raining': 3369, 'scrappy': 9581, 'THERES': 3876, 'Europe': 1800, 'pouch': 8972, 'strtd': 10140, 'ic': 7281, 'robs': 9447, 'fans': 6481, '20M12AQ': 435, 'Diseases': 1677, 'Norcorp': 3010, 'wants': 10949, 'ovarian': 8667, 'gays': 6803, 'CR9': 1399, 'gonna': 6890, 'ganesh': 6785, 'Whenre': 4308, 'wwwtextpodnet': 11252, 'diskyou': 6070, 'Calls150ppm': 1425, 'agidhane': 4576, 'causing': 5381, 'deleted': 5946, 'dignity': 6036, 'Ringtones': 3426, 'salon': 9521, 'chillin': 5491, 'fixd': 6592, 'tiime': 10484, 'hospital': 7192, '83110': 835, 'Urgent': 4135, 'outif': 8659, '42478': 621, 'Tour': 4026, 'ALSO': 962, 'knees': 7635, 'goods': 6901, 'miwa': 8207, 'HOTMIX': 2154, 'rock': 9448, 'Box': 1292, 'Cash': 1447, 'achanammaRakheshQatar': 4500, 'fiendmake': 6537, 'shore': 9728, 'Charles': 1461, 'judgementali': 7546, '4WARD': 658, '69698': 748, 'glo': 6859, 'senor': 9643, 'place': 8870, 'Kit': 2513, 'Follow': 1925, 'blackberry': 5061, 'stars': 10051, 'MEETIN': 2709, 'wks': 11125, 'splleing': 10001, 'marrgeremembr': 8033, 'belovd': 5005, 'urgnt': 10782, '113': 317, '255': 459, 'pump': 9126, 'drivin': 6170, 'Bray': 1304, 'ashleys': 4796, 'thot': 10448, 'rumour': 9491, 'vasai': 10835, 'game': 6782, 'stretch': 10130, 'puzzles': 9146, 'travel': 10622, 'Ugh': 4102, 'radio': 9174, '7Romantic': 793, '£250': 11385, 'Feel': 1901, 'traffic': 10603, 'friendsare': 6720, 'absence': 4471, 'Surely': 3823, 'Waste': 4273, 'matches': 8047, 'Stop2': 3786, 'pierre': 8854, 'RANDOM': 3324, 'fakeyes': 6464, 'manege': 8016, 'alreadysabarish': 4630, 'Therere': 3973, 'education': 6246, 'warranty': 10956, 'gayle': 6802, 'kwish': 7663, 'hypotheticalhuagauahahuagahyuhagga': 7273, 'Bit': 1261, 'contacted': 5684, 'sao': 9531, 'pillows': 8858, 'catching': 5376, 'lovly': 7925, 'cuddle': 5800, 'blocked': 5079, 'homelove': 7163, 'ard': 4755, 'exeter': 6410, 'Blind': 1269, 'surrounded': 10246, 'kz': 7664, 'prebook': 9004, 'slap': 9827, 'panren': 8712, 'YOR': 4400, 'vegetables': 10839, '09066358361': 256, 'Yetunde': 4437, 'rsi': 9479, 'Remembrs': 3407, 'J': 2403, 'Chinese': 1475, 'lot': 7897, 'Dont': 1694, 'sporadically': 10011, 'JSCO': 2416, 'talk': 10303, 'Stuff': 3796, 'UNDERSTaND': 4079, 'uworld': 10814, 'LOST': 2580, 'complete': 5630, 'DISCOUNT': 1588, 'Neva': 2965, 'ü': 11418, 'Unni': 4123, 'GREAT': 2019, 'ogunrinde': 8564, 'SPOOK': 3534, 'pictures': 8850, 'Ur': 4133, 'user': 10797, 'WID': 4217, 'Hyde': 2290, 'asia': 4798, 'Awarded': 1113, 'ability': 4466, 'unbelievable': 10714, 'problembut': 9066, 'dump': 6203, '5I\\x92m': 705, 'bot': 5127, 'Working': 4346, 'highest': 7122, 'Yummy': 4447, 'haunt': 7047, 'goals': 6869, 'Cud': 1550, 'selling': 9634, '35p': 568, 'cricketer': 5781, 'systems': 10280, 'dramatic': 6148, 'Dasara': 1624, 'rons': 9459, 'Therell': 3972, '150pMTmsg': 358, 'drive': 6168, 'bit': 5053, '83355': 840, 'Ni8': 2973, 'smile': 9866, 'upto': 10776, 'warning': 10955, '08717898035': 150, 'Todaysundaysunday': 4013, 'adsense': 4540, 'bag': 4899, 'newscaster': 8418, 'Ave': 1111, 'workage': 11158, 'rayan': 9205, 'apartment': 4715, 'careinsha': 5342, 'Nice': 2975, 'beneficiary': 5011, 'joy': 7540, 'beloved': 5006, 'mouth': 8269, '863': 863, 'dock': 6092, 'diwali': 6083, 'operate': 8606, 'eggspert': 6263, 'Arun': 1093, 'mummy': 8311, 'couple': 5747, 'growing': 6960, 'L8R': 2539, 'GROWRANDOM': 2020, '85023': 855, 'guide': 6978, 'MUCHXXLOVE': 2763, 'TONEXS': 3896, 'Okay': 3065, 'Year': 4417, 'bike': 5036, 'Ami': 1063, 'Whos': 4314, 'mango': 8017, 'tookplace': 10567, 'wkend': 11121, 'blow': 5090, 'Quite': 3317, 'bx420': 5255, 'Em': 1776, 'complain': 5626, 'texting': 10383, 'behind': 4995, '09066362220': 259, 'compromised': 5639, 'FINE': 1849, 'Tension': 3946, 'bthmm': 5208, 'msgsometext': 8289, 'ISVIMPORTANT': 2332, 'openin': 8603, 'papers': 8718, 'snowboarding': 9891, 'nuerologist': 8506, 'Free': 1941, 'china': 5492, 'GOT': 2012, 'Yeshe': 4429, 'approx': 4744, 'PocketBabecouk': 3250, 'PoBox84': 3249, 'BELIEVE': 1155, 'TOWN': 3904, 'absolutely': 4472, 'errors': 6342, 'elaborating': 6273, 'Ranjith': 3376, 'Luv': 2680, 'visit': 10882, 'route': 9471, 'brin': 5179, 'BACKWARDS': 1131, 'sept': 9654, 'datoday': 5875, '89938': 897, 'lifeyou': 7792, 'SOMETHING': 3515, 'Eire': 1770, 'Sms': 3718, 'Important': 2356, 'cards': 5335, 'Libertines': 2624, 'olave': 8578, 'ltURLgt': 7938, 'blessed': 5073, 'i\\x92m': 7470, 'naked': 8345, '08715203028': 132, 'end': 6298, 'SATTHEN': 3455, 'events': 6373, 'double': 6134, 'tylers': 10693, 'Regards': 3401, 'soso': 9950, 'Moms': 2863, 'blessget': 5074, 'series': 9656, 'WELLDA': 4208, 'BEDROOMLOVE': 1152, '88088': 880, 'sick': 9764, 'tag': 10290, 'MATE': 2705, 'TEXTPOD': 3863, 'Canada': 1432, 'Indians': 2367, 'PAUL': 3112, 'NBME': 2907, 'informedRgdsRakheshKerala': 7359, 'p': 8687, 'ethreats': 6361, 'Helloooo': 2212, 'chastity': 5434, 'satü': 9547, 'I‘ve': 2402, 'hollalater': 7156, 'TextOperator': 3955, 'GoTo': 2061, 'mahal': 7991, 'prakasam': 8995, 'spoiled': 10004, 'Celebrated': 1453, 'carly': 5352, 'Ron': 3434, 'Loverboy': 2666, '087018728737': 83, 'Seem': 3620, 'closes': 5551, 'Helen': 2207, 'lead': 7732, '22': 444, '140ppm': 349, 'mens': 8117, 'strt': 10139, 'h': 6991, 'compulsory': 5640, 'Glad': 2057, 'A£50': 1119, 'leh': 7754, 'wan': 10942, 'Warner': 4271, 'surprise': 10243, 'transferred': 10616, 'comei': 5604, 'Gudni8': 2097, '12hours': 337, 'woul': 11179, 'reaction': 9219, 'hanks': 7023, 'daysèn': 5889, 'shits': 9716, 'tired': 10501, 'btw': 5209, 'KATE': 2472, 'red': 9275, 'tomarrow': 10544, 'okday': 8570, 'finalise': 6558, 'GHOST': 1982, 'Mostly': 2876, 'macho': 7972, 'chad': 5403, '£400': 11393, 'Almost': 1051, 'waited': 10922, 'Stupid': 3797, 'advising': 4548, 'squeezed': 10024, 'ladiesU': 7676, 'casualty': 5372, 'digits': 6035, 'removal': 9327, 'Long': 2652, 'annoying': 4683, 'dob': 6088, 'punish': 9128, 'suite': 10200, 'pounds': 8975, 'SPJanuary': 3532, 'actor': 4515, 'chikkuB': 5475, 'presence': 9021, 'decision': 5919, 'Ohas': 3060, 'Soany': 3721, '09099726553': 287, 'billion': 5039, 'roller': 9456, 'ayn': 4878, 'exist': 6414, 'guarantee': 6968, 'brand': 5154, 'Australia': 1109, 'üll': 11419, 'choice': 5499, 'weeks': 11011, '123': 332, 'n': 8336, 'AGreen': 953, 'pulls': 9125, 'handed': 7012, 'QUITE': 3305, 'Holiday': 2256, 'party': 8747, 'Stylist': 3800, 'explain': 6427, '2005': 430, 'officewhats': 8555, '08712400200': 108, 'certificate': 5401, 'mw': 8330, 'arise': 4767, 'Princess': 3281, 'nightnight': 8430, 'tihs': 10483, 'pai': 8698, 'Goto': 2081, 'solihull': 9903, 'watch': 10966, 'necessity': 8382, 'S3XY': 3444, 'MINE': 2722, 'relax': 9307, 'Provided': 3292, '3Unkempt': 589, 'Lmaonice': 2642, 'runs': 9495, 'DOGBREATH': 1593, '2daylove': 510, 'sucks': 10186, 'Affectionate': 1017, 'orig': 8635, 'converted': 5698, 'honesty': 7167, 'specialise': 9976, 'Life': 2626, 'True': 4036, '2hrs': 516, 'TALKED': 3840, 'carso': 5359, 'forward': 6680, 'Ready': 3386, 'SAY': 3458, 'pick': 8844, 'USER': 4097, 'console': 5680, 'knickers': 7637, 'willing': 11082, 'Browni': 1319, 'Hicts': 2226, 'apt': 4749, 'practice': 8990, '7am': 796, 'phoned': 8834, 'salesman': 9518, 'pool': 8936, 'loud': 7908, 'cops': 5715, 'lunchyou': 7949, 'loss': 7895, 'Becoz': 1240, 'wo': 11131, 'inches': 7333, 'toppoly': 10578, 'dick': 6010, 'kept': 7594, 'BEER': 1153, 'countin': 5743, 'soon': 9931, 'tooLets': 10564, 'phonebook': 8833, 'One': 3077, 'Forevr': 1932, 'BangBabes': 1222, 'ibm': 7278, '125gift': 334, 'clocks': 5545, 'grace': 6921, '08712460324': 118, 'Pilates': 3224, 'gari': 6792, 'OJA': 3036, 'abj': 4467, 'DD': 1574, 'Alex': 1045, 'depressed': 5967, 'stage': 10036, 'chikkuDB': 5476, 'NRI': 2940, 'seem': 9618, '350': 566, 'others': 8644, 'move': 8270, 'bloodblood': 5087, 'expect': 6416, 'langport': 7694, 'engalnd': 6310, 'infernal': 7352, 'skinny': 9816, 'Remember': 3403, 'roommates': 9463, 'timedhoni': 10489, 'DONATE': 1595, 'Simpsons': 3684, 'great': 6937, '530': 697, 'PICSFREE1': 3127, 'ashwini': 4797, 'ali': 4612, 'custcare': 5818, 'laughing': 7720, 'Spending': 3749, 'SERVs': 3474, 'ONCALL': 3041, 'grow': 6959, 'TsCs08714740323': 4046, 'XXXX': 4371, 'haf': 6997, 'truffles': 10650, 'xnet': 11267, 'stocked': 10098, 'Walk': 4262, 'AH': 954, 'Wanna': 4266, 'goodwhen': 6902, 'lambda': 7684, 'Esplanade': 1794, 'xavier': 11263, 'BANK': 1136, 'inconsiderate': 7339, 'darlinim': 5866, '261104': 464, 'sis': 9799, 'TAMPA': 3843, 'WAY2SMSCOM': 4202, '81151': 822, 'thinked': 10435, 'talks': 10305, 'alwys': 4642, '2rcv': 533, 'rude': 9483, '23': 446, 'Shinco': 3660, 'ironing': 7427, 'come': 5601, 'Please': 3235, 'web': 10993, 'wine': 11091, 'X49Your': 4363, 'legitimat': 7752, 'supervisor': 10223, 'OVERDOSE': 3053, 'VPOD': 4157, 'mth': 8295, 'PARISFREE': 3107, 'dancing': 5851, 'grinder': 6949, 'vth': 10908, 'easily': 6230, 'wasn\\x92t': 10960, 'hut': 7265, 'sales': 9517, 'weird': 11017, 'Customer': 1554, 'ringtoneking': 9431, 'FUCKING': 1886, '130': 342, 'Bookmark': 1286, '2': 423, 'sen': 9640, 'URGOIN': 4091, 'becoz': 4971, 'Dearregret': 1637, 'Pg': 3212, '150pwk': 376, 'Kkhow': 2521, 'andrewsboy': 4668, 'grr': 6963, 'Hmmmm': 2244, '08081560665': 64, '82324': 829, 'murdered': 8317, '09064012103': 237, '09058091870': 197, 'korte': 7656, 'Howda': 2277, '24': 449, 'umma': 10711, 'Dirty': 1673, 'Fills': 1909, 'nolistened2the': 8458, 'bb': 4949, 'herwill': 7108, 'Expression': 1828, 'nearer': 8377, 'justify': 7558, 'lingo': 7817, 'NYUSA': 2946, 'urgentlyits': 10781, 'gentle': 6817, 'Gimme': 2052, '2u2': 537, 'httpdoit': 7220, 'MAKE': 2695, '10am9pm': 309, 'yest': 11298, 'respond': 9380, 'program': 9084, 'WHITE': 4215, 'FRNDSHIP': 1881, 'southern': 9959, 'PARIS': 3106, 'outhave': 8658, 'frequently': 6709, 'uncut': 10724, 'pee': 8784, 'HOLIDAY': 2144, 'smear': 9861, 'Qatar': 3307, 'dusk': 6210, 'shelf': 9701, 'pop': 8941, 'knowhe': 7640, '»10': 11414, 'NITE2': 2924, 'Hahahause': 2173, 'Uks': 4106, 'grumble': 6964, 'interest': 7393, 'dental': 5958, 'onedge': 8587, 'paypal': 8777, 'FOUNDURSELF': 1862, 'enough': 6319, 'batchlor': 4938, 'Starts': 3775, 'rawring': 9204, 'avin': 4864, 'Cashbincouk': 1448, 'Usher': 4140, 'afghanistan': 4557, 'oral': 8625, 'LUTON': 2597, 'wer': 11031, 'MonthlySubscription50pmsg': 2868, 'evry1': 6392, 'goodmate': 6897, 'Pin': 3225, 'kodstini': 7650, 'GUD': 2023, 'imagine': 7311, '2NITETELL': 496, 'teeth': 10348, 'ibored': 7279, '28': 469, 'woot': 11146, 'establish': 6357, 'Hurt': 2288, 'Sorry': 3735, 'CLoSE': 1381, 'turn': 10672, 'bothering': 5129, 'Havent': 2194, 'resend': 9364, 'MUM': 2764, 'morningtake': 8257, 'boo': 5108, '300603': 547, 'febapril': 6513, 'non': 8459, 'receipts': 9250, 'SIB': 3489, 'goin2bed': 6881, 'popped': 8943, 'africa': 4559, 'scratches': 9582, 'telling': 10355, 'Chef': 1471, 'craziest': 5768, 'behave': 4994, 'CHEERS': 1372, 'Shit': 3662, 'nange': 8354, 'durban': 6208, 'hospitals': 7193, 'Cribbs': 1540, 'forum': 6678, 'Weightloss': 4290, 'AFTERNOON': 946, 'action': 4511, 'Grahmbell': 2084, 'pesky': 8820, 'ANNIE': 966, 'shortly': 9734, 'belive': 4998, 'BREAKIN': 1192, 'W14RG': 4188, 'Vodafone': 4180, 'poortiyagi': 8940, 'winner': 11094, 'Take': 3923, 'dirty': 6055, 'bout': 5135, '2day': 509, 'violated': 10874, 'num': 8507, 'FRMCLOUD': 1878, 'Bored': 1289, 'maniac': 8018, 'achieve': 4502, 'STOPCS': 3552, 'Rajnikant': 3373, '£50': 11397, 'anytime': 4710, 'AVE': 987, 'MINUTES': 2725, 'GAIL': 1967, 'hairdressers': 7003, 'SOONC': 3519, 'COS': 1396, '2naughty': 525, 'length': 7758, '£10': 11361, 'wquestion': 11185, 'ericson': 6338, 'tomo': 10546, 'selection': 9629, 'dearly': 5907, 'squatting': 10023, 'INDIANS': 2317, 'strewn': 10131, 'subscriber': 10174, 'cochin': 5570, '1Unbreakable': 408, 'riddance': 9419, 'kisses': 7628, '2go': 513, '150ptext': 374, 'Valentines': 4160, 'YOURJOB': 4403, 'consider': 5677, 'EVONE': 1745, 'MESSAGEThanks': 2715, 'attended': 4831, 'UnSub': 4113, 'Hands': 2181, 'html': 7217, '09066362231': 260, 'REAL': 3328, 'dogg': 6103, 'Iwasmarinethat\\x92s': 2395, '16only': 385, '09058094597': 204, 'falls': 6470, 'Baaaaabe': 1210, 'include': 7335, 'g': 6769, 'changing': 5415, '83435': 843, 'Youre': 4443, 'Strip': 3791, 'Sort': 3737, 'ela': 6271, 'Minimum': 2832, 'processExcellent': 9073, 'reserved': 9368, 'dropped': 6176, 'dialling': 6004, '4217': 620, 'reltnship': 9314, 'relaxing': 9308, 'waht': 10920, 'occupy': 8535, 'mutations': 8328, 'Right': 3421, 'festival': 6529, 'Tunji': 4055, 'Independence': 2363, 'bigger': 5034, 'Close': 1489, 'rain': 9181, 'PoBox1': 3243, 'Holy': 2259, 'nxt': 8518, 'recreation': 9273, 'spark': 9968, 'nit': 8442, 'Player': 3233, 'we‘ll': 11044, 'alcohol': 4604, 'bawling': 4947, 'dreamsu': 6159, 'catches': 5375, 'barrel': 4926, 'Took': 4022, '09065394973': 251, 'id': 7287, 'bcum': 4955, 'dippeditinaDEW': 6048, 'Work': 4345, 'filthyguys': 6556, 'owe': 8677, '4U': 657, '5mls': 717, '850': 854, 'pleasure': 8896, 'gs': 6965, 'H': 2109, 'talking': 10304, 'quote': 9169, 'Predicte': 3272, 'dramastorms': 6147, 'pocay': 8911, 'boston': 5126, '80s': 820, '08712405022': 117, 'Da': 1615, 'harlem': 7040, '02070836089': 10, 'Athletic': 1100, 'Thank': 3957, '4MY': 653, 'ex': 6394, 'gr8prizes': 6919, 'YA': 4382, 'sexual': 9675, 'Yeah': 4416, '08452810073': 72, 'Credit': 1539, 'Forwarded': 1935, 'spot': 10014, 'fantastic': 6483, 'telephone': 10353, 'predictive': 9008, 'promised': 9093, 'Valuable': 4163, 'samachara': 9523, 'rr': 9477, 'mu': 8298, 'bestrply': 5016, 'dawns': 5880, 'spring': 10019, 'practising': 8993, 'aka': 4599, 'worries': 11170, '07801543489': 37, 'POLY3': 3151, 'pole': 8921, 'engagement': 6309, 'earning': 6224, 'merely': 8127, 'phd': 8826, 'inlude': 7368, 'Im': 2352, 'application': 4730, 'Egbon': 1768, 'PopcornJust': 3260, 'rpl': 9475, 'corrupt': 5725, 'swalpa': 10253, 'APRIL': 973, 'brison': 5184, 'Lool': 2656, 'mp3': 8277, 'Rate': 3378, 'NO910': 2931, 'wont': 11145, 'blowing': 5091, 'burger': 5229, 'monkeys': 8244, 'themP': 10411, 'mark': 8029, '0870k': 100, 'lubly': 7941, 'BIT': 1165, 'THASA': 3869, 'wallet': 10935, 'recently': 9257, 'Captain': 1438, 'temper': 10363, 'opportunitypls': 8613, 'sum1': 10204, 'WITHOUT': 4224, 'Soup': 3741, 'mylife': 8331, 'po': 8910, 'arranging': 4780, 'city': 5517, 'call2optoutJ': 5280, '9decent': 927, 'entirely': 6327, 'jeans': 7500, 'GOSSIP': 2010, 'need': 8386, 'downstem': 6144, '62220Cncl': 732, 'National': 2954, 'VIDEO': 4151, 'Single': 3688, 'east': 6231, 'Accept': 1001, 'garments': 6793, 'appeal': 4725, 'thepub': 10417, 'edward': 6249, 'callertune': 5292, 'todaydo': 10528, 'noon': 8463, 'bold2': 5102, 'english': 6313, 'spk': 9997, 'vomit': 10897, 'underdtand': 10725, 'alert': 4605, 'sashimi': 9538, '08718726270': 155, 'Final': 1911, 'PO19': 3137, 'SHAME': 3478, 'Arngd': 1089, 'BABYHOPE': 1129, 'daddy': 5837, 'BOX334SK38ch': 1182, 'FUCK': 1883, 'Sony': 3732, 'hurts': 7261, 'optout': 8622, 'bangb': 4913, 'CD': 1358, 'WAP': 4200, 'mean': 8079, 'Lands': 2603, 'Speaking': 3747, 'Kkadvance': 2514, 'Honestly': 2262, 'brats': 5156, 'SOMEONE': 3513, 'quitting': 9165, '0125698789': 6, 'WOW': 4243, 'neighbors': 8399, 'mandara': 8015, 'Account': 1004, 'SI': 3488, 'Inform': 2371, 'IKNO': 2302, 'Ew': 1816, 'That\\x92s': 3964, 'Suprman': 3821, 'oil': 8566, 'Ring': 3423, 'GIMMI': 1984, 'brownie': 5197, 'Give': 2056, 'can\\x92t': 5323, 'itried2tell': 7461, 'xuhui': 11269, 'SHITIN': 3482, 'cust': 5817, 'WISH': 4222, 'Barbie': 1225, 'basqihave': 4935, 'google': 6903, '08718726971': 158, 'Everytime': 1811, 'lazy': 7731, 'July': 2463, 'flirt': 6613, 'EVERY1': 1743, 'TsandCs': 4048, 'Lancaster': 2601, '2WT': 504, 'Ctagg': 1545, '150p': 356, 'layin': 7728, 'tomorrowtoday': 10551, 'Classic': 1486, 'shite': 9714, 'Bye': 1336, 'SUPER': 3568, 'Yessura': 4433, 'tactless': 10289, 'erything': 6346, 'scrumptious': 9590, 'physics': 8840, 'counts': 5745, 'intha': 7402, 'MONOC': 2746, 'CANCEL': 1347, 'speeding': 9983, 'shoot': 9723, 'omw': 8584, 'Miss': 2837, 'heading': 7059, 'v': 10816, 'harri': 7041, 'Yoyyooo': 4445, 'excuses': 6406, 'embarassed': 6287, '81010': 821, 'disturbancemight': 6078, 'We‘re': 4302, 'swatch': 10256, 'bf': 5024, 'BK': 1166, 'greatness': 6942, 'tel': 10352, 'Drink': 1708, 'Sim': 3681, 'lotsof': 7902, '08000407165': 51, 'stuffs': 10158, 'STRIKE': 3555, 'fireplace': 6580, 'TALKIN': 3841, 'RP176781': 3360, 'beer': 4982, 'booked': 5111, 'far': 6485, 'everyday': 6380, 'masteriastering': 8044, 'elaine': 6274, 'nightswt': 8435, 'itlet': 7456, 'tor': 10580, 'ing': 7365, 'Kate': 2489, 'pocked': 8912, 'DECIDED': 1577, 'Laughing': 2612, 'gravy': 6934, 'openings': 8605, 'fring': 6723, 'WWWASJESUSCOM': 4251, 'Izzit': 2396, 'sooooo': 9936, 'match': 8046, 'linux': 7820, 'stuck': 10144, 'lv': 7957, 'varma': 10833, 'Cardiff': 1439, 'current': 5813, 'Monday': 2865, '09058094583': 202, '1His': 402, 'ron': 9458, 'wrks': 11193, 'september': 9655, '36504': 570, 'projects': 9088, 'LOVEJEN': 2586, 'snuggles': 9893, 'Cornwall': 1521, 'SAD': 3447, 'Hmmmy': 2246, 'HAVENT': 2121, 'Okors': 3070, 'pears': 8783, 'Test': 3952, 'canlove': 5316, 'capacity': 5325, 'idk': 7295, 'technical': 10345, 'Sbut': 3606, 'strings': 10134, 'leonardo': 7763, 'unconsciously': 10721, 'Unlike': 4121, 'lunchtime': 7948, 'obey': 8528, 'EURO': 1736, 'duvet': 6212, 'alle': 4620, 'working': 11160, 'flaked': 6597, 'uses': 10798, '1YF': 411, 'ovulatewhen': 8674, 'Rajipls': 3371, 'somethings': 9916, 'ax': 4877, 'drunkard': 6185, 'Tea': 3931, 'HARDCORE': 2113, 'drinkpa': 6166, 'Sary': 3598, 'Hear': 2200, 'questioned': 9157, 'COMMON': 1388, 'bookshelf': 5115, 'HRS': 2160, 'answering': 4692, 'wahala': 10916, 'Lolnice': 2649, 'staring': 10049, 'WORRIEDx': 4236, 'WOMEN': 4231, 'asa': 4791, 'witin': 11114, 'nowTCs': 8492, 'stunning': 10160, 'swhrt': 10265, 'Sold': 3723, 'httpcareers': 7219, 'deals': 5900, 'Solve': 3724, 'SentDate': 3629, '82277unsub': 828, 'breaking': 5162, 'urgentbut': 10780, 'wallpaper': 10936, 'BTnationalrate': 1202, 'Hitler': 2233, 'possibly': 8961, 'kane': 7573, 'unusual': 10761, 'tul': 10669, 'smidgin': 9865, '07046744435': 22, 'Whenwhere': 4310, 'officially': 8557, 'abusers': 4477, '630': 736, 'moby': 8221, 'VAT': 4148, 'dull': 6201, 'docs': 6093, 'apply2': 4732, 'Poop': 3258, 'exactly': 6396, 'contents': 5689, 'mi': 8148, 'subscribed': 10173, '645': 738, 'signin': 9774, 'SIM': 3490, 'Everybody': 1807, 'Pick': 3220, 'snow': 9889, 'hundred': 7245, 'Heroes': 2219, 'decades': 5914, 'sheffield': 9700, 'stuffing': 10156, 'settling': 9669, 'chikkugoing': 5478, 'mudyadhu': 8303, 'Mom': 2861, 'URFEELING': 4089, '0844': 66, 'clear': 5534, 'apes': 4716, 'Deeraj': 1641, 'LA1': 2542, 'sed': 9612, '2morro': 520, 'wwwldewcom1win150ppmx3age16': 11237, 'grocers': 6952, 'Claim': 1485, 'TOMORROW': 3891, 'UIN': 4073, 'PETROL': 3121, 'arty': 4789, 'English': 1785, 'raiden': 9179, 'group': 6958, 'Normal': 3011, 'MRNG': 2755, '8th': 908, 'collapsed': 5585, '08701417012': 78, 'Badrith': 1217, '9AE': 923, 'dodgey': 6098, 'excuse': 6404, 'range': 9197, 'é': 11417, 'ambitious': 4644, 'SUMMER': 3565, 'friends': 6719, 'BABY': 1128, 'chief': 5472, 'meok': 8124, 'Yup': 4450, 'ZOE': 4453, 'eerie': 6252, '09099726395': 284, 'public': 9119, 'wwwcnupdatescomnewsletter': 11229, 'hunny': 7251, 'standard': 10044, 'SOIREE': 3512, 'wwwSMSacuhmmross': 11221, '532': 698, 'MobilesDirect': 2855, 'Remove': 3411, 'experiencehttpwwwvouch4mecometlpdiningasp': 6421, 'NEO69': 2911, 'Goodmorning': 2071, 'sheet': 9698, 'melike': 8105, 'VIP': 4155, 'raksha': 9188, 'terrific': 10371, 'stoptxtStop': 10110, 'essential': 6356, 'stable': 10032, 'evng': 6390, 'XXXXX': 4372, 'Cannot': 1436, 'invitation': 7409, 'SWITCH': 3578, 'EACHOTHER': 1719, 'specific': 9978, 'offcampus': 8543, 'Bam': 1221, '£12': 11367, 'gauge': 6797, 'FRAN': 1863, 'complimentary': 5636, 'Farrell': 1897, 'someones': 9910, 'lotwill': 7905, 'Sir': 3690, 'bhaskar': 5027, 'Sunshine': 3817, 'listening2the': 7833, 'Jeri': 2438, 'OUTSOMEWHERE': 3052, 'anna': 4676, '09065989182': 253, 'Halloween': 2180, 'av': 4853, 'princess': 9047, '83370': 841, 'ALWAYS': 963, 'vill': 10871, 'wrenching': 11188, 'Germany': 2046, 'makin': 8003, 'sim': 9782, 'SkilGme': 3698, 'Gotta': 2082, 'Oranges': 3093, 'NoWorriesLoanscom': 2991, 'grown': 6961, 'babies': 4887, 'erupt': 6345, 'Blank': 1267, 'parantella': 8726, 'deus': 5990, 'Gsex': 2093, 'pan': 8708, '08712402578': 111, 'yould': 11323, '1843': 390, '07742676969': 31, 'camera': 5304, 'WENT': 4210, 'INFORM': 2319, 'Compliments': 1510, 'BYATCH': 1208, 'lunch': 7947, 'Yesim': 4431, '09090900040': 277, 'orchard': 8628, 'Uncle': 4114, 'Wana': 4265, 'Serious': 3633, 'moji': 8229, 'thurs': 10472, 'us': 10787, 'seconds': 9603, 'blogging': 5081, 'tiring': 10502, 'forth': 6676, 'UpdateNow': 4129, 'fantasies': 6482, 'Ranju': 3377, 'carente': 5344, 'textin': 10382, 'Salam': 3588, '09050005321': 190, 'breakfast': 5161, 'happening': 7029, 'GIRLS': 1986, 'prolly': 9089, 'stressful': 10128, 'Arabian': 1082, 'supreme': 10235, 'england': 6312, 'alritehave': 4634, 'owl': 8679, 'say': 9554, 'Nimbomsons': 2984, 'officer': 8551, 'area': 4757, 'walkabout': 10929, 'laundry': 7722, 'New': 2968, '08714712394': 128, 'It‘s': 2393, 'ppm150': 8985, 'thru': 10466, 'carlos': 5351, 'doubles': 6136, 'ENTER': 1731, 'Shifad': 3657, 'iti': 7454, 'london': 7873, 'Plyr': 3240, 'De': 1632, 'girlie': 6846, '£500000': 11400, 'nz': 8522, '4txt120p': 676, '8Neighbour': 901, '0578': 17, 'POST': 3158, 'Hope': 2266, '2000': 426, 'guilty': 6980, 'astrology': 4817, 'neglect': 8396, 'Webpage': 4285, 'accordinglyor': 4495, 'ref': 9280, 'grandma': 6927, 'teethif': 10349, 'morning': 8256, 'store': 10112, 'finance': 6560, 'hdd': 7055, 'pls': 8901, 'charged150pmsg2': 5424, 'fault': 6499, '08712402050': 110, 'wwwclubzedcouk': 11228, 'yoga': 11310, 'PSXTRA': 3173, 'jam': 7481, 'BCozI': 1149, 'surprised': 10244, 'timeyou': 10493, 'GAS': 1971, 'MINI': 2723, '1172': 323, 'cost£375max': 5734, 'hitman': 7136, 'admin': 4530, 'BAILIFF': 1133, 'bestcongrats': 5015, 'Po': 3242, 'pple700': 8983, 'wwwareyouuniquecouk': 11224, 'got': 6906, 'decorating': 5923, 'nannys': 8356, '146tf150p': 351, '07973788240': 47, 'HARRY': 2115, 'spanish': 9965, 'insects': 7377, 'bagi': 4900, 'hw': 7268, 'BTW': 1200, 'jack': 7476, 'ChristmasMerry': 1481, 'coins': 5580, 'follows': 6640, 'whatever': 11046, 'load': 7849, 'Upd8': 4127, 'joinedHope': 7526, 'response': 9382, 'ABTA': 935, 'happend': 7026, 'Misplaced': 2836, 'priceso': 9040, 'alone': 4626, 'LIKEYOUR': 2562, 'VALUED': 4147, 'news': 8415, 'jolt': 7536, 'GONEU': 1998, 'WinnersClub': 4324, 'Voila': 4182, 'notxtcouk': 8486, 'leading': 7734, 'SLEEPSWEET': 3502, 'outages': 8652, 'Exactly': 1817, 'BBDELUXE': 1141, 'WEREBORED': 4212, 'drove': 6178, 'GBP150week': 1974, 'whens': 11052, 'mentor': 8122, 'shock': 9720, 'Maintain': 2779, 'compofstuff': 5637, 'wtf': 11201, 'Coffee': 1496, 'Calls£1minmoremobsEMSPOBox45PO139WA': 1428, 'nyt': 8521, '20000': 427, 'ish': 7436, 'think': 10433, 'didt': 6018, 'al': 4600, 'uk': 10706, '2wks': 539, 'oktake': 8573, 'diapers': 6008, 'meets': 8097, 'recovery': 9272, 'din': 6039, 'loko': 7870, 'right': 9422, 'High': 2228, 'prizes': 9060, 'darren': 5867, 'POLY': 3150, 'plaid': 8875, 'txting': 10689, 'Kens': 2497, 'AV': 985, 'jamstercouk': 7484, 'POBox84': 3146, 'fallen': 6468, 'adore': 4536, 'Onam': 3076, 'smiled': 9867, 'fraction': 6692, 'Thinking': 3981, 'Honeybee': 2264, 'PORN': 3156, 'tall': 10306, 'Boss': 1290, 'paces': 8689, 'Swtheart': 3830, 'leona': 7762, 'relatives': 9306, 'greatest': 6940, 'SOON': 3518, 'sutra': 10249, 'peak': 8782, 'birthdate': 5050, 'HON': 2146, 'Wednesday': 4288, 'Dvd': 1716, 'woken': 11135, 'angry': 4671, 'Wait': 4256, 'sts': 10142, 'iff': 7298, 'pthis': 9116, 'Channel': 1460, 'lst': 7932, 'pack': 8690, 'Balls': 1220, 'portege': 8949, 'thatnow': 10403, 'frndZ': 6727, 'inconvenient': 7340, 'scorable': 9575, 'cheyyamoand': 5464, 'terrorist': 10372, 'didnt': 6014, 'greatbye': 6939, 'meals': 8078, 'Baaaaaaaabe': 1209, 'LISTENING': 2566, 'shaping': 9691, 'BIDS': 1159, 'ga': 6773, '08448714184': 68, 'ENGLAND': 1728, 'aretaking': 4760, 'swell': 10264, 'Mah': 2777, 'Blueu': 1276, 'nte': 8501, 'Water': 4278, 'NICE': 2920, '2Untamed': 502, 'meive': 8103, 'remove': 9328, 'pura': 9132, 'memory': 8114, 'voicemail': 10895, 'teenager': 10347, 'CREDIT': 1401, 'deary': 5910, '4': 605, 'tui': 10667, 'audiitions': 4841, 'especially': 6352, 'worse': 11174, 'NITW': 2925, 'bck': 4953, '8lb': 905, 'weight': 11015, 'passion': 8755, 'FRIEND': 1875, 'recharged': 9262, 'top': 10574, 'Calling': 1423, 'discuss': 6068, 'Kingdom': 2512, 'unintentional': 10741, 'recycling': 9274, 'Psychiatrist': 3294, 'msgsubscription': 8290, 'bilo': 5042, 'Dizzee': 1682, 'motivating': 8263, 'Faith': 1894, 'suffering': 10192, 'Pity': 3228, 'drmstake': 6174, 'liquor': 7827, 'formsdon': 6675, 'minstand': 8177, 'SK3': 3496, 'key': 7597, 'tranquility': 10610, 'shame': 9688, 'EXP': 1750, '29100': 476, 'Aah': 992, 'wuldnt': 11207, 'ghodbandar': 6835, 'Unsecured': 4124, '3AJ': 576, 'l8': 7665, 'link': 7818, 'HGSuite3422lands': 2134, 'hoping': 7185, 'Zebra': 4456, 'references': 9282, '69696': 747, 'Starting': 3774, 'paracetamol': 8720, 'NO440': 2929, 'Gosh': 2078, 'flea': 6604, 'Evry': 1815, 'quizclub': 9167, 'Nah': 2948, 'Join': 2447, 'kalaachutaarama': 7567, 'Kusruthi': 2535, 'moan': 8214, 'saw': 9553, 'Let': 2622, 'necesity': 8379, 'londn': 7872, 'Hellodrivby0quit': 2211, 'french': 6707, 'sfirst': 9677, '100pSMS': 299, 'SOUNDING': 3523, 'wwwringtonescouk': 11244, 'doinghow': 6112, 'TXTAUCTIONTxt': 3918, 'semi': 9638, 'spelled': 9986, 'W1A': 4189, 'excited': 6402, 'CONTRACT': 1393, 'Wat': 4275, 'way': 10979, 'eightish': 6268, 'Quick': 3316, 'IMF': 2310, 'torture': 10584, 'bro': 5185, 'walkin': 10931, 'timeslil': 10492, 'K718': 2471, 'Remind': 3408, 'babyjontet': 4889, 'fatty': 6498, '08718738002': 168, 'dedicate': 5924, 'prestige': 9028, 'starving': 10060, 'givits': 6854, 'holla': 7155, 'nobbing': 8449, 'unsoldmike': 10756, 'hmm': 7143, 'w1t1jy': 10911, '150pMsg': 359, 'market': 8030, 'paragraphs': 8724, 'concentrate': 5647, 'anot': 4685, 'drum': 6183, 'fine': 6565, '10': 293, 'company': 5621, 'Hhahhaahahah': 2224, 'Many': 2789, 'babysitting': 4891, 'worth': 11176, 'aproach': 4748, 'SUMTHINxx': 3566, 'prescribed': 9018, 'footblcrckt': 6650, 'Loveable': 2662, '3Lions': 581, 'faultal': 6500, 'Wen': 4295, 'indeed': 7344, 'Update': 4128, 'accounting': 4497, 'SPTyrone': 3539, 'backa': 4894, 'gET': 6771, 'smokin': 9873, 'habit': 6994, 'thanxxx': 10397, 'hole': 7152, 'dha': 5999, '£3': 11387, 'total': 10589, 'problum': 9070, 'rugby': 9484, 'wiproyou': 11099, 'computerless': 5643, 'infotxt82228couk': 7360, 'iron': 7426, 'GO': 1993, 'detail': 5985, 'throwing': 10463, 'leastWhich': 7741, 'cancelled': 5313, 'costing': 5730, 'figuring': 6546, '5Sankatmochan': 707, 'FANTASIES': 1835, 'adults': 4542, 'CHAT': 1367, 'drastic': 6149, 'SPRWM': 3537, 'baller': 4907, 'installing': 7384, 'hair': 7001, 'topicsorry': 10576, 'RIGHT': 3351, 'takin': 10299, 'poking': 8920, 'moms': 8235, '08718730666': 166, '09064017295': 240, 'bevieswaz': 5022, 'rose': 9466, 'mb': 8068, 'effects': 6255, 'Says': 3605, 'sorrowsI': 9940, 'SPINOUT': 3531, 'hills': 7125, 'brilliant1thingi': 5177, 'trainners': 10607, 'Loving': 2668, 'Sindu': 3687, 'continued': 5692, 'buy': 5248, 'Much': 2888, 'rcd': 9208, 'visitneed': 10884, 'Messaging': 2820, 'jap': 7489, 'Yelowi': 4422, 'Wasnt': 4272, 'GANG': 1970, 'Truthful': 4040, 'computational': 5641, 'yor': 11312, 'Nick': 2977, 'Wld': 4333, 'VALENTINES': 4146, 'doInterested': 6087, 'combination': 5599, 'sacked': 9505, 'Mileage': 2826, 'tiz': 10510, 'intro': 7404, 'tom': 10543, 'Opinion': 3087, 'St': 3769, 'sitll': 9804, 'conacted': 5646, 'anyhow': 4700, 'hustle': 7264, 'Oic': 3063, '3POUND': 584, 'fridays': 6714, 'FEEL': 1839, 'Feb': 1900, 'lesson': 7767, 'ou': 8648, 'don\\x92t': 6125, 'nitros': 8445, 'karaoke': 7580, '88888': 888, 'Fancy': 1895, 'Loves': 2667, '7732584351': 786, 'frauds': 6694, 'avalarr': 4858, 'CAME': 1345, 'Jane': 2427, '09058094455': 199, 'TOBED': 3887, '2nite': 529, 'share': 9692, 'deck': 5921, 'Mark': 2794, 'anything': 4707, 'notebook': 8477, 'zed': 11350, 'grasp': 6931, 'employers': 6295, '2nights': 528, 'runninglets': 9494, 'truth': 10654, 'percentages': 8798, 'xxSP': 11271, 'AVENT': 988, 'saucy': 9548, 'hannaford': 7024, 'British': 1314, 'Black': 1264, 'complementary': 5629, 'hilariousalso': 7123, 'ie': 7297, 'MIX': 2732, 'uup': 10809, 'TALKBUT': 3839, 'Bloomberg': 1272, 'voice': 10894, 'net': 8403, '84122': 848, 'Goodnight': 2073, 'Jordan': 2455, 'wwwtxttowincouk': 11257, 'Yes': 4425, 'hlday': 7141, 'ANSWER': 968, 'never': 8410, 'Prabu': 3266, 'praying': 9001, 'Looking': 2654, 'laxinorficated': 7727, 'rply': 9476, '50p': 689, 'items': 7451, 'ahthe': 4587, 'GAILxx': 1968, 'datingi': 5874, 'FUDGE': 1888, 'BA128NNFWFLY150ppm': 1123, 'diamond': 6006, 'hont': 7170, 'approaches': 4739, 'pulling': 9124, 'frndshp': 6730, 'annoyin': 4682, 'LILY': 2564, 'youdearwith': 11319, 'wwwSMSacubootydelious': 11219, 'MANEESHA': 2698, 'tonght': 10555, 'Subscriptn3gbpwk': 3806, 'repairs': 9340, '£79': 11410, 'yck': 11287, 'Body': 1278, 'Ive': 2394, 'ipaditan': 7421, 'Apply': 1078, 'WELL': 4207, 'coming': 5610, 'somewhereSomeone': 9923, 'disastrous': 6062, 'nails': 8344, 'obviously': 8532, 'imp': 7316, 'honeymoon': 7169, 'sized': 9813, 'Ten': 3943, '62735£450': 735, 'prescription': 9020, 'THESEyours': 3877, '150pMSGRCVD': 357, 'PARENTS': 3105, 'style': 10162, 'UPDAT': 4084, 'quality': 9153, 'Detroit': 1656, 'taken': 10296, 'receive': 9252, '116': 322, 'heap': 7065, 'impatient': 7317, 'inshah': 7378, 'fruit': 6739, 'bedbut': 4974, 'quarter': 9154, 'add': 4519, '08712466669': 120, 'chic': 5468, 'Alrite': 1054, '12mths': 339, 'birla': 5048, 'weapon': 10986, 'Wins': 4326, 'Reply': 3414, 'DAS': 1567, 'Diwali': 1680, 'sc': 9561, '3Cover': 577, 'side': 9766, '2Hook': 486, 'swann': 10254, 'recdthirtyeight': 9248, 'Gam': 2028, 'thesmszonecom': 10425, 'weddin': 10999, 'applying': 4734, 'Sez': 3640, 'sweetie': 10262, '1Winaweek': 409, 'review': 9411, '95pax': 918, 'Sunscreen': 3816, 'SORTEDBUT': 3522, 'phasing': 8825, '08081263000': 63, 'invest': 7407, 'ws': 11198, 'gas': 6794, 'playerwhy': 8888, '£100': 11362, '2Police': 498, 'Dizzamn': 1681, 'Fffff': 1904, 'leads': 7735, 'opted': 8618, 'hex': 7113, '£750': 11408, 'beers': 4983, 'WRK': 4245, 'callon': 5296, 'clearing': 5537, 'Help08700621170150p': 2214, 'ha': 6992, 'stopped': 10108, 'Gin': 2053, 'Wright': 4353, 'CougarPen': 1528, '£150wk': 11380, 'dobby': 6089, 'fullonsmscom': 6753, 'netflix': 8404, 'RTKIng': 3362, 'missions': 8197, 'magicalsongsblogspotcom': 7989, 'olympics': 8583, 'deartake': 5909, 'resuming': 9400, 'vomitin': 10898, 'sees': 9622, 'seekers': 9616, 'yay': 11286, 'Taka': 3922, 'FREE2DAY': 1866, 'wheat': 11048, 'honey': 7168, 'Dey': 1658, 'aroundn': 4778, 'allah': 4617, 'films': 6554, 'Boys': 1301, 'ENTRY': 1732, 'js': 7543, 'Get': 2047, 'command': 5613, 'Ringtone': 3424, 'completing': 5634, 'shouldnt': 9738, 'zac': 11348, 'ext': 6434, 'gettin': 6831, 'deal': 5895, 'wwwApplausestorecom': 11212, 'Dint': 1670, 'concern': 5650, 'HGSuite3422Lands': 2132, 'modl': 8225, 'gimme': 6842, 'cine': 5514, '241004': 451, 'jiayin': 7512, 'immed': 7313, 'jurong': 7555, 'shocking': 9721, 'URGRAN': 4092, 'footprints': 6652, 'hey': 7114, 'AWARD': 990, 'kinda': 7620, 'vomiting': 10899, 'suggestion': 10198, 'magic': 7987, 'covers': 5755, 'Voda': 4179, 'watchin': 10969, 'booking': 5113, 'fuelled': 6748, 'Caught': 1450, 'MISTAKEU': 2730, '2optoutD3WV': 531, 'madodu': 7979, 'senthil': 9651, 'hadnt': 6995, 'nothis': 8481, 'brother': 5193, 'unfortunately': 10735, 'dating': 5873, 'O2': 3030, 'usf': 10799, 'etc': 6359, 'previews': 9034, 'attracts': 4836, '08717890890£150': 148, 'sar': 9533, 'uxxxx': 10815, 'jesus': 7507, 'WONT': 4232, 'arab': 4753, 'thirunelvali': 10440, '21': 438, 'WC1N3XX': 4204, 'sterm': 10085, 'POLYPHONIC': 3153, 'BANNEDUK': 1137, 'rounderso': 9469, 'Rats': 3379, 'Titles': 4003, 'DOWNON': 1603, 'customersqueriesnetvisionukcom': 5822, 'RingtoneFrom': 3425, 'YEARS': 4386, 'WANT': 4199, 'easier': 6228, 'accenture': 4483, 'contract': 5693, 'blastin': 5069, 'tendencies': 10366, 'gram': 6923, 'TOPLAY': 3901, 'Croydon': 1541, 'hanger': 7020, 'egg': 6260, 'panties': 8713, 'hopefully': 7182, 'Gay': 2035, 'airtel': 4596, 'ENC': 1725, '2stop': 534, 'Tiger': 3996, 'soooo': 9935, 'URSELF': 4094, 'NOK': 2932, 'beads': 4960, 'misstake': 8199, 'lately': 7712, '4712': 642, 'job': 7516, 'fusion': 6766, 'TROUBLE': 3907, 'dajst': 5845, 'Maretare': 2792, 'ji': 7511, 'cat': 5373, 'hogidhechinnu': 7147, 'Carlosll': 1444, 'dress': 6160, '0784987': 43, 'Nt': 3020, 'comedy': 5602, 'caller': 5291, 'Opt': 3088, '89080': 891, 'luvNight': 7953, 'goes': 6877, '1month': 414, 'ignorant': 7300, 'places': 8874, 'fluids': 6624, 'Mailbox': 2778, 'weather': 10991, 'aathilove': 4461, 'membershiptake': 8111, 'MISSED': 2727, 'quiz': 9166, 'proper': 9101, 'barred': 4925, 'objection': 8529, 'aeroplane': 4550, 'lect': 7745, 'versus': 10849, 'self': 9630, 'screwd': 9588, 'wc': 10981, '0794674629107880867867': 45, 'depression': 5968, 'bites': 5057, 'lov': 7911, 'fgkslpo': 6533, 'ArPraveesh': 1081, '61200': 730, 'indian': 7347, 'hurried': 7257, 'picTxt': 8843, 'Now4T': 3018, '169': 384, 'Inclusive': 2359, 'weirdest': 11018, 'bcz': 4957, 'head': 7056, 'Concentrate': 1511, 'loosing': 7887, 'hav': 7048, 'closer': 5550, 'Sleep': 3704, 'noise': 8453, 'citizen': 5516, 'placed': 8872, 'rakhesh': 9187, '0870241182716': 84, 'delivery': 5950, 'pehle': 8786, 'delTOMORROW': 5942, 'moseley': 8259, 'prominent': 9091, 'mathematics': 8051, 'li': 7775, 'DETAILS': 1582, 'confuses': 5667, 'puttin': 9143, 'dinero': 6042, 'stated': 10062, '78pmin': 790, 'Uve': 4143, 'greeting': 6946, 'nearby': 8376, 'saved': 9550, 'Pinku': 3227, 'deserve': 5976, 'soladha': 9902, 'cherthalain': 5460, '87121': 871, 'Rreveal': 3439, 'cuppa': 5810, 'fgkslpoPW': 6534, 'every': 6376, 'merry': 8128, 'university': 10747, 'Fair': 1893, 'cardin': 5334, 'weekstop': 11012, 'kitty': 7632, 'lip': 7824, '200': 425, 'real': 9226, 'COMPETITION': 1389, '£1million': 11381, 'towards': 10597, 'Shivratri': 3663, 'least5times': 7740, '2C': 480, 'Algarve': 1047, 'boost': 5116, 'mayb': 8066, 'XoXo': 4376, 'Sicomo': 3678, 'styles': 10163, 'submitted': 10169, 'fight': 6540, 'UP4': 4083, '£71': 11407, 'MobStoreQuiz10ppm': 2850, 'Bin': 1256, 'bambling': 4909, '83049': 834, 'TOCALLSHALL': 3888, 'related': 9303, 'word': 11150, 'expecting': 6417, 'Ya': 4407, 'ticket': 10477, 'address': 4524, 'tonights': 10558, 'sliding': 9839, 'black': 5059, 'Suganya': 3808, 'Tas': 3927, 'wwwcashbincouk': 11226, 'Usmle': 4141, 'PC': 3115, 'springs': 10020, 'nagar': 8342, 'dayexcept': 5883, 'xxxxxxxx': 11276, 'needle': 8391, 'shortcode': 9732, 'galileo': 6778, 'rajini': 9186, 'favour': 6506, 'landing': 7688, 'digi': 6033, 'information': 7357, '505060': 688, 'Takin': 3925, 'audition': 4842, 'East': 1757, 'FREEMSG': 1868, 'thangamits': 10391, 'TOMORW': 3892, 'differ': 6025, 'numberpls': 8509, 'Courageous': 1530, 'Easter': 1758, 'ACL03530150PM': 937, 'However': 2278, 'barcelona': 4920, '09061743386': 223, 'wednesday': 11001, 'surya': 10248, 'ipads': 7422, '9am11pm': 926, 'assessment': 4808, 'everywhere': 6385, 'Facebook': 1891, 'eyes': 6441, 'MAT': 2702, 'challenging': 5406, 'Sleeping': 3705, 'able': 4468, 'MORNING': 2749, 'Awesome': 1114, 'WIN': 4220, '2mrw': 524, 'flat': 6601, 'yijuehotmailcom': 11306, 'freezing': 6705, 'Iam': 2341, 'chechi': 5443, 'Correct': 1522, 'marriage': 8034, 'MMM': 2735, 'memories': 8113, 'windy': 11090, 'raed': 9175, 'Also': 1055, 'pimpleseven': 8860, 'm8s': 7966, 'ego': 6264, 'college': 5591, 'SWEET': 3577, 'easiest': 6229, 'terrible': 10370, 'Dload': 1683, 'sink': 9794, '09096102316': 282, 'times': 10491, '80160': 812, '900': 910, 'HARDEST': 2114, 'Forgot': 1934, 'loxahatchee': 7929, '09063440451': 232, 'shot': 9736, 'map': 8022, 'fixedline': 6594, 'f': 6443, 'sugar': 10195, 'ringtone': 9429, 'chase': 5432, 'resubmit': 9396, 'tamilnaduthen': 10309, 'feathery': 6510, 'piah': 8841, 'vouchersText': 10904, 'chinky': 5495, 'NVQ': 2944, 'Said': 3586, 'teasing': 10343, 'Waves': 4282, 'whose': 11065, 'defeat': 5932, 'afterwards': 4564, 'TxtNO': 4064, 'shes': 9704, 'sang': 9530, 'ubandu': 10701, 'reg': 9292, 'ktv': 7660, 'laden': 7674, 'degree': 5937, '8007': 807, 'max£7': 8064, '£100000': 11365, 'generally': 6814, 'gap': 6787, 'God': 2063, 'youmoney': 11325, 'MoralOne': 2873, 'rcvd': 9210, 'inforingtonekingcouk': 7355, 'goodies': 6896, 'Beautiful': 1234, '2marrow': 517, 'Baby': 1213, 'imposed': 7321, 'Terry': 3950, 'DIGITAL': 1585, 'Blu': 1273, 'ak': 4598, 'Fr': 1937, 'hooch': 7172, 'refundedThis': 9290, 'aspects': 4806, 'hundreds': 7247, '61610': 731, 'temales': 10361, 'preponed': 9017, 'frog': 6734, 'Takecare': 3924, 'pongaldo': 8932, 'silver': 9781, 'N': 2902, 'mcat': 8071, 'SNORINGTHEY': 3510, 'Hanumanji': 2185, 'malaria': 8005, 'Fwiw': 1963, '08718738034': 169, 'Football': 1929, 'Alfie': 1046, 'welcomes': 11022, 'resent': 9365, 'dado': 5838, 'permanent': 8807, 'texts': 10385, 'unique': 10743, 'SPECIALE': 3528, 'device': 5994, 'helpful': 7092, 'laready': 7702, 'websitenow': 10997, 'bye': 5257, 'Hotel': 2274, 'curious': 5812, 'lips': 7826, 'BANG': 1135, '12Mths': 336, 'TAJ': 3836, '09061209465': 214, 'Received': 3391, 'de': 5892, 'NONENOWHERE': 2935, 'doublefaggot': 6135, 'informed': 7358, 'stupid': 10161, 'clean': 5532, 'tok': 10535, 'question': 9156, '\\x91MORROW': 11355, 'pale': 8706, 'Sup': 3818, '3u': 602, 'ask': 4799, 'Wkly': 4332, 'GBP450week': 1975, 'otside': 8647, 'wwwtxt43com': 11255, 'confirmed': 5664, 'instantly': 7385, 'Consider': 1515, 'READ': 3327, 'dining': 6044, 'PoBox45W2TG150P': 3247, 'collages': 5584, 'patty': 8766, 'anyone': 4702, 'moved': 8271, '08717111821': 142, 'smart': 9856, 'smoking': 9874, 'BATH': 1139, 'Freemsg': 1948, 'dressed': 6161, 'tm': 10514, 'tahan': 10292, 'convenience': 5696, 'escape': 6349, 'technologies': 10346, 'Ldn': 2613, 'masked': 8040, 'httpwwwgr8prizescom': 7228, 'Netcollex': 2962, 'prob': 9062, 'present': 9022, 'didntgive': 6015, 'ramen': 9190, '08718726978': 159, 'Sweetheart': 3829, 'RING': 3352, 'flyng': 6630, 'funeral': 6760, 'PRICE': 3164, '2MWEN': 494, 'breather': 5166, 'gorgeous': 6904, 'Queries': 3312, 'tryin': 10656, 'Pose': 3261, 'AllahRakhesh': 1048, 'headin': 7058, 'feel': 6517, 'occurs': 8537, 'Yesfrom': 4427, '08715203649': 133, '09094646899': 280, 'Aberdeen': 998, 'stops': 10109, '08717895698': 149, 'dreading': 6153, 'Done': 1693, 'BACK': 1130, '060505': 19, 'sun0819': 10210, 'sdryb8i': 9593, 'okay': 8568, 'hwd': 7269, '82468': 830, 'guaranteed': 6969, 'lucky': 7944, 'avoids': 4868, 'adi': 4528, 'dats': 5876, 'archive': 4754, 'tick': 10476, 'assume': 4812, 'J89': 2404, 'DoubleMins': 1701, 'faultfed': 6501, 'reassuring': 9242, 'flies': 6607, 'TC': 3847, 'keep': 7588, 'lionm': 7822, '0870737910216yrs': 91, 'MobcudB': 2851, 'classmates': 5529, 'Jerry': 2440, 'Affectionsamp': 1018, 'HATES': 2116, 'Reckon': 3392, 'Gopalettan': 2077, 'hard': 7036, 'ENUFCREDEIT': 1733, '08719899229': 177, 'Theoretically': 3970, 'Stylish': 3799, 'stone': 10102, 'Limited': 2630, 'loverboy': 7919, 'CRed': 1404, 'sometimeRakheshvisitor': 9918, 'perpetual': 8810, 'ONE': 3042, 'Exam': 1818, 'med': 8087, 'weve': 11042, 'john': 7522, 'specially': 9977, '449071512431': 632, 'Yaxxx': 4414, 'nanny': 8355, 'synced': 10277, 'Bergkamp': 1248, 'Premaricakindly': 3274, 'WRLD': 4248, 'courage': 5748, 'wwwshortbreaksorguk': 11247, 'wahay': 10917, 'kaaj': 7562, 'Sian': 3677, 'TXT': 3916, 'watevr': 10974, 'cm': 5560, 'mokka': 8230, 'opportunityall': 8612, '1327': 344, 'mrng': 8280, '2bold': 507, 'Ese': 1792, '09050001295': 186, 'eatin': 6236, 'Btooth': 1322, 'spare': 9966, '£1000CALL': 11366, 'Tunde': 4054, 'GOODNITE': 2006, 'getzedcouk': 6833, 'Sonetimes': 3731, 'hotel': 7197, 'stadium': 10033, 'W1J': 4190, 'thinghow': 10431, 'Yummmm': 4446, 'law': 7726, 'Address': 1012, 'cometil': 5606, '09058098002': 210, 'GOIN': 1996, 'Divorce': 1679, 'screamed': 9585, 'funny': 6763, 'reach': 9214, 'he\\x92s': 7115, 'Ki': 2503, 'Maangalyam': 2770, 'steed': 10079, 'affairs': 4552, 'Partys': 3190, '447801259231': 628, 'posh': 8950, 'Patrick': 3194, 'repair': 9339, 'coz': 5756, 'fab': 6444, 'allowed': 4622, 'online': 8592, 'Missing': 2839, 'Awww': 1116, 'iz': 7467, 'hp': 7212, 'finished': 6572, 'AUGUST': 984, 'Rally': 3374, 'first': 6584, 'breath': 5164, 'honest': 7166, 'qi': 9151, 'Yupz': 4451, '5WQ': 711, 'request': 9356, 'plumbers': 8903, 'mia': 8149, 'Theory': 3971, 'bridge': 5171, 'reboot': 9243, 'spirit': 9995, '864233': 864, 'medicine': 8089, 'EG23F': 1722, '60400thousadi': 727, 'we\\x92ve': 11043, 'unconvinced': 10722, 'ADP': 943, 'TV': 3913, 'try': 10655, 'elephant': 6280, 'cancel': 5311, '08719180248': 171, 'cs': 5794, '09071512432': 272, '£1500': 11372, 'Geeeee': 2041, 'emergency': 6291, 'knows': 7643, 'Values': 4164, 'LtdHelpDesk': 2672, 'Slowly': 3710, 'maintaining': 7998, 'roomate': 9461, 'Crucify': 1542, 'HUNNYWOT': 2167, 'inform': 7356, 'Merry': 2816, '01223585236': 4, 'Flirt': 1921, 'ages': 4575, 'Virgin': 4178, '30pptxt': 552, 'thinking': 10437, 'situations': 9809, 'jason': 7490, 'dorm': 6130, 'philosophical': 8828, 'COOL': 1395, 'PROBLEM': 3168, 'subletting': 10168, 'parents': 8731, 'stool': 10105, 'slide': 9838, 'stability': 10031, 'urmomi': 10785, 'deepak': 5928, '2007': 432, 'condition': 5653, 'lorWe': 7889, 'slip': 9841, 'CHEER': 1370, 'Press': 3278, 'okmail': 8572, 'cultures': 5804, 'republic': 9355, 'crucial': 5789, 'Wot': 4349, 'avatar': 4859, 'loved': 7915, 'awaiting': 4870, 'tops': 10579, 'rub': 9481, 'max': 8060, 'spiffing': 9992, '40533': 612, 'wwwSMSacugoldviking': 11220, 'chuckin': 5512, '09058097218': 209, '25p': 461, 'Ku': 2534, 'Xmas': 4375, 'tht': 10469, '1x150pwk': 422, 'closed': 5548, 'FREENokia': 1869, 'cha': 5402, 'studentsthis': 10147, 'simply': 9786, 'wthout': 11203, 'addressull': 4525, 'Flung': 1922, 'arsenal': 4785, '434': 624, 'problematic': 9065, 'ACTUALLY': 939, 'middle': 8151, 'crisis': 5784, 'dudes': 6197, 'yam': 11283, 'gving': 6987, 'CHILLIN': 1373, 'wwwgetzedcouk': 11235, 'deam': 5901, 'payment': 8774, 'penis': 8793, 'POLYS': 3154, 'beneath': 5010, 'm8': 7965, 'booty': 5117, 'pdateNow': 8779, 'mundhe': 8314, 'mental': 8118, 'sathy': 9541, 'gained': 6775, 'opening': 8604, 'pisces': 8864, 'proze': 9113, '83332Please': 838, 'YES434': 4390, '07123456789': 27, 'Gudnitetcpractice': 2099, 'valuing': 10829, 'welli': 11024, 'greet': 6945, 'Ball': 1219, 'likely': 7802, 'meummifyingbye': 8146, 'MECAUSE': 2707, 'Height': 2206, 'VIVEKANAND': 4156, '£5': 11396, 'sunny': 10214, '1U': 407, 'Digital': 1665, 'Package': 3179, 'renewing': 9333, 'dream': 6154, 'experiment': 6422, 'selected': 9628, 'Cancel': 1434, 'glass': 6858, 'Elvis': 1775, 'amx': 4660, 'kind': 7619, 'doctor': 6094, 'fire': 6577, 'earliest': 6221, 'mutai': 8327, 'CHARGE': 1365, 'Thinkin': 3980, 'SPECIAL': 3527, 'lineyou': 7815, 'dial': 6003, 'Sunday': 3815, 'dust': 6211, 'unknown': 10748, 'Declare': 1640, 'CARLIE': 1352, 'TALK': 3838, 'completed': 5631, '945': 916, 'idc': 7288, 'denying': 5961, 'set': 9664, 'BETTERSN': 1158, 'atHome': 4819, 'fromm': 6735, '9': 909, 'bare': 4921, 'Us': 4137, 'alwa': 4640, 'hidden': 7117, '09066380611': 267, 'MeetGreet': 2812, 'TCsstop': 3853, 'yellow': 11293, 'Kkits': 2523, 'rcbbattle': 9207, 'gives': 6852, 'soil': 9900, 'juan': 7545, 'carlin': 5350, 'lotr': 7899, 'dedicated': 5925, 'Sday': 3614, 'RECPT': 3338, 'expression': 6433, 'COLLEGE': 1385, 'Mobiles': 2854, 'lifeThis': 7787, 'coldheard': 5583, 'drms': 6173, 'Gibbs': 2050, 'challenge': 5405, 'Bt': 1321, 'list': 7828, 'xin': 11264, 'Goal': 2062, 'show': 9744, 'wasnt': 10959, 'feb': 6512, '830': 831, 'i‘ll': 7471, 'PSP': 3172, '177': 386, 'thk': 10442, 'POBOX': 3138, 'stranger': 10122, 'BBDthts': 1143, '600': 725, 'waking': 10926, 'beg': 4987, 'tues': 10665, 'Mandan': 2787, 'MUSIC': 2767, 'Erm': 1789, 'HONI': 2148, 'galno': 6779, 'anti': 4696, 'darkest': 5861, 'Understand': 4115, '08715203685': 137, 'STORES': 3554, 'ithink': 7453, 'Apart': 1074, 'ms': 8282, 'thanksgiving': 10395, 'shipped': 9709, 'possible': 8959, 'part': 8739, 'gotta': 6910, 'recieve': 9263, 'mobs': 8219, 'Slaaaaave': 3703, 'bulbs': 5222, 'wifi': 11076, 'liaoSo': 7777, 'funk': 6761, 'inmind': 7369, 'Jerk': 2439, 'BBC': 1140, 'Kyou': 2536, 'power': 8979, 'jolly': 7535, 'adjustable': 4529, 'doug': 6138, 'M26': 2686, 'BOATIN': 1171, 'Second': 3616, 'Home': 2260, 'wen': 11028, 'eight': 6266, 'energy': 6307, 'help': 7089, 'BMW': 1170, 'yr': 11341, 'expensive': 6419, 'trips': 10640, 'access': 4485, 'Use': 4138, 'availablei': 4856, 'time': 10487, 'Videophones': 4173, 'ending': 6300, 'COMPLETELY': 1390, 'Horrible': 2269, 'hvae': 7267, 'parentnot': 8730, 'excused': 6405, 'peeps': 8785, 'auto': 4851, 'Hostbased': 2272, 'vibrator': 10854, 'busyi': 5244, 'kickboxing': 7607, 'vewy': 10850, 'REVISION': 3347, 'Gossip': 2079, 'opposite': 8615, 'uh': 10704, 'text': 10378, '49557': 646, 'insurance': 7388, 'mre': 8279, 'Ahhhhjust': 1029, '09095350301': 281, 'HEART': 2125, 'wwwdbuknet': 11231, '2DOCDPLEASE': 481, '06': 18, 'goal': 6868, 'PRIZEAWAITING': 3167, 'wonders': 11144, 'Think': 3979, 'beautiful': 4965, 'hurry': 7258, 'distance': 6075, 'site': 9803, '300603tcsBCM4235WC1N3XXcallcost150ppmmobilesvary': 548, 'division': 6081, 'Machan': 2774, 'vikky': 10868, 'perumbavoor': 8819, 'bridgwater': 5172, 'truekDo': 10649, 'xxxmobilemovieclubcomnQJKGIGHJJGCBL': 11273, 'Cust': 1552, 'danalla': 5847, '08000839402': 53, 'je': 7498, 'PORTIONS': 3157, 'mush': 8320, 'PHP': 3123, 'select': 9627, 'Mila': 2825, 'meim': 8101, 'Wuld': 4356, 'wknd': 11124, '£2000': 11384, 'sweet': 10261, 'Dom': 1692, 'Ha': 2168, 'female': 6527, 'deer': 5930, 'holder': 7150, 'Unlimited': 4122, 'CRO1327': 1403, 'discreet': 6067, 'serious': 9657, 'formclark': 6673, 'haul': 7046, 'coveragd': 5754, '4goten': 667, 'Spiderman': 3750, 'MMSto': 2736, '87575': 875, 'jobs': 7517, 'compensation': 5623, 'wrong': 11195, 'punishment': 9129, 'study': 10150, 'PROBTHAT': 3169, 'sweatter': 10260, 'Fri': 1950, 'Hanging': 2184, 'evaluation': 6364, 'alright': 4631, '4years': 683, 'hungover': 7248, 'orno': 8637, 'freefone': 6701, '4u': 678, 'Thgt': 3976, 'BAK': 1134, '88066': 879, 'suply': 10224, 'cmon': 5562, 'fried': 6716, 'special': 9973, 'listed': 7829, '2StopTxt': 500, 'parchi': 8727, 'Bcoz': 1231, 'figure': 6544, 'firsg': 6583, 'Kkwhere': 2527, '08707500020': 92, 'fret': 6710, '118pmsg': 324, 'follow': 6636, 'completes': 5633, 'teethis': 10350, '£150msg': 11374, 'hope': 7177, 'Chart': 1462, 'boy': 5143, 'UKP2000': 4075, 'ASKED': 979, 'guidance': 6977, 'NGage': 2917, 'welcome': 11021, 'barolla': 4924, '2667': 465, 'level': 7774, 'Wherevr': 4312, 'Holby': 2253, 'dsnt': 6190, 'Wahleykkumsharing': 4255, 'Moon': 2869, 'Omw': 3075, 'display': 6074, 'ishtamayoohappy': 7437, '98321561': 921, '261004': 463, '09065989180': 252, 'ros': 9465, 'log': 7861, 'fond': 6641, 'bowa': 5136, 'INTERFLORA': 2325, 'parachute': 8721, 'clarification': 5523, 'iPOD': 7274, 'Üll': 11416, 'Pete': 3207, 'credit': 5774, 'Started': 3773, 'Shijutta': 3659, 'Mite': 2840, 'isnt': 7440, 'still': 10093, 'MOB': 2739, 'screaming': 9586, 'watever': 10973, 'borrow': 5124, 'cute': 5824, 'inside': 7379, 'THING': 3879, 'Shakespeare': 3646, 'Cbe': 1452, 'ba': 4884, 'shining': 9707, 'SIX': 3495, 'prone': 9098, 'door': 6128, 'copies': 5713, 'competition': 5624, 'Apnt': 1075, 'opt': 8617, 'gooD': 6891, 'Tessypls': 3951, 'permissions': 8809, 'weekdays': 11007, 'flash': 6600, 'stomps': 10101, 'CUTE': 1411, 'SUNDAY': 3567, 'ALRITE': 961, '09066364349': 262, 'Velusamy': 4168, 'difficult': 6030, 'TWILIGHT': 3914, 'enjoyed': 6315, 'wed': 10998, 'slovely': 9847, 'sake': 9514, 'UNLIMITED': 4082, '09066358152': 255, 'GSOH': 2021, 'opinion': 8608, 'hours': 7201, 'Cutefrnd': 1558, 'scores': 9577, 'Call': 1417, 'cum': 5805, 'happier': 7031, 'Vijay': 4175, 'borderline': 5119, 'madoke': 7980, 'hrs': 7215, 'cal': 5269, 'Ladies': 2600, 'papa': 8716, 'always': 4641, '4eva': 661, 'trash': 10620, 'rental': 9335, 'thatll': 10402, 'donewant': 6121, 'destination': 5983, 'guess': 6973, 'lager': 7680, 'UAWAKEFEELLIKW': 4071, 'rocking': 9449, 'habbahw': 6993, 'sariyag': 9537, 'Polo': 3253, 'fool': 6646, 'monkey': 8243, 'hunt': 7254, 'Okies': 3068, 'ignoring': 7302, 'visionsmscom': 10881, 'ass': 4807, 'vava': 10836, 'BBDpooja': 1142, 'Evenings': 1804, 'dearloving': 5906, 'thisdon': 10441, 'CLUB': 1380, 'agree': 4579, 'FANTASY': 1837, 'canada': 5309, 'plm': 8899, 'arguments': 4766, 'kotees': 7657, '47': 641, 'GoldDigger': 2068, 'Kothi': 2532, 'sch': 9569, 'Discussed': 1676, 'Night': 2981, 'Leaving': 2618, 'renewed': 9332, 'toshiba': 10586, 'norm150ptone': 8467, 'confidence': 5659, 'Granite': 2085, 'CRISISSPK': 1402, 'Bright': 1310, '2MORRO': 492, '£150': 11371, 'lei': 7756, 'hip': 7130, 'afternoon': 4563, 'Fredericksburg': 1940, 'overheating': 8671, 'Box434SK38WP150PPM18': 1298, 'flowing': 6623, 'IG11': 2299, 'Yest': 4434, 'fink': 6575, 'Valid12hrs': 4162, 'cross': 5786, 'jamster': 7483, 'whether': 11057, 'Gal': 2027, 'supportvery': 10232, 'Sugar': 3809, '150PPM': 355, 'john\\x94sounds': 7523, 'See': 3619, 'ran': 9191, 'team': 10338, 'reason': 9238, 'used': 10794, 'remembered': 9320, 'netno': 8405, 'Loans': 2645, 'Jealous': 2433, 'sapna': 9532, 'reserve': 9367, 'call2optoutLF56': 5282, 'Reading': 3385, 'valentine': 10822, 'wadebridgeI': 10915, 'global': 6860, 'Thursday': 3991, 'mum': 8308, 'cooped': 5710, 'Termsapply': 3949, 'JJC': 2414, 'innocent': 7372, 'stylish': 10165, 'cosign': 5728, '140': 347, 'ISNT': 2331, 'act': 4507, 'story': 10116, 'bottle': 5130, 'suzy': 10251, 'Vegas': 4166, 'victoria': 10856, 'plane': 8877, 'poet': 8916, 'finish': 6570, 'Doc': 1685, 'subject': 10167, 'Healer': 2199, 'Simply': 3683, '2U': 501, 'Slide': 3708, 'jewelry': 7510, 'apologize': 4721, 'singles': 9793, 'approved': 4743, 'addicted': 4521, 'badly': 4898, 'LOOKIN': 2578, 'convey': 5700, 'art': 4786, 'texas': 10377, 'finds': 6564, 'SHITJUSTFOUND': 3483, 'smiling': 9869, 'correctly': 5724, 'dined': 6041, '0871277810810': 122, 'SaLL': 3580, 'Living': 2639, 'galsU': 6781, 'menu': 8123, 'dirt': 6053, 'bhayandar': 5028, 'latelyxxx': 7713, 'postponed': 8968, 'thoughts': 10452, '07099833605': 25, 'CocaCola': 1493, 'Wife': 4317, 'fortune': 6677, 'Vodka': 4181, 'shadow': 9681, '3rd': 601, 'pendent': 8790, 'bian': 5029, 'complaining': 5627, 'videosounds2': 10863, 'GOING': 1997, 'Better': 1252, '21st': 443, 'usno': 10801, 'Reach': 3382, 'asks': 4804, 'desk': 5977, '071104': 26, 'Msg150p': 2886, 'purchase': 9133, 'Shampain': 3648, 'supportproviding': 10230, 'post': 8962, 'REALLYNEED': 3333, 'othrs': 8646, 'typical': 10697, 'practical': 8989, 'SkillGame': 3699, 'ned': 8385, 'mon': 8236, 'GWR': 2025, 'LISTEN': 2565, 'loverakhesh': 7918, 'Msg': 2885, 'BSLVYL': 1197, 'ip4': 7419, 'blown': 5092, 'meetin': 8093, 'sudn': 10189, 'm100': 7964, 'TimeGud': 4000, '£150pmmorefrommobile2BremovedMobyPOBox734LS27YF': 11378, 'cinema': 5515, 'xmas': 11266, 'required': 9359, 'HAUGHAIGHGTUJHYGUJ': 2117, 'coco': 5573, 'callcoz': 5287, 'nalli': 8347, 'divorce': 6082, 'strange': 10121, 'outs': 8662, 'getstop': 6830, '150ppmsg': 372, 'sub': 10166, 'fan': 6477, 'LAY': 2550, 'beside': 5013, 'Explain': 1826, 'pleased': 8895, 'ru': 9480, 'realise': 9227, 'Love': 2661, 'starts': 10058, 'NOKIA': 2933, 'voted': 10901, 'C52': 1338, 'snowball': 9890, 'anderson': 4664, 'G': 1965, 'POBOX84': 3140, 'Ooooooh': 3084, 'misundrstud': 8204, 'NTT': 2941, 'asus': 4818, 'Really': 3388, 'hurting': 7260, 'Cramps': 1537, 'bellearlier': 5000, '69876': 751, 'couldn\\x92t': 5741, 'hands': 7015, 'bus822656166382': 5238, 'hos': 7191, 'hint': 7129, 'X': 4359, 'huai': 7231, '21m': 442, 'otherwise': 8645, 'approaching': 4740, '3Sentiment': 586, 'infovipclub4u': 7361, 'NEEDS': 2909, 'Tomorrow': 4018, 'Arms': 1088, 'havent': 7051, 'BOX97N7QP': 1187, 'iscoming': 7435, 'Tee': 3938, 'asapok': 4793, 'NIC': 2919, '150pMt': 361, 'Crazy': 1538, 'POKKIRI': 3149, 'book': 5110, 'YES': 4388, 'acting': 4510, 'godtaken': 6876, 'msg': 8283, 'tiwary': 10508, 'algorithms': 4611, 'processnetworking': 9076, 'Tmr': 4006, 'A21': 933, 'returned': 9405, 'SED': 3462, 'wesleys': 11035, 'connected': 5670, 'Avenge': 1112, 'msg£150rcvd': 8292, 'westshore': 11039, 'eggs': 6262, 'bless': 5072, 'GRAN': 2017, 'reformat': 9287, 'rice': 9417, 'Laugh': 2610, 'CHOSEN': 1375, 'hols': 7157, 'particularly': 8742, 'Shant': 3650, '3lp': 596, 'Doggy': 1689, 'songs': 9928, 'diddy': 6013, 'final': 6557, 'O2FWD': 3031, 'fones': 6644, '2703': 467, 'corrct': 5720, 'WISHING': 4223, 'Stupidits': 3798, 'luck2': 7943, 'freesend': 6704, 'white': 11061, 'sometme': 9920, 'promises': 9094, 'Bite': 1262, 'Madamregret': 2775, 'PREMIER': 3162, 'starve': 10059, 'handsomes': 7018, 'sun': 10209, 'deliver': 5948, 'Enna': 1787, 'billed': 5038, 'P': 3103, 'warm': 10951, 'Piggy': 3223, 'Adrian': 1014, 'smoke': 9870, 'EuroDisinc': 1799, 'torch': 10581, '861': 862, 'INCONVENIENCE': 2315, 'ecstacy': 6240, 'U': 4068, 'Linerental': 2633, 'ne': 8374, 'dad': 5836, 'latr': 7718, 'fineabsolutly': 6567, 'shower': 9746, '750': 782, 'Thats': 3963, '6': 724, 'software': 9899, 'drug': 6180, 'capital': 5326, 'look': 7880, '09066364589': 263, 'skills': 9815, 'sing': 9789, 'LOCAL': 2571, 'known': 7642, 'roadsRVx': 9443, 'gym': 6988, 'bad': 4896, 'Left': 2619, 'Congratulations': 1514, '83338': 839, '09066660100': 271, 'coulda': 5739, 'commit': 5616, 'week': 11006, 'SPORT': 3535, 'Polys': 3257, 'SAM': 3450, 'SERVICES': 3473, 'AGESRING': 950, 'using': 10800, 'wa': 10913, 'hmmm': 7144, '0121': 3, '0870': 74, 'EXPLAIN': 1751, 'semester': 9637, '5digital': 712, 'watching': 10970, 'blog': 5080, 'VU': 4158, 'Spose': 3758, 'catch': 5374, 'car': 5331, 'player': 8886, 'residency': 9371, 'SUBPOLY': 3562, 'dentist': 5959, 'internet': 7398, 'sorry': 9941, 'Multiply': 2890, 'toking': 10537, 'jess': 7506, 'bottom': 5131, 'exhausted': 6412, 'gay': 6800, 'verifying': 10847, 'I‘m': 2401, 'dr': 6145, '28days': 472, 'tear': 10340, 'Tell': 3942, 'situation': 9808, 'S89': 3446, '2Bajarangabali': 479, 'acWicmb3cktz8r74': 4479, 'Craigslist': 1536, 'YEAHAND': 4384, 'elliot': 6281, 'idea': 7290, 'Eek': 1766, 'Afternoon': 1021, '2006': 431, 'HELLOGORGEOUS': 2128, 'yalrigu': 11282, 'Saristar': 3597, 'Thanks': 3958, 'words': 11154, 'FANTASTIC': 1836, 'andros': 4669, 'waheeda': 10919, 'moves': 8272, 'Cps': 1533, 'Sankranti': 3591, 'HMM': 2141, 'Ultimate': 4108, 'puppy': 9131, 'christmassy': 5510, 'Logon': 2647, 'draws': 6152, 'Din': 1667, 'toopray': 10570, 'PICK': 3125, 'nino': 8440, 'cars': 5358, 'happy': 7035, 'upgrade': 10764, 'Cttargg': 1547, 'overemphasiseor': 8670, '09701213186': 290, 'transaction': 10611, 'heartgn': 7072, 'Sullivan': 3811, '08001950382': 56, '25': 457, 'DUE': 1612, 'wtc': 11200, 'awarded': 4873, 'accent': 4482, 'walsall': 10940, 'tosend': 10585, 'Slept': 3707, 'social': 9896, 'Select': 3621, 'ta': 10281, 'teacher': 10334, 'eldest': 6277, 'forget': 6661, '85555': 860, 'grinule': 6951, 'Prakesh': 3267, 'century': 5398, 'dentists': 5960, 'kama': 7572, 'tvhe': 10678, 'careabout': 5337, 'Blackim': 1265, 'remain': 9316, '6th': 770, 'seven': 9670, 'PPL': 3161, 'Paris': 3187, 'conditionand': 5654, 'memorable': 8112, '50': 685, 'couch': 5735, 'cos': 5727, 'wwwwin82050couk': 11258, 'animation': 4673, '83021': 832, 'ill': 7305, 'Fails': 1892, 'Del': 1643, 'adventure': 4544, 'Abeg': 997, 'safety': 9510, 'mentionedtomorrow': 8120, 'caring': 5349, 'alls': 4624, 'Brother': 1317, 'WHORE': 4216, 'outrageous': 8660, 'questionstd': 9159, 'Bugis': 1325, 'Kick': 2505, 'agents': 4574, 'reference': 9281, 'travelling': 10625, 'Putting': 3303, 'womdarfull': 11137, 'BCM1896WC1N3XX': 1146, 'avble': 4860, 'amp': 4655, 'Nottingham': 3016, 'corvettes': 5726, 'posts': 8969, 'tables': 10283, 'DoubleTxt': 1702, 'Transaction': 4031, 'everybody': 6377, 'renewal': 9331, 'draw': 6150, 'buying': 5251, 'browser': 5200, 'lar': 7701, 'doggy': 6106, 'broken': 5188, 'modelsony': 8224, 'WKEND': 4227, 'Doesnt': 1687, '07821230901': 42, 'dabbles': 5835, '2003': 428, 'grandfather': 6926, 'well': 11023, '4Pavanaputra': 654, 'adoring': 4537, 'Tone': 4019, 'sterling': 10084, 'Evr': 1813, '24M': 454, 'hanging': 7022, 'offline': 8558, 'creativity': 5773, 'HU': 2162, 'People': 3199, 'HMV1': 2143, 'uniform': 10740, 'floor': 6617, 'bollox': 5103, 'straight': 10119, 'CONCERNED': 1391, '6HL': 758, 'lamp': 7686, 'multis': 8307, 'pataistha': 8760, 'flame': 6599, '730ish': 778, 'plus': 8906, 'Nasdaq': 2951, 'Bank': 1224, '3UZ': 588, 'steps': 10082, 'Wings': 4322, 'Honey': 2263, 'hermy': 7104, 'conserve': 5676, 'friday': 6712, 'chaps': 5418, 'prey': 9037, 'advice': 4546, 'RED': 3339, 'TOOL': 3899, 'ltEMAILgt': 7936, 'adds': 4526, 'forgt': 6668, 'outfor': 8656, 'YWHERE': 4406, 'Aiyo': 1037, 'ke': 7586, 'noun': 8487, 'DAYU': 1573, '8077': 818, 'lemme': 7757, 'Moji': 2859, 'anythiing': 4705, 'amigos': 4646, 'Invest': 2380, 'silently': 9779, 'slower': 9849, 'kkwhere': 7633, 'SOZ': 3524, 'witot': 11115, 'prove': 9109, 'ge': 6810, 'Dream': 1707, 'Jada': 2422, 'STIL': 3547, 'suppliers': 10226, 'held': 7082, 'Truro': 4037, '32F': 564, '1DA': 399, 'cn': 5563, 'Dun': 1714, 'Squeeeeeze': 3763, 'SEXYCHAT': 3476, 'test': 10374, 'anyways': 4712, 'mineall': 8169, '09111032124': 289, 'advance': 4543, 'ANAL': 965, 'clarify': 5524, 'infra': 7363, 'may': 8065, '150pmin': 367, 'tirunelvai': 10503, 'MSGWe': 2759, 'YEAR': 4385, 'wishin': 11105, 'TERMINATEDWE': 3857, 'yowifes': 11340, 'box245c2150pm': 5140, 'Ciao': 1482, 'cutting': 5827, 'Things': 3978, '0871277810910pmin': 123, 'offdam': 8544, 'enjoy': 6314, 'NYs': 2947, 'March': 2791, 'flatter': 6602, 'Homeowners': 2261, 'arrive': 4783, 'that\\x92s': 10405, 'hav2hear': 7049, '09099725823': 283, 'candont': 5315, 'Rightio': 3422, 'deep': 5927, '9ja': 929, 'hor': 7186, '42049': 619, 'plenty': 8898, 'cantdo': 5321, 'Day': 1631, 'SEE': 3463, 'hearing': 7069, '08714714011': 130, 'library': 7780, 'juliana': 7549, 'dhina': 6000, '7ZS': 795, 'takes': 10298, 'karnan': 7581, 'staying': 10071, 'respect': 9377, 'plumbingremixed': 8904, 'Santha': 3593, 'Cause': 1451, 'Oh': 3059, 'profile': 9081, 'XCHAT': 4364, 'kissing': 7629, 'Arrow': 1090, 'Haha': 2172, 'swiss': 10269, 'explicit': 6428, 'executive': 6408, 'we‘re': 11045, 'rearrange': 9237, 'parish': 8733, 'Canary': 1433, 'Nooooooo': 3007, 'stoners': 10103, 'Crying': 1543, 'size': 9812, 'sayin': 9557, 'HUNLOVE': 2164, '41782': 617, 'HI': 2135, 'pases': 8749, '£450': 11394, '450pw': 638, '150': 353, 'stopCost': 10107, 'Motherinlaw': 2878, 'subscrition': 10178, 'Pray': 3270, 'vivek': 10888, 'cast': 5369, 'HeyGreat': 2223, 'contented': 5688, '08719180219': 170, 'Sry': 3765, 'mode': 8222, 'celebrate': 5392, 'MELNITE': 2711, 'nb': 8372, 'smth': 9881, 'VIOLENCE': 4153, 'MAYBE': 2706, '7876150ppm': 789, 'YES165': 4389, 'LOTS': 2583, 'SEEING': 3464, 'didn\\x92t': 6016, 'youve': 11334, '09050000878': 184, 'prix': 9056, '14thMarch': 352, '2waxsto': 538, 'directly': 6050, 'holding': 7151, 'qing': 9152, 'single': 9792, 'mailed': 7994, 'boobs': 5109, 'professors': 9080, 'Hard': 2187, 'open': 8600, 'mistakes': 8203, 'uniqueI': 10744, '09050003091': 189, 'godYou': 6873, 'BOOKS': 1174, 'male': 8007, 'timi': 10494, '09061104283': 213, 'includes': 7336, 'lipo': 7825, 'shorts': 9735, 'NEED': 2908, 'chinchillas': 5493, 'everyboy': 6379, 'Eh': 1769, 'REMEMBER': 3341, 'boggy': 5100, 'wheellock': 11050, 'Chat': 1464, '20p': 436, 'mail': 7993, '09061701939': 221, 'heart': 7070, 'entitled': 6328, 'MUCHI': 2762, 'wordSTART': 11152, 'Jia': 2444, 'FA': 1833, '09061790126': 231, 'singapore': 9790, 'Hols': 2258, 'sitting': 9807, 'braved': 5157, '08712101358': 102, 'cut': 5823, 'BOO': 1173, 'JamsterGet': 2425, 'houseful': 7203, 'envelope': 6333, 'mostly': 8260, 'Joys': 2459, 'Cttergg': 1549, 'glasgow': 6857, 'flow': 6620, 'DADS': 1563, 'Saw': 3603, 'itmay': 7458, 'bars': 4928, 'phone750': 8832, 'Saturday': 3600, 'sweets': 10263, 'FEELINGOOD': 1840, 'Game': 2029, 'relationshipits': 9305, 'however': 7208, '180': 388, 'vilikkamt': 10870, 'married': 8036, 'BCM4284': 1147, 'engaged': 6308, 'sister': 9800, 'NO165': 2927, '09061743810': 225, 'ntswt': 8502, 'meet': 8092, 'difference': 6027, '08715203652': 134, '08702840625': 86, 'reassurance': 9241, 'useless': 10796, '1childish': 412, 'statements': 10064, 'ten': 10365, 'calculated': 5270, 'Warm': 4270, 'natuition': 8364, 'boundaries': 5134, 'replied': 9347, 'lovingly': 7924, 'STAPATI': 3542, 'western': 11037, 'wear': 10987, 'cornwall': 5718, 'Thurs': 3990, 'guoyang': 6982, 'disappointment': 6059, 'WORK': 4234, 'iphone': 7423, 'REVEAL': 3346, '3650': 569, 'BOYFRIEND': 1189, 'olage': 8577, 'meetins': 8095, 'james': 7482, 'YES440': 4391, 'Dai': 1618, '09058095201': 207, 'taught': 10321, 'atlast': 4822, 'Sure': 3822, 'Noice': 2998, 'formatting': 6672, 'casting': 5370, 'Box1146': 1293, 'HORO': 2151, 'sambarlife': 9525, 'TULIP': 3912, 'fated': 6494, 'hopeful': 7181, 'b4': 4881, 'DEL': 1580, 'october': 8539, '0871212025016': 104, 'closingdate040902': 5552, 'Dad': 1616, 'banter': 4917, 'frndship': 6729, 'ths': 10468, 'BREATHE1': 1193, 'housing': 7206, 'overa': 8668, 'MONO': 2745, 'speed': 9982, 'virgin': 10877, 'oreo': 8633, 'plaza': 8892, 'Ice': 2344, '0207': 9, 'pleasured': 8897, 'Comfort': 1504, 'CallFREEFONE': 1419, 'Aeronautics': 1016, 'Nite': 2987, 'didn‘t': 6017, 'lightly': 7798, 'sittin': 9806, 'easter': 6232, 'PT2': 3174, 'korche': 7653, 'lnly': 7847, 'Thanku': 3959, 'hitteranyway': 7138, 'tb': 10329, 'wanting': 10948, 'Freeentry': 1946, 'armand': 4771, 'vote': 10900, 'sura': 10236, 'MYCALLSU': 2769, 'Teacher': 3933, 'yeah': 11289, 'acc': 4481, 'sport': 10012, 'refund': 9289, 'ericsson': 6339, '£3wk': 11392, 'random': 9192, 'Ilol': 2351, 'sent': 9649, 'usLET': 10789, 'Jez': 2443, '5WB': 709, 'manageable': 8011, 'Xx': 4378, 'Henry': 2218, 'curry': 5815, 'YET': 4396, '08718711108': 151, '0ANETWORKS': 291, 'idconvey': 7289, 'alerts': 4606, 'nmde': 8448, 'Weve': 4300, '09066612661': 269, 'rules': 9488, '25F': 460, 'Rose': 3435, 'WANNATELL': 4198, 'Raj': 3370, 'Dave': 1630, 'lonlines': 7878, 'INC': 2313, 'typelyk': 10695, 'punch': 9127, 'recession': 9259, 'sometimes': 9919, 'TaDaaaaa': 3920, 'offers': 8549, '10K': 306, 'mesages': 8129, 'wnt': 11130, 'useful': 10795, 'theory': 10415, 'Oooh': 3082, 'K61': 2470, 'RINGSRETURN': 3353, 'uploaded': 10768, 'til': 10485, 'Caller': 1420, 'wit': 11109, 'call2optoutJ5Q': 5281, 'Nationwide': 2955, 'pretend': 9029, 'sentence': 9650, 'mel': 8104, 'buttons': 5247, 'EVER': 1741, 'polypH': 8927, '“': 11421, 'Margaret': 2793, 'B4U': 1122, '10th': 314, 'slice': 9836, 'dads': 5839, 'nownyt': 8497, 'shu': 9755, 'gone': 6888, 'blanket': 5067, 'hes': 7109, 'prsn': 9114, 'prem': 9011, 'strict': 10132, 'finewhen': 6568, 'fantasy': 6484, 'hot': 7196, 'air': 4593, 'wizzle': 11118, 'goin': 6880, 'CHITCHAT': 1374, '07808726822': 40, 'age16': 4569, 'make': 8000, 'Theyre': 3975, 'hall': 7006, 'sudden': 10187, 'izzit': 7468, 'GURL': 2024, 'chocolate': 5498, 'playing': 8890, 'lab': 7669, 'clas': 5525, 'Delivered': 1646, '2channel': 508, 'ACCEPT': 936, 'theyre': 10427, 'line': 7810, 'steal': 10075, '80182': 813, 'yuou': 11347, 'Bought': 1291, '48922': 645, 'nice': 8423, 'frontierville': 6737, 'switch': 10270, 'stuff': 10153, 'JD': 2411, '24hrs': 455, 'download': 6140, '2GETHA': 484, 'EXTREME': 1753, 'train': 10604, 'hisher': 7133, 'b': 4880, 'slowly': 9851, 'one': 8586, 'wkly': 11123, 'callurgent': 5299, 'Stereophonics': 3780, '20F': 434, 'Xuhui': 4377, 'LA32WU': 2544, 'camry': 5308, 'nattil': 8363, 'skip': 9819, 'PA': 3104, 'face': 6446, 'wats': 10976, 'Guaranteed': 2095, 'Enjoy': 1786, 'itU': 7447, 'raining': 9182, 'regret': 9299, 'perfume': 8804, 'StarWars3': 3771, 'fixed': 6593, 'youmy': 11326, 'forgets': 6662, 'chikku': 5474, '89555': 895, 'jet': 7508, 'totally': 10590, 'sleepin': 9830, 'Doctor': 1686, 'hppnss': 7213, 'arm': 4770, 'PEACH': 3116, 'ger': 6823, 'centre': 5397, 'Swayze': 3826, '88877FREE': 887, 'worry': 11171, 'touch': 10592, 'shld': 9718, 'B': 1120, 'care': 5336, 'Kkapo': 2516, 'OREOS': 3047, 'BIG': 1160, 'Telephonic': 3940, '5we': 721, 'long': 7876, 'let': 7769, 'vibrant': 10852, 'SEEN': 3466, 'Money': 2866, 'giving': 6853, 'SLAP': 3499, 'GIVE': 1988, '09061744553': 227, 'HP20': 2159, '4some1': 672, 'StdTxtRate': 3779, 'TOTALLY': 3903, 'Wotz': 4350, 'thin': 10429, 'httpwwwetlpcoukexpressoffer': 7226, 'Dolls': 1691, 'attractioni': 4835, 'empty': 6296, 'celebration': 5393, 'Wasted': 4274, 'cashed': 5365, '08000938767': 55, 'si': 9761, 'Allahmeet': 1049, '08712405020': 116, 'Duchess': 1712, 'marandratha': 8026, 'dagood': 5840, 'bimbo': 5043, 'cereals': 5399, 'Motorola': 2880, 'amnow': 4650, 'heard': 7067, 'MAD2': 2692, 'MoralDont': 2872, 'BABE': 1124, 'unsubscribe': 10759, 'mob': 8215, 'DONTPLEASE': 1599, 'EVENING': 1740, 'instructions': 7387, 'clip': 5543, '7250i': 776, 'TEXT': 3860, '83383': 842, '1hr': 413, 'l8r': 7666, 'WTF': 4250, 'Lucky': 2676, 'inpersonation': 7376, 'Small': 3711, 'TheDailyDraw': 3966, 'bac': 4892, 'requests': 9357, 'applyed': 4733, 'FIRST': 1852, 'came': 5303, '5Gently': 704, 'fold': 6634, 'felt': 6526, '0825': 65, 'HAVENTCN': 2122, 'aunties': 4845, 'ones': 8588, 'Shijas': 3658, 'Iraq': 2381, 'vaguely': 10819, '786': 788, 'press': 9025, 'pattys': 8767, 'contribute': 5694, 'contact': 5683, 'XX': 4367, 'May': 2804, 'Gudnyt': 2100, 'prescripiton': 9019, 'ur': 10777, 'pressure': 9027, 'Ashley': 1094, '2yrs': 542, 'journey': 7539, 'inour': 7374, 'en': 6297, 'board': 5097, 'costume': 5732, 'watchng': 10971, 'Mm': 2842, 'customer': 5820, 'Burger': 1328, '09061790125': 230, 'award': 4872, 'RSTM': 3361, 'meow': 8125, 'helloed': 7088, 'assumed': 4813, 'gotany': 6908, 'arguing': 4764, 'Last': 2607, 'therere': 10420, 'Latest': 2609, 'desparately': 5979, 'MEGA': 2710, 'COUNTINLOTS': 1397, 'iter': 7452, 'Yun': 4448, 'Panther': 3185, 'forwarding': 6682, 'James': 2423, 'night': 8428, 'Kindly': 2510, 'or2stoptxt': 8624, 'Kkgoodstudy': 2520, 'nicky': 8425, 'conditions': 5655, 'Call2OptOut674': 1418, 'bed': 4973, 'Lil': 2629, 'Fantasy': 1896, 'buddys': 5213, 'even': 6369, '0845': 69, 'DARLIN': 1566, 'bloody': 5088, 'Lacsthere': 2599, 'pull': 9123, 'W45WQ': 4192, 'tis': 10506, 'qbank': 9149, 'POSTCARD': 3159, 'swimming': 10266, 'pongal': 8931, 'Guy': 2106, 'sky': 9821, 'Spl': 3752, '447per': 629, 'complaint': 5628, 'dumb': 6202, 'dict': 6011, 'HOPE': 2149, 'kochi': 7649, 'unfortuntly': 10736, 'attending': 4832, '131004': 343, 'taylors': 10328, 'biolas': 5045, 'ad': 4518, 'reppurcussions': 9353, '3x£150pw': 604, '0870141701216': 80, 'significance': 9772, 'UNICEFs': 4081, 'Biola': 1257, 'keys': 7599, 'COME': 1386, 'landmark': 7692, 'reunion': 9408, 'cost': 5729, 'naughty': 8368, 'Mumtaz': 2892, 'FIT': 1853, 'huge': 7236, '63miles': 737, 'Lololo': 2650, 'spoon': 10010, 'INVITED': 2327, 'Potter': 3262, 'Blacko': 1266, 'wiskey': 11108, 'heat': 7075, 'help08700469649': 7090, '1000s': 297, 'Senthil': 3630, '09064015307': 239, 'entropication': 6330, 'Ttyl': 4051, 'DONE': 1596, 'Nobut': 2994, '08002986030': 58, 'characters': 5421, 'wwwtextcompcom': 11251, 'samantha': 9524, '2NITE': 495, 'manda': 8014, 'witout': 11116, 'cramps': 5761, 'IL': 2304, 'waitin': 10923, 'youre': 11329, 'butt': 5245, 'carefully': 5341, 'Twinks': 4059, 'No1': 2988, 'Service': 3634, 'beehoon': 4980, 'MOAN': 2738, '09061743806': 224, 'friendofafriend': 6718, 'worldmay': 11165, 'greatly': 6941, 'toothpaste': 10572, 'SHUDVETOLD': 3487, 'nìte': 8523, 'saturday': 9546, 'copied': 5712, 'YM': 4397, 'see': 9613, 'Atlast': 1102, 'Want': 4267, 'admission': 4533, 'many': 8021, 'Code': 1494, 'cThen': 5262, 'rob': 9445, 'constantly': 5682, 'bloombergcom': 5089, 'accordingly': 4494, 'Olol': 3073, 'thinkThis': 10434, 'india': 7346, '07XXXXXXXXX': 48, 'TXTAUCTION': 3917, 'discussed': 6069, 'NHS': 2918, 'sef': 9623, 'gep': 6822, 'Aslamalaikkuminsha': 1098, 'bari': 4923, 'weasels': 10990, '09064012160': 238, 'personally': 8816, 'Nvm': 3026, 'Spring': 3760, 'video': 10859, 'acsmsrewards': 4506, 'sorryi': 9942, 'nt': 8500, 'minuts': 8183, 'conected': 5657, 'Salad': 3587, 'Problms': 3286, 'Wk': 4331, 'flaky': 6598, 'AGOCUSOON': 952, 'apply': 4731, 'complacent': 5625, 'appropriate': 4741, 'atm': 4823, 'police': 8922, 'Ssnervous': 3768, 'value': 10826, 'husband': 7262, 'you‘ll': 11338, 'THAT\\x92SCOOL': 3872, 'soiree': 9901, 'simonwatson5120': 9783, 'wihtuot': 11077, 'appendix': 4727, '4give': 665, 'stop': 10106, 'gucci': 6970, 'treatin': 10631, 'shuhui': 9757, 'Sitting': 3695, 'Large': 2606, 'dead': 5893, 'zealand': 11349, 'Refused': 3400, 'appreciated': 4738, '7250': 775, 'A£150': 1118, 'Ultimately': 4109, '09063458130': 234, 'Fine': 1914, 'Nokia150p': 3002, 'lays': 7730, 'firesAre': 6581, '1230': 333, 'panicks': 8711, '447797706009': 627, 'dokey': 6115, 'SPEEDCHAT': 3529, 'messagesText': 8140, '£5month': 11404, 'bcoz': 4954, 'amused': 4659, 'center': 5396, 'offering': 8548, 'files': 6548, 'phone': 8831, 'prediction': 9007, 'garage': 6789, 'Frnd': 1955, 'interview': 7400, 'starshine': 10052, 'lived': 7840, '3wks': 603, '1013': 302, 'Make': 2780, 'successfully': 10183, 'Kkwhy': 2528, 'lowes': 7928, 'significant': 9773, 'Stream': 3789, 'bother': 5128, '3230': 561, 'nike': 8438, 'method': 8145, 'Liverpool': 2638, 'MojiBiola': 2860, 'nitz': 8446, 'medical': 8088, 'sup': 10219, 'Siva': 3696, 'takenOnly': 10297, 'tts': 10662, 'officeunderstand': 8554, '–': 11420, 'royal': 9474, 'chasing': 5433, 'Hahatake': 2174, 'bruce': 5202, '4GET': 650, 'adult': 4541, '08719181259': 172, 'Mayb': 2805, 'embarrassed': 6289, 'melody': 8106, 'joined': 7525, '1120': 316, 'fats': 6497, 'Wine': 4321, 'friendship': 6721, 'Instant': 2375, 'doinat': 6110, '30s': 553, 'REALY': 3334, 'wanted': 10947, 'hsbc': 7216, 'cheesy': 5453, 'Chance': 1458, 'digital': 6034, 'senthilhsbc': 9652, 'JADE': 2405, 'dayshe': 5886, 'restUWud': 9387, 'UNBELIEVABLE': 4078, 'AL': 957, 'keen': 7587, 'fps': 6690, 'weed': 11004, 'Ay': 1117, 'smoothly': 9875, 'Landline': 2602, 'awkward': 4876, 'jays': 7495, 'dog': 6102, 'return': 9404, 'pants': 8714, 'REAL1': 3329, 'seat': 9599, 'drugs': 6182, 'bishan': 5052, 'nothing': 8480, 'msgticketkioskValid': 8291, 'escalator': 6348, 'concentration': 5649, 'bowl': 5137, 'sameso': 9526, 'iccha': 7282, 'lyrics': 7963, 'gautham': 6798, 'skateboarding': 9814, '10am7pm': 308, 'raised': 9184, 'stereo': 10083, 'Ganesh': 2032, 'frndsship': 6731, 'joys': 7541, 'smsshsexnetUN': 9880, 'cream': 5770, 'concentrating': 5648, '816183': 825, 'california': 5273, 'Eve': 1801, 'Helpline': 2217, 'Per': 3200, '8000930705': 805, 'earn': 6223, 'safe': 9508, '1pm': 415, 'reality': 9230, 'garden': 6791, 'immunisation': 7315, 'ruin': 9485, 'Itsnot': 2390, 'ennal': 6318, 'THANKS': 3866, 'GOODFRIEND': 2003, 'get': 6824, 'Wheres': 4311, 'religiously': 9312, 'FreeMsgFeelin': 1945, 'view': 10865, '7': 772, 'RV': 3366, 'fired': 6578, 'definite': 5934, 'showroomscity': 9750, 'ducking': 6195, '420': 618, 'period': 8806, 'Persian': 3203, '09058094507': 200, 'CUM': 1408, 'vargu': 10831, 'ITBOTH': 2333, 'going': 6882, 'lonely': 7875, 'priya': 9057, 'field': 6536, 'DAY2': 1571, 'youwanna': 11335, 'EASTENDERS': 1720, 'sufficient': 10194, 'comprehensive': 5638, 'isare': 7434, 'Imprtant': 2357, 'SP': 3525, 'refreshed': 9288, 'innu': 7373, 'stories': 10115, 'someone': 9909, 'avoiding': 4867, 'VIOLET': 4154, 'Sweet': 3827, '89034': 889, 'xxx': 11272, 'chennaibecause': 5456, 'dnt': 6086, 'laurie': 7723, 'some1': 9906, 'christmas': 5509, 'Early': 1755, 'CR01327BT': 1398, 'chatting': 5438, 'lotto': 7904, 'ec2a': 6239, 'continent': 5690, 'Yagoing': 4408, 'perform': 8801, 'IJUST': 2300, 'sitter': 9805, 'dehydrated': 5939, 'careful': 5340, 'trial': 10637, 'Oyea': 3101, 'mornin': 8255, 'burgundy': 5230, 'Otherwise': 3100, 'evaporated': 6365, 'goodenvironment': 6894, 'im': 7307, 'filled': 6550, 'mouse': 8268, 'Erutupalam': 1791, 'victors': 10857, 'WINNER': 4221, 'HIYA': 2138, 'Care': 1440, 'WordsEvry': 4344, '16': 382, 'Monthly': 2867, 'sensible': 9647, 'leaves': 7743, 'TONIGHT': 3897, 'Come': 1503, 'bunch': 5224, 'textsweekend': 10386, 'needed': 8388, 'baskets': 4934, 'SavaMob': 3601, 'LE': 2553, 'yrs': 11342, 'dealers': 5898, 'donate': 6119, '09099726481': 286, 'Loads': 2643, 'Heehee': 2204, 'BREAK': 1191, '£50award': 11401, 'evn': 6389, 'pg': 8822, 'row': 9472, 'stripes': 10135, 'Macha': 2773, 'astne': 4815, 'speechless': 9981, 'Name': 2949, 'Ages': 1026, '£1': 11360, 'BILLING': 1162, 'slots': 9846, 'visiting': 10883, '020603': 8, 'PushButton': 3301, 'Red': 3394, '4wrd': 682, 'leaving': 7744, 'OnionRs': 3078, 'uterus': 10806, 'meetitz': 8096, 'means': 8083, 'OLD': 3040, 'Intelligent': 2376, 'mines': 8171, 'DontCha': 1696, 'Bc': 1229, '1Cup': 398, 'wiv': 11117, 'corporation': 5719, 'Mr': 2883, 'mobilesvary': 8218, 'shun': 9758, 'wipro': 11098, 'men': 8115, 'std': 10073, 'stock': 10097, 'Know': 2531, 'Penny': 3198, 'Shuhui': 3674, 'returning': 9406, 'depends': 5964, 'definitely': 5935, 'Beware': 1253, 'burial': 5231, 'personMeet': 8814, 'hugging': 7237, 'month': 8248, '3Maruti': 583, 'maga': 7984, 'Bluetooth': 1274, 'barring': 4927, 'studdying': 10145, 'Iriver': 2382, 'neighbor': 8398, 'slacking': 9826, 'thm': 10444, 'porridge': 8946, 'fondly': 6642, 'mention': 8119, 'restrictions': 9393, 'kanoil': 7577, 'Vry': 4186, 'listen': 7830, 'Ref9280114': 3396, '09050280520': 192, 'Reverse': 3418, 'Katexxx': 2490, 'Yeh': 4420, 'dirtiest': 6054, 'blessing': 5075, 'programs': 9085, 'unrecognized': 10753, 'Tonight': 4021, 'remb': 9318, 'Tmrw': 4007, 'Painful': 3181, 'i‘m': 7472, 'opportunity': 8611, 'fishhead': 6586, 'comfort': 5608, '68866': 743, 'cuddled': 5801, 'Litres': 2636, '08712460324nat': 119, 'dealing': 5899, 'Nikiyu4net': 2983, 'beendropping': 4981, 'stress': 10126, 'predict': 9005, 'Xavier': 4374, 'Indyarockscom': 2368, 'Ctter': 1548, 'natwest': 8367, 'brum': 5203, 'bitching': 5055, 'fix': 6591, 'xxxxxxx': 11275, 'funky': 6762, 'visitors': 10885, 'strong': 10137, 'frm': 6725, 'REMINDER': 3342, 'plan': 8876, 'MySpace': 2900, 'lac': 7671, 'greece': 6943, 'new': 8413, '1stone': 420, 'describe': 5973, 'Bull': 1327, 'Abbey': 996, 'LOVE': 2585, 'Fuuuuck': 1962, 'hella': 7086, 'smsd': 9878, 'WRC': 4244, 'children': 5486, '08719899230': 178, 'opps': 8616, 'writhing': 11190, 'splendid': 9999, 'Chat80155': 1465, 'daurgent': 5877, 'life': 7786, 'by\\x94leafcutter': 5258, 'ringing': 9428, '2I': 487, 'beauty': 4967, 'nonetheless': 8462, 'lim': 7805, '15541': 380, 'youPhone': 11314, 'Cost': 1524, 'MP3': 2752, 'www07781482378com': 11209, 'helps': 7094, 'MK45': 2734, 'julianaland': 7550, 'tescos': 10373, 'streetshall': 10125, 'alivebetter': 4616, 'Golf': 2069, 'things': 10432, 'starting': 10057, 'STUDY': 3559, 'outgoing': 8657, 'prepaid': 9013, 'stomach': 10100, '\\x96': 11359, 'tells': 10356, 'polys': 8929, 'prepared': 9015, 'lorgoin': 7890, 'usc': 10791, 'TOWNCUD': 3905, 'anjie': 4674, 'biggest': 5035, 'Rs5': 3441, 'keyword': 7600, 'ah': 4580, 'wined': 11092, 'availa': 4854, 'fell': 6524, 'DEF': 1578, 'skye': 9822, 'MF': 2717, 'stamped': 10041, 'hook': 7173, 'SARY': 3451, 'Jenxxx': 2436, 'Youi': 4441, '1956669': 396, 'cresubi': 5779, 'cheaper': 5440, 'cashto': 5367, 'MQUIZ': 2753, 'hillsborough': 7126, 'sux': 10250, 'placement': 8873, 'dearslp': 5908, 'Convey': 1518, 'cme': 5561, 'thou': 10449, 'dessert': 5982, 'totes': 10591, 'IKEA': 2301, 'msging': 8284, 'Brandy': 1303, 'parties': 8743, 'Babes': 1212, 'express': 6432, 'wishlist': 11107, 'EXORCIST': 1749, '60pmin': 729, 'Staying': 3778, 'khelate': 7604, 'seeking': 9617, 'KISS': 2476, 'Lul': 2679, 'detailed': 5986, 'TITLE': 3885, 'extra': 6436, 'durham': 6209, 'bathe': 4940, 'ILL': 2306, 'wad': 10914, 'oh': 8565, 'privacy': 9054, 'entry': 6331, 'Gokila': 2067, 'porn': 8945, 'PoBox12n146tf15': 3244, 'affection': 4553, 'T91': 3834, 'specialisation': 9975, 'aquarius': 4751, 'goodnight': 6898, 'Natalja': 2953, 'ola': 8576, 'referin': 9283, 'appt': 4746, 'onit': 8591, 'breezy': 5169, '£150week': 11379, 'nurses': 8512, 'fridayhope': 6713, 'CLAIRE': 1379, 'n8': 8337, '150pmeg': 366, 'decide': 5915, 'GONNA': 1999, 'tomoCant': 10547, 'cookies': 5707, '4403LDNW1A7RW18': 626, 'largest': 7703, 'polyH': 8925, '84': 846, 'XCLUSIVECLUBSAISAI': 4365, 'Since': 3685, 'Nurungu': 3023, 'lastest': 7707, 'Jamz': 2426, 'claims': 5521, 'Companion': 1506, 'REALLY': 3332, 'checking': 5447, 'bought': 5132, 'Keris': 2501, 'Trust': 4038, 'x': 11260, 'guessed': 6974, 'adress': 4538, 'doubt': 6137, 'dot': 6133, 'module': 8226, 'seriously': 9658, 'GORGEOUS': 2009, 'chance': 5410, 'hear': 7066, 'number': 8508, 'BIRD': 1163, 'ebay': 6238, 'refused': 9291, 'WRKIN': 4247, 'GONNAMISSU': 2000, 'kisi': 7626, 'smells': 9863, '7th': 802, 'dollars': 6117, 'golden': 6884, 'slowing': 9850, 'elections': 6278, 'SK38xh': 3498, '84128custcare': 850, 'vldo': 10891, '08701752560': 82, 'photoshop': 8838, 'WALES': 4196, 'hyde': 7271, 'hoped': 7180, 'SplashMobile': 3753, 'tol': 10538, 'checkboxes': 5445, '69969': 755, 'Subscribe6GBPmnth': 3803, 'wid': 11070, 'valentines': 10823, 'ALETTER': 959, 'Ubi': 4099, 'CAMERA': 1346, 'dearer': 5904, 'develop': 5991, '08719181503': 173, '86021': 861, 'cleaning': 5533, 'guy': 6984, 'opener': 8602, '924': 913, 'milk': 8157, 'turning': 10674, 'approve': 4742, 'Delhi': 1644, 'cabin': 5263, 'Mode': 2858, 'zhong': 11352, 'Old': 3072, 'Face': 1890, 'sonot': 9929, 'prospects': 9107, 'armenia': 4773, 'chikkusimple': 5481, 'subscriptions': 10177, '24th': 456, 'WC1N': 4203, 'Sif': 3679, 'Chikku': 1472, 'outage': 8651, 'KNOWNEWAY': 2480, 'Indian': 2365, 'CustCare08718720201': 1553, 'PROPERLY': 3170, 'put': 9141, 'sports': 10013, 'boys': 5146, 'wasn‘t': 10961, 'turkeys': 10671, '09065171142stopsms08718727870150ppm': 248, '5pm': 719, 'printing': 9050, 'Perhaps': 3201, 'recd': 9247, 'resume': 9399, 'Girls': 2055, 'IndianPls': 2366, 'upsetits': 10774, '326': 563, 'AINT': 956, 'MilkdayNo': 2828, '09061701461': 219, 'balance': 4906, 'familymay': 6475, 'reminds': 9326, 'ppl': 8981, 'ese': 6350, 'Kids': 2506, 'EVERYTHIN': 1744, 'help08712400602450p': 7091, 'alot': 4628, 'Tmorrowpls': 4005, 'Panasonic': 3182, 'kanoanyway': 7576, 'april': 4747, 'Networking': 2964, 'DOIN': 1594, 'sonathaya': 9926, '9pm': 930, 'Reason': 3390, 'kettoda': 7596, 'torrents': 10582, 'necessary': 8381, 'lifted': 7794, 'spys': 10021, 'gdeve': 6807, 'pubs': 9121, 'logo': 7865, 'hopeing': 7183, 'surfing': 10240, '09050000301': 180, 'urgent': 10779, 'Remembered': 3405, 'Fml': 1923, 'indicate': 7348, 'bugis': 5218, 'lautech': 7724, 'pendingi': 8792, 'Agalla': 1024, 'thing': 10430, 'agalla': 4567, 'combine': 5600, '88039': 877, 'Making': 2782, 'geting': 6827, 'meeting': 8094, 'PoBox75LDNS7': 3248, 'stifled': 10092, 'chords': 5504, 'propose': 9104, 'noe': 8452, 'WRONGTAKE': 4249, 'XXUK': 4368, 'beach': 4959, 'splash': 9998, 'Complete': 1509, 'swollen': 10271, 'busty': 5242, 'wwwldewcom': 11236, '08715203656': 135, 'tc': 10330, 'split': 10000, 'ntwk': 8503, '09050000555': 183, 'implications': 7318, 'bootydelious': 5118, 'responcewhat': 9379, 'STORE': 3553, 'videosound': 10862, 'everyone': 6381, 'recognises': 9266, 'basketball': 4933, 'planetI': 8879, 'Shes': 3654, 'Whatever': 4303, 'ajith': 4597, 'kiss': 7627, 'mcr': 8072, 'httptms': 7223, 'confirmd': 5662, 'muz': 8329, '£200': 11383, 'TONE': 3893, 'sex': 9672, 'office': 8550, 'WORLD': 4235, 'prayingwill': 9002, 'foot': 6648, '08706091795': 90, 'ofice': 8559, 'itc': 7449, 'asking': 4803, '930': 915, 'wap': 10950, 'nichols': 8424, 'MISSY': 2729, 'thousands': 10454, 'Evrey': 1814, 'payed': 8772, 'DONT': 1597, 'birthday': 5051, 'nammanna': 8352, 'attitude': 4834, 'panalambut': 8709, 'Either': 1771, 'Brilliant': 1311, 'correction': 5722, '3GBP': 580, 'overtime': 8672, 'heaven': 7077, 'results': 9398, 'Neway': 2969, 'edrunk': 6245, 'cumin': 5806, 'ccna': 5386, 'formal': 6669, 'subtoitles': 10180, '…': 11423, 'ansr': 4688, 'Pshewmissing': 3293, '07732584351': 29, 'machan': 7969, 'Apparently': 1077, 'Box326': 1295, 'ollubut': 8581, 'Subscriber': 3804, 'Midnight': 2823, 'dude': 6196, 'take': 10295, 'thenwill': 10414, 'spend': 9988, 'tonitebusy': 10560, 'kafter': 7564, 'bid': 5031, 'jaklin': 7480, 'stores': 10114, 'HONEYDID': 2147, 'MISS': 2726, 'check': 5444, 'Twelve': 4057, 'SPORTSx': 3536, 'gua': 6967, 'accidant': 4487, 'disturb': 6077, 'MESSAGE': 2714, 'Drop': 1711, 'administrator': 4531, 'mid': 8150, 'abroad': 4470, 'EXAMS': 1747, 'ORANGE': 3046, 'castor': 5371, 'goigng': 6879, 'products': 9078, 'Belovd': 1245, '4txtú120': 677, '6ish': 765, 'sochte': 9895, '09050000332': 181, 'Pro': 3284, 'topic': 10575, 'talent': 10301, 'navigate': 8371, 'INCLU': 2314, 'falconerf': 6466, 'Greeni': 2089, 'contains': 5686, 'snogs': 9888, 'Daddy': 1617, 'reschedule': 9362, 'lttrs': 7940, 'please': 8894, 'TAROT': 3844, 'occasion': 8533, 'CU': 1406, 'spontaneously': 10009, '4742': 643, 'transfer': 10613, 'purse': 9137, 'spree': 10018, 'Someone': 3726, 'prompts': 9097, 'Holla': 2257, 'home': 7159, 'restWish': 9388, 'Hari': 2189, 'Eternal': 1796, 'bak': 4903, '87066': 868, 'fne': 6632, 'Hidid': 2227, 'Aka': 1038, 'fathima': 6496, 'Sale': 3589, 'Santa': 3592, '02085076972': 13, 'BTooth': 1203, 'games': 6783, 'tat': 10318, 'directors': 6052, 'wwwtcbiz': 11249, 'tuesday': 10666, 'ouch': 8649, 'function': 6756, 'syrup': 10278, 'LES': 2555, 'teju': 10351, '10803': 305, 'SD': 3461, 'wellyou': 11026, 'hour': 7199, 'jokes': 7531, 'dayswill': 5888, 'person': 8812, 'moneYas': 8239, 'hearin': 7068, 'messy': 8143, 'exposed': 6430, 'dint': 6047, 'something': 9915, 'Manchester': 2786, '45': 634, 'colourful': 5595, 'shall': 9687, 'fighting': 6541, '85222': 857, 'Lindsay': 2631, 'garbage': 6790, 'arrested': 4781, 'matter': 8055, 'Male': 2783, 'Winning': 4325, 'Men': 2815, 'gifted': 6839, 'jog': 7520, 'hardly': 7039, 'phrase': 8839, '4a': 659, 'tight': 10480, 'satsgettin': 9545, 'tablet': 10284, 'randy': 9195, 'Guide': 2103, 'african': 4560, 'lie': 7784, 'PARTNERS': 3109, 'Network': 2963, 'SWAN': 3574, 'Time': 3999, '2mro': 523, 'ee': 6251, 'cover': 5753, 'PIC': 3124, 'cutie': 5826, 'WORDS': 4233, 'year': 11290, 'miserable': 8188, 'Celebrations': 1454, 'kits': 7630, 'await': 4869, 'Flag': 1919, 'kills': 7616, 'OFFICE': 3032, 'texted': 10381, 'Shb': 3651, 'demand': 5953, 'starring': 10050, 'Send': 3623, 'liaoToo': 7778, 'workLove': 11157, 'TODAY': 3889, 'Genius': 2043, 'Secret': 3617, 'Buzz': 1332, 'cuz': 5828, '10p': 311, 'pressies': 9026, 'irritation': 7430, 'Darren': 1623, 'showered': 9747, 'saidif': 9513, 'Spanish': 3745, 'splwat': 10002, 'theplace': 10416, 'shouted': 9740, 'NEWQUAYSEND': 2916, 'Serena': 3632, 'sisters': 9801, '2PX': 497, 'logging': 7863, 'treadmill': 10627, 'age16150ppermessSubscription': 4570, 'callingForgot': 5295, 'boyfriend': 5145, 'Hugs': 2283, 'JordanTxt': 2456, 'Anyone': 1069, 'sms': 9876, 'WEDLUNCH': 4205, 'jackson': 7478, '32323': 562, 'edukkukayee': 6248, 'rooms': 9464, 'FREERingtone': 1871, '3hrs': 595, 'require': 9358, 'Kkare': 2517, 'Beauty': 1235, 'goodno': 6900, '150ppm': 370, 'Jay': 2431, 'rumbling': 9489, 'goalsteam': 6870, 'stuffwhy': 10159, '69888Nyt': 753, 'eve': 6366, 'Actually': 1011, 'web2mobile': 10994, 'epi': 6335, '89545': 894, 'sure': 10237, 'borin': 5121, 'rentl': 9337, 'least': 7739, 'mustprovide': 8326, '80082': 808, 'Age': 1025, 'daysso': 5887, 'Abiola': 999, 'Wifehow': 4318, 'answers': 4693, 'todayFrom': 10525, 'receipt': 9249, '430': 623, 'Teresa': 3947, 'neededSalary': 8389, 'liver': 7841, 'misscall': 8192, 'understanding': 10727, 'orc': 8627, 'LOCAXX': 2572, '8Ball': 899, 'Read': 3384, 'widelivecomindex': 11071, 'eighth': 6267, 'TMobile': 3886, 'mytonecomenjoy': 8335, 'ear': 6218, 'Trying': 4043, 'butting': 5246, 'subs': 10171, 'Hlp': 2236, 'Delivery': 1648, 'replacement': 9345, 'cashin': 5366, 'virgils': 10876, '1680': 383, 'younger': 11328, 'in2': 7330, 'plum': 8902, 'hamster': 7010, 'walmart': 10939, 'getsleep': 6829, 'shitload': 9715, 'j': 7474, 'eventually': 6374, 'it\\x92s': 7463, 'vodka': 10893, 'Def': 1642, 'adding': 4523, 'independently': 7345, 'rush': 9497, 'bar': 4919, 'uve': 10811, 'efficient': 6256, 'ml': 8210, 'payback': 8771, '7Mahaveer': 792, 'musthu': 8325, 'L8TR': 2540, 'little': 7838, '08448350055': 67, 'opened': 8601, 'uscedu': 10792, 'restrict': 9392, 'offense': 8545, 'Leannewhat': 2616, 'pure': 9135, 'usps': 10802, 'Common': 1505, 'problem': 9064, '31pmsg150p': 559, 'passes': 8754, 'individualtime': 7350, 'ladies': 7675, 'Dino': 1669, 'vl': 10890, 'backdoor': 4895, 'mt': 8294, 'tell': 10354, 'avenue': 4863, 'looovvve': 7885, 'EXPLOSIVE': 1752, 'cons': 5673, 'sad': 9507, 'abt': 4474, 'lanka': 7696, 'next': 8420, 'relation': 9304, '09111030116': 288, 'Jsut': 2462, 'oso': 8643, 'Nowadays': 3019, 'Earth': 1756, 'forgot': 6666, 'Barry': 1227, 'feels': 6521, 'comuk220cm2': 5645, 'IDIOT': 2296, 'tone': 10552, 'flower': 6621, 'Hmmmbut': 2241, 'GMGNGEGN': 1990, 'fund': 6758, 'sections': 9610, 'gon': 6886, '150P': 354, 'colour': 5594, '£600': 11406, 'YEH': 4387, 'buen': 5215, 'considering': 5678, 'interested': 7394, 'crowd': 5788, 'river': 9440, 'SOMETHIN': 3514, 'meal': 8077, 'neekunna': 8394, 'ammaelife': 4648, 'wisdom': 11100, '290305': 475, 'bein': 4996, '700': 773, 'Garbage': 2033, 'busy': 5243, 'hug': 7235, 'lick': 7781, 'steam': 10077, 'rubber': 9482, 'seen': 9621, 'taste': 10317, 'wish': 11102, 'math': 8050, 'cartons': 5360, 'found': 6684, '3optical': 599, 'Bristol': 1313, 'atlanta': 4821, 'ni8swt': 8422, '4Lux': 652, 'Innocent': 2373, 'amongst': 4652, 'adventuring': 4545, 'roads': 9442, 'quiet': 9162, 'Fyi': 1964, 'yoville': 11339, 'lionp': 7823, 'NUMBER': 2942, 'seemed': 9619, 'coincidence': 5579, 'squid': 10025, 'Kdo': 2493, 'census': 5395, 'land': 7687, 'INFORMATION': 2320, '3mins': 598, 'Special': 3748, 'sunlight': 10213, 'died': 6020, 'newsHype': 8417, 'arnt': 4776, 'Q': 3304, 'Summer': 3812, 'tot': 10588, 'yet': 11300, 'SHOP': 3484, 'msgrcvd18': 8285, 'retired': 9402, 'tune': 10670, 'comin': 5609, 'ettans': 6362, 'devouring': 5995, 'edhae': 6243, 'smartThough': 9857, 'misss': 8198, '89070': 890, 'Rayman': 3381, 'nalla': 8346, 'oblivious': 8531, 'Behind': 1244, 'MINS': 2724, 'Kall': 2485, 'painting': 8705, 'WA14': 4193, 'Woods': 4342, 'M227XY': 2685, 'description': 5974, '021': 15, 'bills': 5040, 'aphex\\x92s': 4718, 'POBOX11414TCRW1': 3139, 'Hurts': 2289, 'BOX42WR29C': 1185, 'postcode': 8964, 'worc': 11149, '2u': 536, 'entrepreneurs': 6329, 'fish': 6585, 'isLOVE': 7433, 'throat': 10460, 'intention': 7391, 'Nature': 2957, '07090298926': 24, 'gave': 6799, 'BUTTHERES': 1206, 'jane': 7487, 'version': 10848, 'enemies': 6305, 'Spoons': 3757, 'w': 10910, 'supply': 10228, 'symbol': 10276, 'Mountains': 2881, 'spoil': 10003, 'agent': 4573, '4Press': 655, 'trusting': 10653, 'win': 11084, 'hire': 7132, '£75000': 11409, 'beautifulMay': 4966, 'diamonds': 6007, 'claire': 5522, 'professional': 9079, 'ADAM': 941, 'interviews': 7401, 'hoo': 7171, '09099726429': 285, 'resolved': 9375, 'wamma': 10941, 'Space': 3743, 'SUM': 3564, 'MESSED': 2716, 'enter': 6320, 'gals': 6780, '08714719523': 131, 'FIELDOF': 1842, 'Subscription': 3805, 'reslove': 9373, 'Google': 2076, 'late': 7709, 'weeddeficient': 11005, 'SirSalam': 3692, 'DA': 1561, '09061749602': 228, 'fishrman': 6587, 'wake': 10925, 'shows': 9751, 'finishes': 6573, 'Food': 1927, '7shy': 801, 'Wrong': 4354, 'retard': 9401, 'tears': 10341, 'hershe': 7106, 'longer': 7877, 'warner': 10954, 'treasure': 10628, 'Kicchu': 2504, 'teaches': 10335, 'looking': 7883, 'round': 9468, 'spile': 9993, 'FUCKIN': 1885, 'bleak': 5070, 'Sherawat': 3653, 'yourinclusive': 11330, 'services': 9662, 'taxt': 10326, '…Thanks': 11424, 'Nothin': 3013, 'choices': 5500, 'gota': 6907, 'heartsnot': 7074, 'cheque': 5458, 'wwwSMSacunatalie2k9': 11223, 'multimedia': 8306, 'cook': 5705, 'tootsie': 10573, 'transcribing': 10612, 'killing': 7615, 'Lion': 2634, 'U2MORO': 4069, 'hi': 7116, 'lines': 7814, 'sleepy': 9834, 'ahsen': 4586, 'north': 8470, '8883': 885, 'Sugababes': 3807, 'pm': 8908, 'Incredible': 2361, 'sms08718727870': 9877, 'maaaan': 7967, 'perspective': 8818, 'weirdo': 11019, 'island': 7438, 'none': 8461, 'cricket': 5780, 'srt': 10028, 'brothers': 5194, 'abuse': 4476, 'That‘s': 3965, 'tongued': 10556, 'colours': 5597, 'spelling': 9987, 'VILLA': 4152, 'Don‘t': 1697, 'thruRespect': 10467, 'direct': 6049, 'shouldn‘t': 9739, 'Weekly': 4289, 'today': 10524, 'gv': 6986, 'buyers': 5250, 'identification': 7293, 'changed': 5413, 'diet': 6022, 'bw': 5254, 'around': 4777, 'mus': 8319, 'pimples': 8859, 'Matrix3': 2801, 'addie': 4522, 'kothi': 7658, 'unemployed': 10732, 'Loooooool': 2657, 'selfish': 9631, 'disturbing': 6079, 'exhaust': 6411, 'although': 4639, 'mummys': 8312, 'Busy': 1330, 'cardiff': 5333, 'magazine': 7985, 'ryans': 9500, 'early': 6222, 'ago': 4578, 'brother‘s': 5195, 'works': 11162, 'twins': 10684, 'sorydarealyfrm': 9949, 'blackand': 5060, 'fo': 6633, 'piece': 8852, 'relocate': 9313, 'Buy': 1331, 'sumfing': 10205, 'guessing': 6976, 'street': 10124, '08709222922': 98, 'actin': 4509, 'M221BP': 2684, 'HELL': 2126, 'yummy': 11344, '08712300220': 105, 'Bennys': 1247, 'blokes': 5083, 'fly': 6627, 'Fingers': 1915, 'ree': 9279, 'sorta': 9944, 'samus': 9527, 'logos': 7868, 'CameraVideo': 1431, 'BABEPROBPOP': 1125, 'HUNNYHOPE': 2166, 'CUST': 1410, 'dogs': 6107, 'rate': 9199, 'himso': 7127, 'LUSH': 2596, 'mindsetbelieve': 8167, 'hwkeep': 7270, 'huh': 7239, '2When': 506, 'princes': 9046, 'outbid': 8653, 'increments': 7342, 'grand': 6925, 'Prasanth': 3268, 'MARRIED': 2700, 'tddnewsletteremc1couk': 10331, 'wondarfull': 11140, 'ams': 4657, 'buff': 5216, 'scammers': 9563, 'lib': 7779, 'Pathaya': 3193, 'peace': 8780, 'Heroi': 2220, '74355': 781, 'Though': 3986, '4got': 666, 'cheek': 5449, 'Another': 1068, 'inclusive': 7337, 'mack': 7973, 'HELLOYou': 2129, 'canceled': 5312, '500': 686, 'Mmmmm': 2845, 'welp': 11027, 'girlfrnd': 6845, 'PetrolRs': 3211, 'caveboy': 5383, 'Derp': 1652, 'ring': 9427, 'deposit': 5965, 'Boooo': 1287, 'Seventeen': 3637, 'affectionate': 4554, 'UpgrdCentre': 4130, 'watll': 10975, 'Response': 3417, 'Ola': 3071, '330': 565, 'Tim': 3998, 'Hopefully': 2267, 'Hmmmkbut': 2243, 'arestaurant': 4759, 'uncountable': 10723, 'ertini': 6343, 'Ho': 2248, 'Brief': 1309, 'closedincluding': 5549, 'lido': 7783, 'Lots': 2659, 'website': 10996, 'issues': 7445, 'pubcafe': 9118, 'thrown': 10464, 'degrees': 5938, 'Birthday': 1259, 'facebook': 6448, 'mint': 8179, 'Park': 3188, 'pissed': 8866, 'donno': 6122, '07786200117': 34, 'flyim': 6628, 'shaking': 9686, 'ANS': 967, 'andre': 4666, 'kaitlyn': 7566, 'constant': 5681, 'realising': 9229, 'G2': 1966, 'SiPix': 3676, 'money': 8241, 'miss': 8191, 'Argh': 1085, 'cage': 5265, 'hme': 7142, 'Okie': 3067, 'resolution': 9374, 'oni': 8590, 'Plus': 3239, 'INSTEAD': 2323, '7684': 785, 'raglan': 9177, 'warming': 10952, 'dudette': 6198, 'activate': 4513, 'SMILEY': 3505, 'Sounds': 3740, '85069': 856, 'hubbys': 7233, 'Al': 1040, 'grief': 6948, 'love': 7913, 'PLUS': 3135, '120': 327, 'crab': 5759, 'cc100pmin': 5385, 'prayers': 9000, 'Cost£150pm': 1527, 'MORAL': 2748, 'Woodland': 4341, 'ST': 3541, '88800': 884, 'sorrow': 9939, 'eerulli': 6253, 'cbe': 5384, 'Valentine': 4159, 'january': 7488, 'Surly': 3824, 'sending': 9642, 'lateso': 7715, 'INDYAROCKSCOM': 2318, 'UNI': 4080, 'PERSON': 3118, 'answer': 4689, 'PLEASSSSSSSEEEEEE': 3133, '150pmsg': 368, 'yun': 11345, 'chikkuk': 5480, 'free': 6699, 'DEFO': 1579, 'send': 9641, 'SENDS': 3470, 'secret': 9604, 'ANTELOPE': 969, 'notice': 8482, 'charged': 5423, 'training': 10606, 'kiosk': 7624, 'Jenny': 2435, 'jabo': 7475, 'somerset': 9913, 'Amy': 1066, 'necessarily': 8380, 'dare': 5858, 'flim': 6610, 'GRAVEL': 2018, 'Summers': 3813, 'easy': 6233, '8': 803, 'survey': 10247, '08717507382': 145, 'consensus': 5674, 'keeps': 7590, 'ac': 4478, 'factory': 6451, 'ShopWe': 3667, 'Friendship': 1953, 'activ8': 4512, 'nus': 8513, 'Yellow': 4421, 'hunting': 7255, 'muchi': 8301, 'ASAP': 978, 'itcould': 7450, 'loo': 7879, 'DREAMZ': 1608, 'though': 10450, 'fat': 6493, 'unconscious': 10720, 'againloving': 4566, 'skint': 9818, 'Dating': 1628, 'timing': 10496, 'mary': 8038, 'hiphop': 7131, 'Bad': 1216, '9am': 925, 'affair': 4551, 'aunts': 4846, 'thread': 10455, 'hardcore': 7037, 'freedom': 6700, 'EY': 1754, '08708034412': 96, 'HAPPY': 2111, 'LS278BB': 2591, 'Wewa': 4301, 'feng': 6528, 'specify': 9979, 'M95': 2690, 'percent': 8797, 'admiti': 4535, 'Foned': 1926, 'g696ga': 6770, 'SEND': 3469, 'shipping': 9710, 'ENG': 1727, 'dogwood': 6108, 'margin': 8028, 'tolerance': 10541, 'popping': 8944, 'regarding': 9294, '5226': 693, 'DeliveredTomorrow': 1647, 'suntec': 10218, 'dificult': 6032, 'chennai': 5455, '85233': 858, 'aust': 4849, 'HelloHow': 2210, 'Movie': 2882, '88039SkilGmeTsCs087147403231WinawkAge16£150perWKsub': 878, 'ponnungale': 8933, 'Dictionary': 1662, '08718725756': 154, 'XxX': 4379, 'chuck': 5511, 'M39M51': 2688, 'readiness': 9222, 'drama': 6146, 'piss': 8865, 'Adult': 1015, 'twenty': 10682, 'wee': 11003, 'smoked': 9871, '5': 684, 'Callertune': 1422, 'tmw': 10518, 'Hello': 2209, 'kalainar': 7568, 'DearMe': 1636, 'Nver': 3025, 'Darling': 1622, 'Yahoo': 4409, 'Fighting': 1907, 'Purpleu': 3300, 'nightnobody': 8431, 'doin': 6109, 'FreeMsg': 1943, 'Arcade': 1083, '5K': 706, 'Mother': 2877, 'gowait': 6915, 'Meds': 2810, 'eveB': 6367, 'lovin': 7922, 'Wicklow': 4315, 'less': 7765, 'hum': 7241, 'Wherres': 4313, 'elsewhere': 6283, 'passed': 8753, 'MARSMS': 2701, 'acknowledgement': 4504, 'nevr': 8412, 'bucks': 5211, 'sory': 9948, 'planned': 8880, 'Holding': 2255, 'types': 10696, 'tshirt': 10659, 'pudunga': 9122, 'song': 9927, 'Echo': 1762, 'SLO4msgs': 3504, '09064019014': 243, '09061743811': 226, 'appointments': 4736, 'atyour': 4838, 'beauties': 4964, '09064017305': 241, 'Eerie': 1767, 'I\\x92ve': 2399, '44': 625, 'installation': 7383, '730': 777, '300p': 549, 'jokethet': 7532, 'gastroenteritis': 6795, 'HOWDY': 2156, 'rule': 9487, 'reasons': 9240, 'IMIN': 2311, 'pink': 8862, 'dartboard': 5868, 'Strokes': 3792, 'various': 10832, '08715205273': 139, 'gloucesterroad': 6863, 'threats': 10456, 'badass': 4897, '£900': 11412, 'learn': 7737, 'Sex': 3638, 'build': 5219, 'AcoEntry41': 1008, 'galcan': 6777, 'Rock': 3428, 'Vikky': 4176, 'pattern': 8765, '07753741225': 32, '09063442151': 233, 'appear': 4726, 'vodafone': 10892, 'AUCTION': 983, 'King': 2511, 'LAST': 2547, 'belligerent': 5001, 'Orh': 3097, '3DB': 578, 'nigro': 8437, 'ho': 7145, 'attach': 4825, '2309': 447, 'ors': 8638, 'moviewat': 8275, 'Yet': 4436, 'massagetiepos': 8042, 'obedient': 8526, 'bud': 5212, 'Gaze': 2036, 'scarcasim': 9564, 'muht': 8305, 'faithEvening': 6461, 'measure': 8085, 'doc': 6091, 'Yaxx': 4413, 'cruise': 5790, 'luvs': 7955, 'duo': 6207, 'regretted': 9300, 'main': 7997, 'helen': 7083, 'pic': 8842, 'STUPID': 3560, 'wwwgambtv': 11234, 'Shah': 3643, 'dismay': 6072, 'Italian': 2387, '09066350750': 254, 'nursery': 8511, 'unless': 10749, 'pract': 8988, 'church': 5513, '3750': 574, 'finishing': 6574, 'Tues': 4052, 'foregate': 6656, 'yuo': 11346, 'bedreal': 4975, '£6': 11405, 'slurp': 9852, 'naal': 8339, 'business': 5241, 'Okok': 3069, 'valuable': 10825, 'server': 9660, 'parade': 8722, 'todayGood': 10526, 'Sister': 3694, 'Brb': 1305, 'Bits': 1263, 'Oops': 3085, 'apps': 4745, 'Tiwary': 4004, 'Kidz': 2507, 'ELLO': 1724, 'educational': 6247, 'dollar': 6116, 'pride': 9041, 'Ssindia': 3767, 'calicut': 5272, 'replies': 9348, 'tix': 10509, 'bc': 4951, 'Terms': 3948, 'zeros': 11351, 'Bcm': 1230, 'dimension': 6038, 'setting': 9665, 'Alaipayuthe': 1042, 'kanowhr': 7578, 'ugos': 10703, 'Wake': 4261, 'success': 10181, '2MOROW': 491, 'Cup': 1551, 'surname': 10242, 'liao': 7776, 'STOP': 3549, 'Never': 2966, 'wwworangecoukow': 11240, 'BRAND': 1190, 'fujitsu': 6749, 'rushing': 9498, 'claim': 5519, 'trishul': 10641, 'Talk': 3926, 'msgs150p': 8287, 'scary': 9566, 'chikkuali': 5477, 'argue': 4763, 'wenever': 11029, 'loads': 7850, 'water': 10972, 'june': 7553, 'pa': 8688, 'Cheers': 1470, 'wk': 11119, 'forgiveness': 6665, 'laying': 7729, 'lying': 7960, 'stamps': 10042, 'base': 4929, 'lies': 7785, '09066368327': 264, '81303': 823, 'Speak': 3746, 'Cancer': 1435, 'cough': 5736, 'Coz': 1531, '241': 450, 'JANINExx': 2408, '087143423992stop': 124, '09066649731from': 270, 'oga': 8563, 'chez': 5465, 'daywith': 5891, 'goodfine': 6895, 'paru': 8748, 'Hint': 2230, 'gynae': 6990, 'NumberRespectful': 3022, 'sheets': 9699, 'offered': 8547, 'faggy': 6454, 'rinu': 9433, 'Ofcourse': 3056, 'window': 11087, 'fetch': 6530, 'i’m': 7473, 'saying': 9558, '09061702893': 222, 'could': 5738, 'BEAUTIFUL': 1150, 'groovy': 6954, 'MEET': 2708, 'yetunde': 11302, 'thinl': 10439, 'Help08714742804': 2215, 'forgive': 6663, 'hockey': 7146, 'Friday': 1951, 'kids': 7612, 'Splat': 3754, 'signal': 9771, 'isn‘t': 7442, 'Fifty': 1906, 'NUMBERSO': 2943, 'supposed': 10234, '24Hrs': 453, 'Mmmmmmm': 2847, 'Pharmacy': 3214, 'Geelater': 2042, 'loses': 7893, 'styling': 10164, 'tea': 10332, 'wallpaperall': 10937, 'AG': 947, 'Lara': 2605, 'caroline': 5354, 'fineInshah': 6566, 'mins': 8175, 'back': 4893, 'rimac': 9426, 'reading': 9223, 'BOYF': 1188, 'WILD': 4219, 'Verify': 4169, 'BOX95QU': 1186, 'mate': 8048, '29M': 477, 'collect': 5586, 'smashed': 9860, 'Haf': 2171, 'HUN': 2163, 'kgood': 7603, 'mc': 8069, 'path': 8762, 'customers': 5821, 'carewhoever': 5348, 'wwwLdewcom': 11215, 'EXACT': 1746, 'uni': 10739, 'participate': 8740, 'Ta': 3919, 'tonight': 10557, 'asap': 4792, 'Twittering': 4060, 'park': 8734, 'caps': 5328, 'CALM': 1344, 'passThey': 8751, 'Meanwhile': 2808, 'greetings': 6947, 'alive': 4615, 'endless': 6301, 'whispers': 11060, '215': 440, 'youll': 11324, 'fassyole': 6488, 'different': 6029, 'Randy': 3375, 'HGSuite3422LandsRowW1J6HL': 2133, 'Sat': 3599, 'ads': 4539, 'X49': 4362, 'Ref9307622': 3397, 'messageit': 8136, 'notixiquating': 8485, 'dawhats': 5878, 'requires': 9361, 'lane': 7693, 'LEKDOG': 2554, 'browse': 5199, 'LdnW15H': 2614, 'Feels': 1903, 'apparently': 4724, 'Itz': 2391, 'Text82228': 3954, 'Noooooooo': 3008, 'idiot': 7294, 'Maybe': 2806, 'ben': 5008, 'avoid': 4866, 'membership': 8110, 'wlcome': 11126, 'Neshanthtel': 2961, 'rechargeRakhesh': 9261, 'equally': 6337, 'Cheer': 1469, '08714712388': 127, 'forgiven': 6664, 'seeing': 9615, 'semiobscure': 9639, 'Might': 2824, 'told': 10539, 'register': 9296, 'high': 7121, 'monos': 8246, 'sd': 9592, 'ifwhenhow': 7299, 'woozles': 11148, 'videopic': 10861, 'sachin': 9502, '8800': 876, 'weaknesses': 10985, 'perhaps': 8805, 'Kthen': 2533, 'pound': 8973, 'dealFarm': 5896, 'stubborn': 10143, 'inch': 7332, '5Terror': 708, 'motor': 8265, 'leave': 7742, 'entered': 6321, 'sit': 9802, 'abi': 4465, 'praps': 8997, 'BABESOZI': 1127, '87239': 874, 'kicks': 7609, 'wisheds': 11103, 'spending': 9989, 'Brdget': 1306, 'removed': 9329, 'DREAMS': 1607, 'tattoos': 10319, 'Cozsomtimes': 1532, 'vai': 10820, 'HouseMaid': 2276, 'Quote': 3320, '27603': 468, 'scouse': 9579, 'Howz': 2280, 'shrek': 9752, 'gayD': 6801, 'Saeed': 3583, 'heavily': 7078, 'Islands': 2385, 'tap': 10313, 'sh': 9678, 'bright': 5174, 'else': 6282, 'Phoenix': 3216, 'LOL': 2574, 'hat': 7044, 'Filling': 1908, 'IFINK': 2298, 'textoperator': 10384, 'dreamstake': 6158, 'SNAP': 3509, '11414': 319, 'department': 5962, 'CARE': 1350, '2MORO': 490, '09061221061': 216, 'singing': 9791, 'Tones': 4020, 'poured': 8976, 'nowi': 8496, 'sarasota': 9534, 'death': 5911, 'Noble': 2992, 'sooner': 9932, 'Symbol': 3831, 'oblisingately': 8530, 'impressed': 7325, 'bffs': 5025, 'bros': 5190, 'un': 10712, 'Thx': 3992, 'fixes': 6595, 'you\\x92re': 11337, 'K': 2468, 'whats': 11047, 'suddenly': 10188, 'hearted': 7071, 'leo': 7761, '09066368470': 265, 'cstore': 5796, 'treats': 10632, 'scotland': 9578, 'uphad': 10766, 'messageno': 8137, 'close': 5546, 'prices': 9039, 'dates': 5872, 'bomb': 5104, 'dieting': 6023, 'gdthe': 6809, 'um': 10710, 'IBHltd': 2293, 'REWARD': 3348, 'luck': 7942, 'Somewhr': 3730, 'alternativehope': 4638, 'rough': 9467, 'Moment': 2862, 'wmlid1b6a5ecef91ff937819firsttrue180430JUL05': 11128, 'bras': 5155, 'lo': 7848, 'priority': 9052, 'mess': 8132, '450Ppw': 636, 'pc': 8778, '0800': 50, 'QatarRakhesh': 3308, 'famamus': 6472, '3030': 550, '08707509020': 93, 'fancied': 6478, 'poly': 8924, 'mini': 8172, 'CHANCE': 1364, '69669': 746, 'involve': 7415, 'puts': 9142, 'aids': 4590, 'trip': 10639, 'wheres': 11055, 'dhorte': 6001, 'URE': 4088, 'days': 5885, 'shirt': 9711, 'wun': 11208, 'bored': 5120, 'Jeremiah': 2437, 'availablethey': 4857, 'virgins': 10878, 'wherebtw': 11054, 'LOOK': 2577, 'cannot': 5318, 'auctionpunj': 4840, 'champlaxigating': 5408, 'Natural': 2956, 'someonethat': 9911, 'settled': 9668, 'meant': 8084, 'shit': 9713, 'sum': 10203, 'missing': 8195, '08002988890': 60, 'SCARY': 3459, 'CHA': 1363, 'goodnite': 6899, '230ish': 448, 'excellent': 6399, 'Police': 3252, 'aight': 4591, '528': 696, 'PHONE': 3122, 'Hasnt': 2192, 'bin': 5044, 'unhappiness': 10737, 'SOONLOTS': 3520, 'Nigeria': 2979, 'blanked': 5066, 'NITE': 2923, 'Keep': 2494, 'youany': 11316, 'paying': 8773, 'Superb': 3820, 'Intimate': 2378, 'GOSSx': 2011, '1205': 329, 'sight': 9769, 'Macedonia': 2772, 'officethenampet': 8553, 'conference': 5658, 'firefox': 6579, 'hail': 7000, 'plural': 8905, 'miracle': 8184, 'qatar': 9148, 'hunonbus': 7253, 'TnCs': 4009, 'associate': 4811, 'Murdered': 2894, 'filthy': 6555, 'SAUSAGELOVE': 3456, 'MUNSTERS': 2766, 'Promo': 3288, 'clover': 5556, 'Traffic': 4030, 'wicket': 11069, 'WEN': 4209, 'musical': 8323, 'GENDER': 1978, 'delay': 5943, 'reserves': 9369, 'dled': 6085, 'SUE': 3563, 'wasting': 10964, 'il': 7304, 'priscillas': 9053, 'toot': 10571, 'Great': 2088, '18': 387, 'probably': 9063, 'Ull': 4107, 'StewartSize': 3781, 'Twiggs': 4058, '128': 335, 'Grl': 2091, '08712317606': 107, 'vital': 10886, 'signing': 9775, 'Uptown': 4132, 'LS15HB': 2590, 'DENA': 1581, 'dryer': 6189, 'frying': 6741, '62468': 734, 'lesser': 7766, '60P': 728, 'ahgee': 4583, 'SF': 3477, 'Cheap': 1466, '2StopTx': 499, 'drinking': 6165, 'atten': 4829, '150ppmPOBox10183BhamB64XE': 371, 'gift': 6838, 'ive': 7466, 'Always': 1057, 'reaching': 9217, 'Die': 1664, '4041': 610, 'interfued': 7396, 'Vote': 4183, 'wrk': 11191, 'Back': 1215, 'pig': 8855, '12': 326, 'coffee': 5575, 'YES910': 4393, 'small': 9854, 'gaytextbuddycom': 6804, 'improve': 7328, 'pretty': 9032, 'Download': 1703, 'racing': 9172, 'bird': 5046, '150pm': 365, 'smiles': 9868, 'spacebucks': 9962, 'looked': 7881, 'search': 9596, 'miiiiiiissssssssss': 8155, '£3365': 11390, 'king': 7622, 'sway': 10257, 'novelty': 8488, 'sparkling': 9969, '£50£500': 11402, 'LUCY': 2594, 'followed': 6637, 'Lessons': 2621, 'Muz': 2898, 'httpwwwurawinnercom': 7229, 'Ge': 2038, 'Insha': 2374, 'bloke': 5082, 'stash': 10061, 'Guai': 2094, 'SmartCall': 3712, 'msn': 8293, 'playi': 8889, 'enketa': 6317, 'coast': 5566, 'AROUND': 976, 'havnt': 7054, 'champ': 5407, 'Yo': 4438, '121': 330, 'incomm': 7338, 'Wan2': 4264, 'theater': 10409, 'WOMAN': 4230, 'Mum': 2891, 'st': 10030, '09094100151': 278, '077xxx': 35, 'consistently': 5679, '008704050406': 1, 'mitsake': 8206, '311004': 558, 'copy': 5716, 'Whats': 4304, 'burden': 5228, '050703': 16, 'gain': 6774, 'Peaceful': 3197, 'finding': 6563, 'Meat': 2809, 'reapply': 9236, 'citylink': 5518, 'frwd': 6740, 'FIFTEEN': 1844, 'dangerous': 5855, 'BIRTHDAY': 1164, 'loving': 7923, 'RowW1j6HL': 3438, '9th': 932, 'Dis': 1674, 'bold': 5101, 'No81151': 2989, 'domain': 6118, 'young': 11327, 'exwife': 6438, 'DRINK': 1609, 'teach': 10333, 'goggles': 6878, 'Ltd£150Mtmsgrcvd18': 2673, 'laptop': 7700, 'robinson': 9446, 'inde': 7343, 'mom': 8232, 'PIN': 3128, 'exam': 6397, 'ans': 4687, 'want': 10945, '69200': 745, '150ppermessSubscription': 369, 'i\\x92d': 7469, 'flippin': 6612, 'ONTO': 3044, 'activities': 4514, '100': 294, '1225': 331, 'Bx': 1334, 'werent': 11033, 'JANE': 2407, 'since': 9788, 'Texting': 3956, '8552': 859, 'gud': 6971, '0808': 62, 'Touch': 4025, 'Yar': 4411, 'FIGHTS': 1845, 'jules': 7548, 'shut': 9759, '946': 917, 'VCo': 4149, 'nevamindWe': 8409, 'luks': 7946, 'LONGER': 2576, 'BCMSFWC1N3XX': 1148, 'denis': 5956, 'west': 11036, 'Except': 1820, 'tke': 10511, 'jumpers': 7552, 'conversations': 5697, 'bend': 5009, 'beatings': 4963, '08718727870': 162, 'Watching': 4277, 'RECD': 3336, 'SkillGame1Winaweek': 3700, 'run': 9492, 'Win': 4320, 'STUDENT': 3557, 'cr': 5758, 'source': 9956, 'wind': 11086, 'Total': 4024, 'EVE': 1738, 'SN': 3508, 'juz': 7560, 'rich': 9418, 'Funny': 1960, 'groovying': 6955, 'polyphonic': 8928, 'print': 9048, 'gong': 6889, 'configure': 5660, 'cocksuckers': 5572, 'haircut': 7002, 'propsd': 9105, 'sunroof': 10216, '151': 377, 'DABOOKS': 1562, 'em': 6284, 'troubleshooting': 10645, 'Indeed': 2362, 'prince': 9044, 'detailsi': 5988, 'problems': 9069, 'brilliant': 5176, 'FreeMSG': 1942, 'accidentally': 4489, 'six': 9811, 'Truth': 4039, 'remains': 9317, 'painful': 8701, 'tallahassee': 10307, 'port': 8947, 'putting': 9144, '08718720201': 152, 'shouting': 9741, 'kalstiyathen': 7571, 'forced': 6655, 'reservations': 9366, '391784': 575, 'feeling': 6519, 'revealed': 9409, 'nowcan': 8495, 'th': 10388, 'yorge': 11313, 'pap': 8715, 'supplies': 10227, 'dear': 5902, '97N7QP': 920, 'LUCYxx': 2595, '84025': 847, 'timin': 10495, 'enuff': 6332, 'tonite': 10559, 'Find': 1913, 'Compass': 1508, 'LOU': 2584, 'MRur': 2756, 'HELLO': 2127, 'SURPRISE': 3570, 'pass': 8750, '5years': 723, 'HCL': 2124, 'Hm': 2237, 'jiu': 7514, 'wet': 11040, 'Hack': 2170, 'FLAG': 1855, 'failing': 6457, 'Force': 1930, 'sense': 9645, 'Goin': 2065, 'Nickey': 2978, 'Aiyar': 1036, 'GIV': 1987, 'wildlife': 11081, 'stick': 10090, 'rael': 9176, 'fuckin': 6745, 'oscar': 8642, 'sOOn': 9501, 'probs': 9071, 'albumquite': 4603, 'wt': 11199, 'LATE': 2548, 'soft': 9898, 'given': 6851, '£1000': 11363, 'Wishing': 4330, 'cudnt': 5803, 'FRIENDS': 1876, 'greatbhaji': 6938, 'dresser': 6162, '10ppm': 313, 'busetop': 5240, 'thuglyfe': 10471, 'sharing': 9694, 'compare': 5622, 'R': 3321, 'poor': 8938, 'acid': 4503, 'r': 9171, 'completely': 5632, '0776xxxxxxx': 33, 'Shall': 3647, 'definitly': 5936, 'tallent': 10308, 'POWER': 3160, '7WS': 794, 'Snd': 3719, 'TEXTS': 3864, 'Inever': 2369}\n"
     ]
    }
   ],
   "source": [
    "print (len(bow_transformer.vocabulary_))\n",
    "print (bow_transformer.vocabulary_)"
   ]
  },
  {
   "cell_type": "markdown",
   "metadata": {},
   "source": [
    "Let's take one text message and get its bag-of-words counts as a vector, putting to use our new bow_transformer:"
   ]
  },
  {
   "cell_type": "code",
   "execution_count": 62,
   "metadata": {
    "collapsed": false
   },
   "outputs": [
    {
     "name": "stdout",
     "output_type": "stream",
     "text": [
      "U dun say so early hor... U c already then say...\n"
     ]
    }
   ],
   "source": [
    "message4 = messages[\"message\"][3]\n",
    "\n",
    "print (message4)"
   ]
  },
  {
   "cell_type": "code",
   "execution_count": 63,
   "metadata": {
    "collapsed": false
   },
   "outputs": [
    {
     "name": "stdout",
     "output_type": "stream",
     "text": [
      "  (0, 4068)\t2\n",
      "  (0, 4629)\t1\n",
      "  (0, 5261)\t1\n",
      "  (0, 6204)\t1\n",
      "  (0, 6222)\t1\n",
      "  (0, 7186)\t1\n",
      "  (0, 9554)\t2\n",
      "(1, 11425)\n"
     ]
    }
   ],
   "source": [
    "bow4 = bow_transformer.transform([message4])\n",
    "\n",
    "print (bow4)\n",
    "print (bow4.shape)\n"
   ]
  },
  {
   "cell_type": "markdown",
   "metadata": {},
   "source": [
    "This means that there are seven unique words in message number 4 (after removing common stop words). Two of them appear twice, the rest only once. \n",
    "\n",
    "Let's go ahead and check and confirm which ones appear twice:"
   ]
  },
  {
   "cell_type": "code",
   "execution_count": 65,
   "metadata": {
    "collapsed": false
   },
   "outputs": [
    {
     "name": "stdout",
     "output_type": "stream",
     "text": [
      "U\n",
      "say\n"
     ]
    }
   ],
   "source": [
    "print (bow_transformer.get_feature_names()[4068])\n",
    "print (bow_transformer.get_feature_names()[9554])"
   ]
  },
  {
   "cell_type": "markdown",
   "metadata": {},
   "source": [
    "Now we can use .transform on our Bag-of-Words (bow) transformed object and transform the entire DataFrame of messages. \n",
    "\n",
    "Let's go ahead and check out how the bag-of-words counts for the entire SMS corpus is a large, sparse matrix:"
   ]
  },
  {
   "cell_type": "code",
   "execution_count": 66,
   "metadata": {
    "collapsed": true
   },
   "outputs": [],
   "source": [
    "messages_bow = bow_transformer.transform(messages[\"message\"])\n"
   ]
  },
  {
   "cell_type": "code",
   "execution_count": 67,
   "metadata": {
    "collapsed": false
   },
   "outputs": [
    {
     "data": {
      "text/plain": [
       "(5572, 11425)"
      ]
     },
     "execution_count": 67,
     "metadata": {},
     "output_type": "execute_result"
    }
   ],
   "source": [
    "messages_bow.shape"
   ]
  },
  {
   "cell_type": "code",
   "execution_count": 72,
   "metadata": {
    "collapsed": false
   },
   "outputs": [
    {
     "name": "stdout",
     "output_type": "stream",
     "text": [
      "Shape of Spare Matrix: (5572, 11425)\n",
      "Amount of Non-Zero occurances: 50548\n",
      "Sparsity: 0.08%\n"
     ]
    }
   ],
   "source": [
    "\n",
    "print (\"Shape of Spare Matrix:\", messages_bow.shape)\n",
    "print (\"Amount of Non-Zero occurances:\", messages_bow.nnz)\n",
    "print (\"Sparsity: %.2f%%\" % (100.0 * messages_bow.nnz / (messages_bow.shape[0] * messages_bow.shape[1])))"
   ]
  },
  {
   "cell_type": "markdown",
   "metadata": {},
   "source": [
    "After the counting, the term weighting and normalization can be done with TF-IDF, using scikit-learn's TfidfTransformer."
   ]
  },
  {
   "cell_type": "markdown",
   "metadata": {},
   "source": [
    "## So what is TF-IDF?\n",
    "TF-IDF stands for term frequency-inverse document frequency, and the tf-idf weight is a weight often used in information retrieval and text mining. This weight is a statistical measure used to evaluate how important a word is to a document in a collection or corpus. The importance increases proportionally to the number of times a word appears in the document but is offset by the frequency of the word in the corpus. Variations of the tf-idf weighting scheme are often used by search engines as a central tool in scoring and ranking a document's relevance given a user query.\n",
    "\n",
    "One of the simplest ranking functions is computed by summing the tf-idf for each query term; many more sophisticated ranking functions are variants of this simple model.\n",
    "\n",
    "Typically, the tf-idf weight is composed by two terms: the first computes the normalized Term Frequency (TF), aka. the number of times a word appears in a document, divided by the total number of words in that document; the second term is the Inverse Document Frequency (IDF), computed as the logarithm of the number of the documents in the corpus divided by the number of documents where the specific term appears."
   ]
  },
  {
   "cell_type": "markdown",
   "metadata": {},
   "source": [
    "### TF: Term Frequency, which measures how frequently a term occurs in a document. Since every document is different in length, it is possible that a term would appear much more times in long documents than shorter ones. Thus, the term frequency is often divided by the document length (aka. the total number of terms in the document) as a way of normalization:\n",
    "\n",
    "TF(t) = (Number of times term t appears in a document) / (Total number of terms in the document).\n",
    "\n",
    "IDF: Inverse Document Frequency, which measures how important a term is. While computing TF, all terms are considered equally important. However it is known that certain terms, such as \"is\", \"of\", and \"that\", may appear a lot of times but have little importance. Thus we need to weigh down the frequent terms while scale up the rare ones, by computing the following:\n",
    "\n",
    "IDF(t) = log_e(Total number of documents / Number of documents with term t in it).\n",
    "\n",
    "See below for a simple example."
   ]
  },
  {
   "cell_type": "markdown",
   "metadata": {},
   "source": [
    "### Example:\n",
    "\n",
    "Consider a document containing 100 words wherein the word cat appears 3 times.\n",
    "\n",
    "The term frequency (i.e., tf) for cat is then (3 / 100) = 0.03. Now, assume we have 10 million documents and the word cat appears in one thousand of these. Then, the inverse document frequency (i.e., idf) is calculated as log(10,000,000 / 1,000) = 4. Thus, the Tf-idf weight is the product of these quantities: 0.03 * 4 = 0.12."
   ]
  },
  {
   "cell_type": "code",
   "execution_count": 73,
   "metadata": {
    "collapsed": false
   },
   "outputs": [
    {
     "name": "stdout",
     "output_type": "stream",
     "text": [
      "TfidfTransformer(norm='l2', smooth_idf=True, sublinear_tf=False, use_idf=True)\n"
     ]
    }
   ],
   "source": [
    "from sklearn.feature_extraction.text import TfidfTransformer\n",
    "\n",
    "tfidf_transformer = TfidfTransformer().fit(messages_bow)\n",
    "\n",
    "print (tfidf_transformer)"
   ]
  },
  {
   "cell_type": "code",
   "execution_count": 75,
   "metadata": {
    "collapsed": false
   },
   "outputs": [
    {
     "name": "stdout",
     "output_type": "stream",
     "text": [
      "  (0, 9554)\t0.538562626293\n",
      "  (0, 7186)\t0.438936565338\n",
      "  (0, 6222)\t0.318721689295\n",
      "  (0, 6204)\t0.299537997237\n",
      "  (0, 5261)\t0.297299574059\n",
      "  (0, 4629)\t0.266198019061\n",
      "  (0, 4068)\t0.408325899334\n"
     ]
    }
   ],
   "source": [
    "tfidf4 = tfidf_transformer.transform(bow4)\n",
    "# Transform a count matrix to a tf or tf-idf representation\n",
    "print (tfidf4)"
   ]
  },
  {
   "cell_type": "markdown",
   "metadata": {},
   "source": [
    "We'll go ahead and check what is the IDF (inverse document frequency) of the word \"u\"? Of word \"university\"?"
   ]
  },
  {
   "cell_type": "code",
   "execution_count": 77,
   "metadata": {
    "collapsed": false
   },
   "outputs": [
    {
     "name": "stdout",
     "output_type": "stream",
     "text": [
      "3.28005242674\n",
      "8.5270764989\n"
     ]
    }
   ],
   "source": [
    "#printing the tfidfTransformer(which fit using the CountVectorizer, which is fit by the Messages (dataset) - column \"message\")\n",
    "print (tfidf_transformer.idf_[bow_transformer.vocabulary_[\"u\"]])\n",
    "print (tfidf_transformer.idf_[bow_transformer.vocabulary_[\"university\"]])"
   ]
  },
  {
   "cell_type": "markdown",
   "metadata": {},
   "source": [
    "To transform the entire bag-of-words corpus into TF-IDF corpus at once:"
   ]
  },
  {
   "cell_type": "code",
   "execution_count": 79,
   "metadata": {
    "collapsed": false
   },
   "outputs": [
    {
     "name": "stdout",
     "output_type": "stream",
     "text": [
      "(5572, 11425)\n"
     ]
    }
   ],
   "source": [
    "messages_tfidf = tfidf_transformer.transform(messages_bow)\n",
    "\n",
    "print (messages_tfidf.shape)"
   ]
  },
  {
   "cell_type": "code",
   "execution_count": 82,
   "metadata": {
    "collapsed": false
   },
   "outputs": [
    {
     "name": "stdout",
     "output_type": "stream",
     "text": [
      "  (0, 11163)\t0.230266855924\n",
      "  (0, 10965)\t0.190734285451\n",
      "  (0, 8917)\t0.247046523768\n",
      "  (0, 8336)\t0.170468692922\n",
      "  (0, 7668)\t0.264033840655\n",
      "  (0, 7555)\t0.312538562607\n",
      "  (0, 6937)\t0.183469241361\n",
      "  (0, 6906)\t0.151584746647\n",
      "  (0, 6217)\t0.189155577328\n",
      "  (0, 5769)\t0.24984711893\n",
      "  (0, 5218)\t0.268705938625\n",
      "  (0, 5217)\t0.298351840882\n",
      "  (0, 4653)\t0.312538562607\n",
      "  (0, 2060)\t0.242039602564\n",
      "  (0, 1483)\t0.312538562607\n",
      "  (0, 1110)\t0.288286201631\n",
      "  (1, 11072)\t0.400615609824\n",
      "  (1, 10698)\t0.206363748132\n",
      "  (1, 8590)\t0.504340590131\n",
      "  (1, 7701)\t0.376740107081\n",
      "  (1, 3064)\t0.291199541124\n",
      "  (1, 2451)\t0.561988811929\n",
      "  (2, 11123)\t0.191043872205\n",
      "  (2, 11084)\t0.158981453472\n",
      "  (2, 10686)\t0.139955408208\n",
      "  :\t:\n",
      "  (5568, 6882)\t0.313674697762\n",
      "  (5568, 6691)\t0.477810764018\n",
      "  (5568, 6354)\t0.557572104865\n",
      "  (5568, 4880)\t0.385312208609\n",
      "  (5569, 10199)\t0.520467167164\n",
      "  (5569, 8252)\t0.432829970906\n",
      "  (5569, 3721)\t0.520467167164\n",
      "  (5569, 3228)\t0.520467167164\n",
      "  (5570, 11006)\t0.204345259945\n",
      "  (5570, 10787)\t0.228678434865\n",
      "  (5570, 9915)\t0.223802283762\n",
      "  (5570, 8420)\t0.226516757572\n",
      "  (5570, 7800)\t0.172438881848\n",
      "  (5570, 7394)\t0.307147523481\n",
      "  (5570, 7287)\t0.267866779355\n",
      "  (5570, 6984)\t0.264164044012\n",
      "  (5570, 6799)\t0.294185812624\n",
      "  (5570, 6699)\t0.200837653433\n",
      "  (5570, 6282)\t0.260770243908\n",
      "  (5570, 5251)\t0.302353515741\n",
      "  (5570, 5055)\t0.363572507445\n",
      "  (5570, 4508)\t0.347069257583\n",
      "  (5571, 10648)\t0.539218119882\n",
      "  (5571, 8348)\t0.485429154081\n",
      "  (5571, 3431)\t0.688187732787\n"
     ]
    }
   ],
   "source": [
    "print (messages_tfidf)"
   ]
  },
  {
   "cell_type": "markdown",
   "metadata": {},
   "source": [
    "There are many ways the data can be preprocessed and vectorized. These steps involve feature engineering and building a \"pipeline\". I encourage you to check out SciKit learn's documentation on dealing with text data as well as the expansive collection of availble papers and books on the general topic of NLP."
   ]
  },
  {
   "cell_type": "markdown",
   "metadata": {},
   "source": [
    "## Part 5: Training a model¶\n",
    "With messages represented as vectors, we can finally train our spam/ham classifier. Now we can actually use almost any sort of classification algorithms. For a variety of reasons, the Naive Bayes classifier algorithm is a good choice.\n",
    "\n",
    "We'll be using scikit-learn here, choosing the Naive Bayes classifier to start with: "
   ]
  },
  {
   "cell_type": "markdown",
   "metadata": {},
   "source": [
    "With messages represented as vectors, we can finally train our spam/ham classifier. Now we can actually use almost any sort of classification algorithms. For a variety of reasons, the Naive Bayes classifier algorithm is a good choice.\n",
    "\n",
    "We'll be using scikit-learn here, choosing the Naive Bayes classifier to start with:"
   ]
  },
  {
   "cell_type": "code",
   "execution_count": 83,
   "metadata": {
    "collapsed": true
   },
   "outputs": [],
   "source": [
    "from sklearn.naive_bayes import MultinomialNB\n",
    "spam_detect_model = MultinomialNB().fit(messages_tfidf, messages[\"label\"])"
   ]
  },
  {
   "cell_type": "markdown",
   "metadata": {},
   "source": [
    "Let's try to classifying our single random message and checking how we do: "
   ]
  },
  {
   "cell_type": "code",
   "execution_count": 84,
   "metadata": {
    "collapsed": false
   },
   "outputs": [
    {
     "name": "stdout",
     "output_type": "stream",
     "text": [
      "predicted ham\n",
      "expected ham\n"
     ]
    }
   ],
   "source": [
    "print (\"predicted\", spam_detect_model.predict(tfidf4)[0])\n",
    "print (\"expected\", messages.label[3])"
   ]
  },
  {
   "cell_type": "markdown",
   "metadata": {},
   "source": [
    "Fantastic! We've developed a model that can attempt to predict spam vs ham classification!"
   ]
  },
  {
   "cell_type": "markdown",
   "metadata": {},
   "source": [
    "## Part 6: Model Evaluation¶"
   ]
  },
  {
   "cell_type": "markdown",
   "metadata": {},
   "source": [
    "Now we want to determine how well our model will do overall on the entire dataset. Let's begin by getting all the predictions:"
   ]
  },
  {
   "cell_type": "code",
   "execution_count": 85,
   "metadata": {
    "collapsed": false
   },
   "outputs": [
    {
     "name": "stdout",
     "output_type": "stream",
     "text": [
      "['ham' 'ham' 'spam' ..., 'ham' 'ham' 'ham']\n"
     ]
    }
   ],
   "source": [
    "all_predictions = spam_detect_model.predict(messages_tfidf)\n",
    "print (all_predictions)"
   ]
  },
  {
   "cell_type": "markdown",
   "metadata": {},
   "source": [
    "We can use SciKit Learn's built-in classification report, which returns precision, recall, f1-score, and a column for support (meaning how many cases supported that classification). Check out the links for more detailed info on each of these metrics and the figure below:"
   ]
  },
  {
   "cell_type": "code",
   "execution_count": 86,
   "metadata": {
    "collapsed": false
   },
   "outputs": [
    {
     "data": {
      "text/html": [
       "<img src=\"https://upload.wikimedia.org/wikipedia/commons/thumb/2/26/Precisionrecall.svg/700px-Precisionrecall.svg.png\"/>"
      ],
      "text/plain": [
       "<IPython.core.display.Image object>"
      ]
     },
     "execution_count": 86,
     "metadata": {},
     "output_type": "execute_result"
    }
   ],
   "source": [
    "from IPython.display import Image\n",
    "Image(url=\"https://upload.wikimedia.org/wikipedia/commons/thumb/2/26/Precisionrecall.svg/700px-Precisionrecall.svg.png\")"
   ]
  },
  {
   "cell_type": "code",
   "execution_count": 88,
   "metadata": {
    "collapsed": false
   },
   "outputs": [
    {
     "name": "stdout",
     "output_type": "stream",
     "text": [
      "             precision    recall  f1-score   support\n",
      "\n",
      "        ham       0.98      1.00      0.99      4825\n",
      "       spam       1.00      0.85      0.92       747\n",
      "\n",
      "avg / total       0.98      0.98      0.98      5572\n",
      "\n"
     ]
    }
   ],
   "source": [
    "from sklearn.metrics import classification_report\n",
    "print (classification_report(messages[\"label\"], all_predictions))\n",
    "\n",
    "#Precision: precision (also called positive predictive value) is the fraction of retrieved instances that are relevant\n",
    "#Recall: the fraction of relevant instances that are retrieved\n",
    "#(url = https://en.wikipedia.org/wiki/Precision_and_recall)\n",
    "#F1-Score: a measure of a test's accuracy. It considers both the precision p and the recall r of the test to compute the score; The F1 score can be interpreted as a weighted average of the precision and recall, where an F1 score reaches its best value at 1 and worst at 0.\n",
    "# F1 url = https://en.wikipedia.org/wiki/F1_score\n",
    "#F1-score = 2*1/[(1/recall)+(1/precision)]"
   ]
  },
  {
   "cell_type": "markdown",
   "metadata": {},
   "source": [
    "There are quite a few possible metrics for evaluating model performance. Which one is the most important depends on the task and the business effects of decisions based off of the model. For example, the cost of mispredicting \"spam\" as \"ham\" is probably much lower than mispredicting \"ham\" as \"spam\".\n",
    "\n",
    "In the above \"evaluation\",we evaluated accuracy on the same data we used for training. You should never actually evaluate on the same dataset you train on!\n",
    "\n",
    "Such evaluation tells us nothing about the true predictive power of our model. If we simply remembered each example during training, the accuracy on training data would trivially be 100%, even though we wouldn't be able to classify any new messages.\n",
    "\n",
    "A proper way is to split the data into a training/test set, where the model only ever sees the training data during its model fitting and parameter tuning. The test data is never used in any way. This is then our final evaluation on test data is representative of true predictive performance."
   ]
  },
  {
   "cell_type": "code",
   "execution_count": 90,
   "metadata": {
    "collapsed": false
   },
   "outputs": [
    {
     "name": "stdout",
     "output_type": "stream",
     "text": [
      "4457 1115 5572\n"
     ]
    }
   ],
   "source": [
    "from sklearn.cross_validation import train_test_split\n",
    "\n",
    "msg_train, msg_test, label_train, label_test = \\\n",
    "train_test_split(messages[\"message\"], messages[\"label\"], test_size=0.2)\n",
    "\n",
    "print (len(msg_train), len(msg_test), len(msg_train)+len(msg_test))"
   ]
  },
  {
   "cell_type": "markdown",
   "metadata": {},
   "source": [
    "The test size is 20% of the entire dataset (1115 messages out of total 5572), and the training is the rest (4457 out of 5572). Note the default split would have been 30/70."
   ]
  },
  {
   "cell_type": "markdown",
   "metadata": {},
   "source": [
    "## Part 7: Creating a Data Pipeline¶"
   ]
  },
  {
   "cell_type": "markdown",
   "metadata": {},
   "source": [
    "Let's run our model again and then predict off the test set. We will use SciKit Learn's pipeline capabilities to store a pipline of workflow. This will allow us to set up all the transformations that we will do to the data for future use. Let's see an example of how it works:"
   ]
  },
  {
   "cell_type": "code",
   "execution_count": 91,
   "metadata": {
    "collapsed": true
   },
   "outputs": [],
   "source": [
    "#use pipeline to run or do all the previous process altogether. \n",
    "from sklearn.pipeline import Pipeline\n",
    "\n",
    "pipeline = Pipeline([\n",
    "        (\"bow\", CountVectorizer(analyzer = text_process)),\n",
    "        (\"tfidf\", TfidfTransformer()), \n",
    "        (\"classifier\", MultinomialNB())])"
   ]
  },
  {
   "cell_type": "code",
   "execution_count": 92,
   "metadata": {
    "collapsed": false
   },
   "outputs": [
    {
     "data": {
      "text/plain": [
       "Pipeline(steps=[('bow', CountVectorizer(analyzer=<function text_process at 0x11f44b840>, binary=False,\n",
       "        decode_error='strict', dtype=<class 'numpy.int64'>,\n",
       "        encoding='utf-8', input='content', lowercase=True, max_df=1.0,\n",
       "        max_features=None, min_df=1, ngram_range=(1, 1), preprocessor=None,...f=False, use_idf=True)), ('classifier', MultinomialNB(alpha=1.0, class_prior=None, fit_prior=True))])"
      ]
     },
     "execution_count": 92,
     "metadata": {},
     "output_type": "execute_result"
    }
   ],
   "source": [
    "pipeline.fit(msg_train, label_train)"
   ]
  },
  {
   "cell_type": "code",
   "execution_count": 97,
   "metadata": {
    "collapsed": true
   },
   "outputs": [],
   "source": [
    "prediction = pipeline.predict(msg_test)"
   ]
  },
  {
   "cell_type": "code",
   "execution_count": 94,
   "metadata": {
    "collapsed": false
   },
   "outputs": [
    {
     "name": "stdout",
     "output_type": "stream",
     "text": [
      "<function classification_report at 0x10dcd1ae8> 2565     ham\n",
      "5305     ham\n",
      "321      ham\n",
      "3242     ham\n",
      "3864    spam\n",
      "1129    spam\n",
      "1811     ham\n",
      "1361     ham\n",
      "332      ham\n",
      "4177     ham\n",
      "4529     ham\n",
      "3569     ham\n",
      "3570     ham\n",
      "5523     ham\n",
      "4174     ham\n",
      "4911     ham\n",
      "1197     ham\n",
      "5066     ham\n",
      "407      ham\n",
      "5454     ham\n",
      "2269    spam\n",
      "2452     ham\n",
      "2738     ham\n",
      "606      ham\n",
      "4824     ham\n",
      "3882     ham\n",
      "3465     ham\n",
      "2187     ham\n",
      "2848    spam\n",
      "2400     ham\n",
      "        ... \n",
      "5358     ham\n",
      "316      ham\n",
      "5000     ham\n",
      "4937     ham\n",
      "3690     ham\n",
      "1763     ham\n",
      "767      ham\n",
      "4725    spam\n",
      "56      spam\n",
      "4723     ham\n",
      "1571     ham\n",
      "889      ham\n",
      "1848    spam\n",
      "1378    spam\n",
      "4700     ham\n",
      "2193     ham\n",
      "2141     ham\n",
      "358     spam\n",
      "2730    spam\n",
      "1212     ham\n",
      "1709     ham\n",
      "2707     ham\n",
      "1150     ham\n",
      "3341     ham\n",
      "3162     ham\n",
      "497      ham\n",
      "2307     ham\n",
      "4788     ham\n",
      "4169    spam\n",
      "895      ham\n",
      "Name: label, dtype: object\n"
     ]
    }
   ],
   "source": [
    "print (classification_report, label_test)"
   ]
  },
  {
   "cell_type": "code",
   "execution_count": 98,
   "metadata": {
    "collapsed": false
   },
   "outputs": [
    {
     "name": "stdout",
     "output_type": "stream",
     "text": [
      "             precision    recall  f1-score   support\n",
      "\n",
      "        ham       1.00      0.96      0.98       993\n",
      "       spam       0.74      1.00      0.85       122\n",
      "\n",
      "avg / total       0.97      0.96      0.96      1115\n",
      "\n"
     ]
    }
   ],
   "source": [
    "print (classification_report(prediction, label_test))"
   ]
  },
  {
   "cell_type": "markdown",
   "metadata": {},
   "source": [
    "## More Resources¶\n",
    "Check out the links below for more info on Natural Language Processing:\n",
    "\n",
    "NLTK Book Online\n",
    "http://www.nltk.org/book/\n",
    "\n",
    "Kaggle Walkthrough:\n",
    "https://www.kaggle.com/c/word2vec-nlp-tutorial/details/part-1-for-beginners-bag-of-words\n",
    "\n",
    "SciKit Learn's Tutorial\n",
    "http://scikit-learn.org/stable/tutorial/text_analytics/working_with_text_data.html\n",
    "\n"
   ]
  },
  {
   "cell_type": "code",
   "execution_count": null,
   "metadata": {
    "collapsed": true
   },
   "outputs": [],
   "source": []
  },
  {
   "cell_type": "code",
   "execution_count": null,
   "metadata": {
    "collapsed": true
   },
   "outputs": [],
   "source": []
  },
  {
   "cell_type": "code",
   "execution_count": null,
   "metadata": {
    "collapsed": true
   },
   "outputs": [],
   "source": []
  }
 ],
 "metadata": {
  "anaconda-cloud": {},
  "kernelspec": {
   "display_name": "Python [default]",
   "language": "python",
   "name": "python3"
  },
  "language_info": {
   "codemirror_mode": {
    "name": "ipython",
    "version": 3
   },
   "file_extension": ".py",
   "mimetype": "text/x-python",
   "name": "python",
   "nbconvert_exporter": "python",
   "pygments_lexer": "ipython3",
   "version": "3.5.2"
  }
 },
 "nbformat": 4,
 "nbformat_minor": 1
}
